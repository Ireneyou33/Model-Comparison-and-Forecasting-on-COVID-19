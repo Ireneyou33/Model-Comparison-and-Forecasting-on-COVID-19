{
  "nbformat": 4,
  "nbformat_minor": 0,
  "metadata": {
    "colab": {
      "name": "ARIMA.ipynb",
      "provenance": [],
      "collapsed_sections": [],
      "mount_file_id": "1qwQ8y6MAYQONmqVxJIULX-uwY8f8pQR-",
      "authorship_tag": "ABX9TyP2wmMW9nK/EofafS+yTgjP",
      "include_colab_link": true
    },
    "kernelspec": {
      "name": "python3",
      "display_name": "Python 3"
    }
  },
  "cells": [
    {
      "cell_type": "markdown",
      "metadata": {
        "id": "view-in-github",
        "colab_type": "text"
      },
      "source": [
        "<a href=\"https://colab.research.google.com/github/Ireneyou33/Model-Comparison-and-Forecasting-on-COVID-19/blob/master/ARIMA.ipynb\" target=\"_parent\"><img src=\"https://colab.research.google.com/assets/colab-badge.svg\" alt=\"Open In Colab\"/></a>"
      ]
    },
    {
      "cell_type": "code",
      "metadata": {
        "id": "5ahqYDSLt9hs",
        "colab_type": "code",
        "colab": {}
      },
      "source": [
        "import numpy as np\n",
        "import pandas as pd\n",
        "from sklearn.linear_model import LinearRegression\n",
        "import datetime as dt\n",
        "import matplotlib.pyplot as plt"
      ],
      "execution_count": null,
      "outputs": []
    },
    {
      "cell_type": "code",
      "metadata": {
        "id": "f4ZMLpAzuT8o",
        "colab_type": "code",
        "colab": {}
      },
      "source": [
        "df_conf=pd.read_csv(\"/content/drive/My Drive/ST494/project/Confirmed.csv\")\n",
        "df_death=pd.read_csv(\"/content/drive/My Drive/ST494/project/Deaths.csv\")\n",
        "df_recover=pd.read_csv(\"/content/drive/My Drive/ST494/project/Recovered.csv\")"
      ],
      "execution_count": null,
      "outputs": []
    },
    {
      "cell_type": "code",
      "metadata": {
        "id": "mBJdKcGkdz9V",
        "colab_type": "code",
        "colab": {
          "base_uri": "https://localhost:8080/",
          "height": 34
        },
        "outputId": "e30d038b-126d-47f7-aea2-57c413327b8c"
      },
      "source": [
        "date=df_conf.columns[4:]\n",
        "for i in range(len(date)):\n",
        "  date.values[i]=pd.to_datetime(date.values[i], format=\"%m/%d/%y\")\n",
        "len(date)"
      ],
      "execution_count": null,
      "outputs": [
        {
          "output_type": "execute_result",
          "data": {
            "text/plain": [
              "159"
            ]
          },
          "metadata": {
            "tags": []
          },
          "execution_count": 12
        }
      ]
    },
    {
      "cell_type": "code",
      "metadata": {
        "id": "pSN0oPfibeqc",
        "colab_type": "code",
        "colab": {
          "base_uri": "https://localhost:8080/",
          "height": 34
        },
        "outputId": "ce35efeb-9db3-418b-e6be-b66d5488d613"
      },
      "source": [
        "# 80% training, 20% testing\n",
        "split_idx=round(len(date)*0.8)\n",
        "split_idx"
      ],
      "execution_count": null,
      "outputs": [
        {
          "output_type": "execute_result",
          "data": {
            "text/plain": [
              "127"
            ]
          },
          "metadata": {
            "tags": []
          },
          "execution_count": 13
        }
      ]
    },
    {
      "cell_type": "code",
      "metadata": {
        "id": "O68Kyxfk1fg6",
        "colab_type": "code",
        "colab": {}
      },
      "source": [
        " def train_test(data, split_index=split_idx):\n",
        "  trainset=data.iloc[:, :split_index]\n",
        "  testset=data.iloc[:, split_index:]\n",
        "  return trainset, testset"
      ],
      "execution_count": null,
      "outputs": []
    },
    {
      "cell_type": "markdown",
      "metadata": {
        "id": "7t32euZpXw_5",
        "colab_type": "text"
      },
      "source": [
        "## ARIMA"
      ]
    },
    {
      "cell_type": "markdown",
      "metadata": {
        "id": "_coIwFEJXzxn",
        "colab_type": "text"
      },
      "source": [
        "### World Class"
      ]
    },
    {
      "cell_type": "code",
      "metadata": {
        "id": "a09jDbFIXy1w",
        "colab_type": "code",
        "colab": {
          "base_uri": "https://localhost:8080/",
          "height": 608
        },
        "outputId": "1946a5eb-2b93-46d3-ab5d-ec8ea44aa891"
      },
      "source": [
        "!pip install pyramid-arima\n",
        "from pyramid.arima import auto_arima"
      ],
      "execution_count": null,
      "outputs": [
        {
          "output_type": "stream",
          "text": [
            "Collecting pyramid-arima\n",
            "\u001b[?25l  Downloading https://files.pythonhosted.org/packages/5c/84/57422f2a6ade3161c586545e38b518ba1b7ab30ee4a4acc29110c0aba2bc/pyramid_arima-0.9.0-cp36-cp36m-manylinux1_x86_64.whl (597kB)\n",
            "\u001b[K     |████████████████████████████████| 604kB 2.8MB/s \n",
            "\u001b[?25hRequirement already satisfied: scipy>=0.9 in /usr/local/lib/python3.6/dist-packages (from pyramid-arima) (1.4.1)\n",
            "Requirement already satisfied: pandas>=0.19 in /usr/local/lib/python3.6/dist-packages (from pyramid-arima) (1.0.5)\n",
            "Requirement already satisfied: statsmodels>=0.9.0 in /usr/local/lib/python3.6/dist-packages (from pyramid-arima) (0.10.2)\n",
            "Requirement already satisfied: scikit-learn>=0.17 in /usr/local/lib/python3.6/dist-packages (from pyramid-arima) (0.22.2.post1)\n",
            "Requirement already satisfied: numpy>=1.10 in /usr/local/lib/python3.6/dist-packages (from pyramid-arima) (1.18.5)\n",
            "Requirement already satisfied: Cython>=0.23 in /usr/local/lib/python3.6/dist-packages (from pyramid-arima) (0.29.21)\n",
            "Requirement already satisfied: python-dateutil>=2.6.1 in /usr/local/lib/python3.6/dist-packages (from pandas>=0.19->pyramid-arima) (2.8.1)\n",
            "Requirement already satisfied: pytz>=2017.2 in /usr/local/lib/python3.6/dist-packages (from pandas>=0.19->pyramid-arima) (2018.9)\n",
            "Requirement already satisfied: patsy>=0.4.0 in /usr/local/lib/python3.6/dist-packages (from statsmodels>=0.9.0->pyramid-arima) (0.5.1)\n",
            "Requirement already satisfied: joblib>=0.11 in /usr/local/lib/python3.6/dist-packages (from scikit-learn>=0.17->pyramid-arima) (0.16.0)\n",
            "Requirement already satisfied: six>=1.5 in /usr/local/lib/python3.6/dist-packages (from python-dateutil>=2.6.1->pandas>=0.19->pyramid-arima) (1.15.0)\n",
            "Installing collected packages: pyramid-arima\n",
            "Successfully installed pyramid-arima-0.9.0\n"
          ],
          "name": "stdout"
        },
        {
          "output_type": "stream",
          "text": [
            "/usr/local/lib/python3.6/dist-packages/sklearn/externals/six.py:31: FutureWarning: The module is deprecated in version 0.21 and will be removed in version 0.23 since we've dropped support for Python 2.7. Please rely on the official version of six (https://pypi.org/project/six/).\n",
            "  \"(https://pypi.org/project/six/).\", FutureWarning)\n",
            "/usr/local/lib/python3.6/dist-packages/statsmodels/tools/_testing.py:19: FutureWarning: pandas.util.testing is deprecated. Use the functions in the public API at pandas.testing instead.\n",
            "  import pandas.util.testing as tm\n",
            "/usr/local/lib/python3.6/dist-packages/sklearn/externals/joblib/__init__.py:15: FutureWarning: sklearn.externals.joblib is deprecated in 0.21 and will be removed in 0.23. Please import this functionality directly from joblib, which can be installed with: pip install joblib. If this warning is raised when loading pickled models, you may need to re-serialize those models with scikit-learn 0.21+.\n",
            "  warnings.warn(msg, category=FutureWarning)\n",
            "/usr/local/lib/python3.6/dist-packages/pyramid/__init__.py:68: UserWarning: \n",
            "    The 'pyramid' package will be migrating to a new namespace beginning in \n",
            "    version 1.0.0: 'pmdarima'. This is due to a package name collision with the\n",
            "    Pyramid web framework. For more information, see Issue #34:\n",
            "    \n",
            "        https://github.com/tgsmith61591/pyramid/issues/34\n",
            "        \n",
            "    The package will subsequently be installable via the name 'pmdarima'; the\n",
            "    only functional change to the user will be the import name. All imports\n",
            "    from 'pyramid' will change to 'pmdarima'.\n",
            "    \n",
            "  \"\"\", UserWarning)\n"
          ],
          "name": "stderr"
        }
      ]
    },
    {
      "cell_type": "code",
      "metadata": {
        "id": "9OopCJeCaD8s",
        "colab_type": "code",
        "colab": {
          "base_uri": "https://localhost:8080/",
          "height": 142
        },
        "outputId": "228ca2c1-c235-41f5-9d7d-b279684a91e4"
      },
      "source": [
        "df_worldclass=worldclass_dataframe(df_conf)\n",
        "df_worldclass"
      ],
      "execution_count": null,
      "outputs": [
        {
          "output_type": "execute_result",
          "data": {
            "text/html": [
              "<div>\n",
              "<style scoped>\n",
              "    .dataframe tbody tr th:only-of-type {\n",
              "        vertical-align: middle;\n",
              "    }\n",
              "\n",
              "    .dataframe tbody tr th {\n",
              "        vertical-align: top;\n",
              "    }\n",
              "\n",
              "    .dataframe thead th {\n",
              "        text-align: right;\n",
              "    }\n",
              "</style>\n",
              "<table border=\"1\" class=\"dataframe\">\n",
              "  <thead>\n",
              "    <tr style=\"text-align: right;\">\n",
              "      <th></th>\n",
              "      <th>2020-01-22</th>\n",
              "      <th>2020-01-23</th>\n",
              "      <th>2020-01-24</th>\n",
              "      <th>2020-01-25</th>\n",
              "      <th>2020-01-26</th>\n",
              "      <th>2020-01-27</th>\n",
              "      <th>2020-01-28</th>\n",
              "      <th>2020-01-29</th>\n",
              "      <th>2020-01-30</th>\n",
              "      <th>2020-01-31</th>\n",
              "      <th>2020-02-01</th>\n",
              "      <th>2020-02-02</th>\n",
              "      <th>2020-02-03</th>\n",
              "      <th>2020-02-04</th>\n",
              "      <th>2020-02-05</th>\n",
              "      <th>2020-02-06</th>\n",
              "      <th>2020-02-07</th>\n",
              "      <th>2020-02-08</th>\n",
              "      <th>2020-02-09</th>\n",
              "      <th>2020-02-10</th>\n",
              "      <th>2020-02-11</th>\n",
              "      <th>2020-02-12</th>\n",
              "      <th>2020-02-13</th>\n",
              "      <th>2020-02-14</th>\n",
              "      <th>2020-02-15</th>\n",
              "      <th>2020-02-16</th>\n",
              "      <th>2020-02-17</th>\n",
              "      <th>2020-02-18</th>\n",
              "      <th>2020-02-19</th>\n",
              "      <th>2020-02-20</th>\n",
              "      <th>2020-02-21</th>\n",
              "      <th>2020-02-22</th>\n",
              "      <th>2020-02-23</th>\n",
              "      <th>2020-02-24</th>\n",
              "      <th>2020-02-25</th>\n",
              "      <th>2020-02-26</th>\n",
              "      <th>2020-02-27</th>\n",
              "      <th>2020-02-28</th>\n",
              "      <th>2020-02-29</th>\n",
              "      <th>2020-03-01</th>\n",
              "      <th>...</th>\n",
              "      <th>2020-05-20</th>\n",
              "      <th>2020-05-21</th>\n",
              "      <th>2020-05-22</th>\n",
              "      <th>2020-05-23</th>\n",
              "      <th>2020-05-24</th>\n",
              "      <th>2020-05-25</th>\n",
              "      <th>2020-05-26</th>\n",
              "      <th>2020-05-27</th>\n",
              "      <th>2020-05-28</th>\n",
              "      <th>2020-05-29</th>\n",
              "      <th>2020-05-30</th>\n",
              "      <th>2020-05-31</th>\n",
              "      <th>2020-06-01</th>\n",
              "      <th>2020-06-02</th>\n",
              "      <th>2020-06-03</th>\n",
              "      <th>2020-06-04</th>\n",
              "      <th>2020-06-05</th>\n",
              "      <th>2020-06-06</th>\n",
              "      <th>2020-06-07</th>\n",
              "      <th>2020-06-08</th>\n",
              "      <th>2020-06-09</th>\n",
              "      <th>2020-06-10</th>\n",
              "      <th>2020-06-11</th>\n",
              "      <th>2020-06-12</th>\n",
              "      <th>2020-06-13</th>\n",
              "      <th>2020-06-14</th>\n",
              "      <th>2020-06-15</th>\n",
              "      <th>2020-06-16</th>\n",
              "      <th>2020-06-17</th>\n",
              "      <th>2020-06-18</th>\n",
              "      <th>2020-06-19</th>\n",
              "      <th>2020-06-20</th>\n",
              "      <th>2020-06-21</th>\n",
              "      <th>2020-06-22</th>\n",
              "      <th>2020-06-23</th>\n",
              "      <th>2020-06-24</th>\n",
              "      <th>2020-06-25</th>\n",
              "      <th>2020-06-26</th>\n",
              "      <th>2020-06-27</th>\n",
              "      <th>2020-06-28</th>\n",
              "    </tr>\n",
              "  </thead>\n",
              "  <tbody>\n",
              "    <tr>\n",
              "      <th>0</th>\n",
              "      <td>555</td>\n",
              "      <td>654</td>\n",
              "      <td>941</td>\n",
              "      <td>1434</td>\n",
              "      <td>2118</td>\n",
              "      <td>2927</td>\n",
              "      <td>5578</td>\n",
              "      <td>6166</td>\n",
              "      <td>8234</td>\n",
              "      <td>9927</td>\n",
              "      <td>12038</td>\n",
              "      <td>16787</td>\n",
              "      <td>19881</td>\n",
              "      <td>23892</td>\n",
              "      <td>27635</td>\n",
              "      <td>30794</td>\n",
              "      <td>34391</td>\n",
              "      <td>37120</td>\n",
              "      <td>40150</td>\n",
              "      <td>42762</td>\n",
              "      <td>44802</td>\n",
              "      <td>45221</td>\n",
              "      <td>60368</td>\n",
              "      <td>66885</td>\n",
              "      <td>69030</td>\n",
              "      <td>71224</td>\n",
              "      <td>73258</td>\n",
              "      <td>75136</td>\n",
              "      <td>75639</td>\n",
              "      <td>76197</td>\n",
              "      <td>76819</td>\n",
              "      <td>78572</td>\n",
              "      <td>78958</td>\n",
              "      <td>79525</td>\n",
              "      <td>80372</td>\n",
              "      <td>81346</td>\n",
              "      <td>82704</td>\n",
              "      <td>84070</td>\n",
              "      <td>85967</td>\n",
              "      <td>88325</td>\n",
              "      <td>...</td>\n",
              "      <td>5005761</td>\n",
              "      <td>5112366</td>\n",
              "      <td>5220585</td>\n",
              "      <td>5321022</td>\n",
              "      <td>5417354</td>\n",
              "      <td>5504324</td>\n",
              "      <td>5599216</td>\n",
              "      <td>5702113</td>\n",
              "      <td>5820253</td>\n",
              "      <td>5941938</td>\n",
              "      <td>6070884</td>\n",
              "      <td>6178860</td>\n",
              "      <td>6275246</td>\n",
              "      <td>6387981</td>\n",
              "      <td>6515768</td>\n",
              "      <td>6642985</td>\n",
              "      <td>6776258</td>\n",
              "      <td>6902782</td>\n",
              "      <td>7015871</td>\n",
              "      <td>7119487</td>\n",
              "      <td>7243018</td>\n",
              "      <td>7376659</td>\n",
              "      <td>7515050</td>\n",
              "      <td>7644586</td>\n",
              "      <td>7779207</td>\n",
              "      <td>7912752</td>\n",
              "      <td>8034787</td>\n",
              "      <td>8174568</td>\n",
              "      <td>8350578</td>\n",
              "      <td>8489604</td>\n",
              "      <td>8670951</td>\n",
              "      <td>8829814</td>\n",
              "      <td>8961235</td>\n",
              "      <td>9099271</td>\n",
              "      <td>9264657</td>\n",
              "      <td>9432072</td>\n",
              "      <td>9610551</td>\n",
              "      <td>9802294</td>\n",
              "      <td>9980257</td>\n",
              "      <td>10145791</td>\n",
              "    </tr>\n",
              "  </tbody>\n",
              "</table>\n",
              "<p>1 rows × 159 columns</p>\n",
              "</div>"
            ],
            "text/plain": [
              "   2020-01-22  2020-01-23  2020-01-24  ...  2020-06-26  2020-06-27  2020-06-28\n",
              "0         555         654         941  ...     9802294     9980257    10145791\n",
              "\n",
              "[1 rows x 159 columns]"
            ]
          },
          "metadata": {
            "tags": []
          },
          "execution_count": 16
        }
      ]
    },
    {
      "cell_type": "code",
      "metadata": {
        "id": "TtSznvKpaegW",
        "colab_type": "code",
        "colab": {}
      },
      "source": [
        "trainset,testset=train_test(df_worldclass)"
      ],
      "execution_count": null,
      "outputs": []
    },
    {
      "cell_type": "code",
      "metadata": {
        "id": "_MWdIvyFbdFA",
        "colab_type": "code",
        "colab": {}
      },
      "source": [
        "data=df_worldclass.T"
      ],
      "execution_count": null,
      "outputs": []
    },
    {
      "cell_type": "code",
      "metadata": {
        "id": "aFnNXKv6asz-",
        "colab_type": "code",
        "colab": {
          "base_uri": "https://localhost:8080/",
          "height": 202
        },
        "outputId": "d7ec1244-2b0e-4c1b-ba0a-562d4bc4b098"
      },
      "source": [
        "stepwise_model = auto_arima(data, start_p=1, start_q=1,\n",
        "                           max_p=59, max_q=59,\n",
        "                           start_P=0, seasonal=False,\n",
        "                           d=1, D=1, trace=True,\n",
        "                           error_action='ignore',  \n",
        "                           suppress_warnings=True, \n",
        "                           stepwise=True)\n",
        "print(stepwise_model.aic())"
      ],
      "execution_count": null,
      "outputs": [
        {
          "output_type": "stream",
          "text": [
            "Fit ARIMA: order=(1, 1, 1); AIC=nan, BIC=nan, Fit time=nan seconds\n",
            "Fit ARIMA: order=(0, 1, 0); AIC=3887.996, BIC=3894.122, Fit time=0.007 seconds\n",
            "Fit ARIMA: order=(1, 1, 0); AIC=3362.917, BIC=3372.104, Fit time=0.038 seconds\n",
            "Fit ARIMA: order=(0, 1, 1); AIC=3719.657, BIC=3728.845, Fit time=0.029 seconds\n",
            "Fit ARIMA: order=(2, 1, 0); AIC=3360.184, BIC=3372.434, Fit time=0.044 seconds\n",
            "Fit ARIMA: order=(2, 1, 1); AIC=3353.704, BIC=3369.017, Fit time=0.188 seconds\n",
            "Fit ARIMA: order=(3, 1, 2); AIC=nan, BIC=nan, Fit time=nan seconds\n",
            "Fit ARIMA: order=(3, 1, 1); AIC=3364.154, BIC=3382.529, Fit time=1.214 seconds\n",
            "Fit ARIMA: order=(2, 1, 2); AIC=3364.469, BIC=3382.845, Fit time=0.686 seconds\n",
            "Total fit time: 2.268 seconds\n",
            "3353.703927069954\n"
          ],
          "name": "stdout"
        }
      ]
    },
    {
      "cell_type": "code",
      "metadata": {
        "id": "wbN_GmSTbS19",
        "colab_type": "code",
        "colab": {
          "base_uri": "https://localhost:8080/",
          "height": 84
        },
        "outputId": "f090e12f-d615-41c1-bc52-00380ccd10b5"
      },
      "source": [
        "fit_data=trainset.T\n",
        "# fit_data = fit_data.dropna(inplace=True)\n",
        "stepwise_model.fit(fit_data)"
      ],
      "execution_count": null,
      "outputs": [
        {
          "output_type": "execute_result",
          "data": {
            "text/plain": [
              "ARIMA(callback=None, disp=0, maxiter=50, method=None, order=(2, 1, 1),\n",
              "      out_of_sample_size=0, scoring='mse', scoring_args={}, seasonal_order=None,\n",
              "      solver='lbfgs', start_params=None, suppress_warnings=True,\n",
              "      transparams=True, trend='c')"
            ]
          },
          "metadata": {
            "tags": []
          },
          "execution_count": 20
        }
      ]
    },
    {
      "cell_type": "code",
      "metadata": {
        "id": "-V50r6JmmNZf",
        "colab_type": "code",
        "colab": {
          "base_uri": "https://localhost:8080/",
          "height": 358
        },
        "outputId": "877052b3-07a6-442d-a06d-3156cc596f00"
      },
      "source": [
        "stepwise_model.summary()"
      ],
      "execution_count": null,
      "outputs": [
        {
          "output_type": "execute_result",
          "data": {
            "text/html": [
              "<table class=\"simpletable\">\n",
              "<caption>ARIMA Model Results</caption>\n",
              "<tr>\n",
              "  <th>Dep. Variable:</th>        <td>D.y</td>       <th>  No. Observations:  </th>    <td>126</td>   \n",
              "</tr>\n",
              "<tr>\n",
              "  <th>Model:</th>          <td>ARIMA(2, 1, 1)</td>  <th>  Log Likelihood     </th> <td>-1284.013</td>\n",
              "</tr>\n",
              "<tr>\n",
              "  <th>Method:</th>             <td>css-mle</td>     <th>  S.D. of innovations</th> <td>6345.958</td> \n",
              "</tr>\n",
              "<tr>\n",
              "  <th>Date:</th>          <td>Sat, 15 Aug 2020</td> <th>  AIC                </th> <td>2578.026</td> \n",
              "</tr>\n",
              "<tr>\n",
              "  <th>Time:</th>              <td>18:31:52</td>     <th>  BIC                </th> <td>2592.208</td> \n",
              "</tr>\n",
              "<tr>\n",
              "  <th>Sample:</th>                <td>1</td>        <th>  HQIC               </th> <td>2583.788</td> \n",
              "</tr>\n",
              "<tr>\n",
              "  <th></th>                       <td> </td>        <th>                     </th>     <td> </td>    \n",
              "</tr>\n",
              "</table>\n",
              "<table class=\"simpletable\">\n",
              "<tr>\n",
              "      <td></td>         <th>coef</th>     <th>std err</th>      <th>z</th>      <th>P>|z|</th>  <th>[0.025</th>    <th>0.975]</th>  \n",
              "</tr>\n",
              "<tr>\n",
              "  <th>const</th>     <td> 4.525e+04</td> <td> 4.15e+04</td> <td>    1.091</td> <td> 0.277</td> <td> -3.6e+04</td> <td> 1.27e+05</td>\n",
              "</tr>\n",
              "<tr>\n",
              "  <th>ar.L1.D.y</th> <td>    1.4352</td> <td>    0.175</td> <td>    8.222</td> <td> 0.000</td> <td>    1.093</td> <td>    1.777</td>\n",
              "</tr>\n",
              "<tr>\n",
              "  <th>ar.L2.D.y</th> <td>   -0.4378</td> <td>    0.174</td> <td>   -2.521</td> <td> 0.013</td> <td>   -0.778</td> <td>   -0.097</td>\n",
              "</tr>\n",
              "<tr>\n",
              "  <th>ma.L1.D.y</th> <td>   -0.6101</td> <td>    0.142</td> <td>   -4.285</td> <td> 0.000</td> <td>   -0.889</td> <td>   -0.331</td>\n",
              "</tr>\n",
              "</table>\n",
              "<table class=\"simpletable\">\n",
              "<caption>Roots</caption>\n",
              "<tr>\n",
              "    <td></td>   <th>            Real</th>  <th>         Imaginary</th> <th>         Modulus</th>  <th>        Frequency</th>\n",
              "</tr>\n",
              "<tr>\n",
              "  <th>AR.1</th> <td>           1.0045</td> <td>          +0.0000j</td> <td>           1.0045</td> <td>           0.0000</td>\n",
              "</tr>\n",
              "<tr>\n",
              "  <th>AR.2</th> <td>           2.2740</td> <td>          +0.0000j</td> <td>           2.2740</td> <td>           0.0000</td>\n",
              "</tr>\n",
              "<tr>\n",
              "  <th>MA.1</th> <td>           1.6391</td> <td>          +0.0000j</td> <td>           1.6391</td> <td>           0.0000</td>\n",
              "</tr>\n",
              "</table>"
            ],
            "text/plain": [
              "<class 'statsmodels.iolib.summary.Summary'>\n",
              "\"\"\"\n",
              "                             ARIMA Model Results                              \n",
              "==============================================================================\n",
              "Dep. Variable:                    D.y   No. Observations:                  126\n",
              "Model:                 ARIMA(2, 1, 1)   Log Likelihood               -1284.013\n",
              "Method:                       css-mle   S.D. of innovations           6345.958\n",
              "Date:                Sat, 15 Aug 2020   AIC                           2578.026\n",
              "Time:                        18:31:52   BIC                           2592.208\n",
              "Sample:                             1   HQIC                          2583.788\n",
              "                                                                              \n",
              "==============================================================================\n",
              "                 coef    std err          z      P>|z|      [0.025      0.975]\n",
              "------------------------------------------------------------------------------\n",
              "const       4.525e+04   4.15e+04      1.091      0.277    -3.6e+04    1.27e+05\n",
              "ar.L1.D.y      1.4352      0.175      8.222      0.000       1.093       1.777\n",
              "ar.L2.D.y     -0.4378      0.174     -2.521      0.013      -0.778      -0.097\n",
              "ma.L1.D.y     -0.6101      0.142     -4.285      0.000      -0.889      -0.331\n",
              "                                    Roots                                    \n",
              "=============================================================================\n",
              "                  Real          Imaginary           Modulus         Frequency\n",
              "-----------------------------------------------------------------------------\n",
              "AR.1            1.0045           +0.0000j            1.0045            0.0000\n",
              "AR.2            2.2740           +0.0000j            2.2740            0.0000\n",
              "MA.1            1.6391           +0.0000j            1.6391            0.0000\n",
              "-----------------------------------------------------------------------------\n",
              "\"\"\""
            ]
          },
          "metadata": {
            "tags": []
          },
          "execution_count": 21
        }
      ]
    },
    {
      "cell_type": "code",
      "metadata": {
        "id": "koC-pwGacrQR",
        "colab_type": "code",
        "colab": {}
      },
      "source": [
        "future_forecast = stepwise_model.predict(n_periods=len(date) - split_idx)\n",
        "df_origin=pd.DataFrame(testset, columns=date[split_idx:])"
      ],
      "execution_count": null,
      "outputs": []
    },
    {
      "cell_type": "code",
      "metadata": {
        "id": "ChqMgBPPiT47",
        "colab_type": "code",
        "colab": {
          "base_uri": "https://localhost:8080/",
          "height": 114
        },
        "outputId": "f65a5f79-812d-472e-e61a-a4823b281ebe"
      },
      "source": [
        "df_predict=pd.DataFrame(np.array([future_forecast]),columns=date[split_idx:])\n",
        "df_predict"
      ],
      "execution_count": null,
      "outputs": [
        {
          "output_type": "execute_result",
          "data": {
            "text/html": [
              "<div>\n",
              "<style scoped>\n",
              "    .dataframe tbody tr th:only-of-type {\n",
              "        vertical-align: middle;\n",
              "    }\n",
              "\n",
              "    .dataframe tbody tr th {\n",
              "        vertical-align: top;\n",
              "    }\n",
              "\n",
              "    .dataframe thead th {\n",
              "        text-align: right;\n",
              "    }\n",
              "</style>\n",
              "<table border=\"1\" class=\"dataframe\">\n",
              "  <thead>\n",
              "    <tr style=\"text-align: right;\">\n",
              "      <th></th>\n",
              "      <th>2020-05-28 00:00:00</th>\n",
              "      <th>2020-05-29 00:00:00</th>\n",
              "      <th>2020-05-30 00:00:00</th>\n",
              "      <th>2020-05-31 00:00:00</th>\n",
              "      <th>2020-06-01 00:00:00</th>\n",
              "      <th>2020-06-02 00:00:00</th>\n",
              "      <th>2020-06-03 00:00:00</th>\n",
              "      <th>2020-06-04 00:00:00</th>\n",
              "      <th>2020-06-05 00:00:00</th>\n",
              "      <th>2020-06-06 00:00:00</th>\n",
              "      <th>2020-06-07 00:00:00</th>\n",
              "      <th>2020-06-08 00:00:00</th>\n",
              "      <th>2020-06-09 00:00:00</th>\n",
              "      <th>2020-06-10 00:00:00</th>\n",
              "      <th>2020-06-11 00:00:00</th>\n",
              "      <th>2020-06-12 00:00:00</th>\n",
              "      <th>2020-06-13 00:00:00</th>\n",
              "      <th>2020-06-14 00:00:00</th>\n",
              "      <th>2020-06-15 00:00:00</th>\n",
              "      <th>2020-06-16 00:00:00</th>\n",
              "      <th>2020-06-17 00:00:00</th>\n",
              "      <th>2020-06-18 00:00:00</th>\n",
              "      <th>2020-06-19 00:00:00</th>\n",
              "      <th>2020-06-20 00:00:00</th>\n",
              "      <th>2020-06-21 00:00:00</th>\n",
              "      <th>2020-06-22 00:00:00</th>\n",
              "      <th>2020-06-23 00:00:00</th>\n",
              "      <th>2020-06-24 00:00:00</th>\n",
              "      <th>2020-06-25 00:00:00</th>\n",
              "      <th>2020-06-26 00:00:00</th>\n",
              "      <th>2020-06-27 00:00:00</th>\n",
              "      <th>2020-06-28 00:00:00</th>\n",
              "    </tr>\n",
              "  </thead>\n",
              "  <tbody>\n",
              "    <tr>\n",
              "      <th>0</th>\n",
              "      <td>5.803271e+06</td>\n",
              "      <td>5.903527e+06</td>\n",
              "      <td>6.003250e+06</td>\n",
              "      <td>6.102601e+06</td>\n",
              "      <td>6.201653e+06</td>\n",
              "      <td>6.300438e+06</td>\n",
              "      <td>6.398972e+06</td>\n",
              "      <td>6.497260e+06</td>\n",
              "      <td>6.595308e+06</td>\n",
              "      <td>6.693117e+06</td>\n",
              "      <td>6.790689e+06</td>\n",
              "      <td>6.888025e+06</td>\n",
              "      <td>6.985126e+06</td>\n",
              "      <td>7.081993e+06</td>\n",
              "      <td>7.178628e+06</td>\n",
              "      <td>7.275032e+06</td>\n",
              "      <td>7.371205e+06</td>\n",
              "      <td>7.467148e+06</td>\n",
              "      <td>7.562864e+06</td>\n",
              "      <td>7.658351e+06</td>\n",
              "      <td>7.753613e+06</td>\n",
              "      <td>7.848649e+06</td>\n",
              "      <td>7.943461e+06</td>\n",
              "      <td>8.038050e+06</td>\n",
              "      <td>8.132416e+06</td>\n",
              "      <td>8.226561e+06</td>\n",
              "      <td>8.320486e+06</td>\n",
              "      <td>8.414192e+06</td>\n",
              "      <td>8.507679e+06</td>\n",
              "      <td>8.600949e+06</td>\n",
              "      <td>8.694003e+06</td>\n",
              "      <td>8.786841e+06</td>\n",
              "    </tr>\n",
              "  </tbody>\n",
              "</table>\n",
              "</div>"
            ],
            "text/plain": [
              "     2020-05-28  ...    2020-06-28\n",
              "0  5.803271e+06  ...  8.786841e+06\n",
              "\n",
              "[1 rows x 32 columns]"
            ]
          },
          "metadata": {
            "tags": []
          },
          "execution_count": 25
        }
      ]
    },
    {
      "cell_type": "code",
      "metadata": {
        "id": "F76eGUSoh6aC",
        "colab_type": "code",
        "colab": {
          "base_uri": "https://localhost:8080/",
          "height": 34
        },
        "outputId": "13f5f23d-04c8-4f8d-f99b-b3a08699f9b9"
      },
      "source": [
        "arima_residuals = np.array(df_predict) - np.array(df_origin)\n",
        "arima_rmse = np.sqrt(np.sum(np.power(arima_residuals,2)) / len(arima_residuals))\n",
        "print('RMSE = %.2f' % arima_rmse)"
      ],
      "execution_count": null,
      "outputs": [
        {
          "output_type": "stream",
          "text": [
            "RMSE = 3599802.19\n"
          ],
          "name": "stdout"
        }
      ]
    },
    {
      "cell_type": "code",
      "metadata": {
        "id": "g36die8Ad-N4",
        "colab_type": "code",
        "colab": {
          "base_uri": "https://localhost:8080/",
          "height": 143
        },
        "outputId": "e7995d7b-b112-4ce1-8fd7-28468f2bd7f7"
      },
      "source": [
        "frames=[df_origin,df_predict]\n",
        "df = pd.concat(frames, ignore_index=True)\n",
        "df=df.rename(index={0:\"Original\",1:\"Predict\"})\n",
        "df"
      ],
      "execution_count": null,
      "outputs": [
        {
          "output_type": "execute_result",
          "data": {
            "text/html": [
              "<div>\n",
              "<style scoped>\n",
              "    .dataframe tbody tr th:only-of-type {\n",
              "        vertical-align: middle;\n",
              "    }\n",
              "\n",
              "    .dataframe tbody tr th {\n",
              "        vertical-align: top;\n",
              "    }\n",
              "\n",
              "    .dataframe thead th {\n",
              "        text-align: right;\n",
              "    }\n",
              "</style>\n",
              "<table border=\"1\" class=\"dataframe\">\n",
              "  <thead>\n",
              "    <tr style=\"text-align: right;\">\n",
              "      <th></th>\n",
              "      <th>2020-05-28 00:00:00</th>\n",
              "      <th>2020-05-29 00:00:00</th>\n",
              "      <th>2020-05-30 00:00:00</th>\n",
              "      <th>2020-05-31 00:00:00</th>\n",
              "      <th>2020-06-01 00:00:00</th>\n",
              "      <th>2020-06-02 00:00:00</th>\n",
              "      <th>2020-06-03 00:00:00</th>\n",
              "      <th>2020-06-04 00:00:00</th>\n",
              "      <th>2020-06-05 00:00:00</th>\n",
              "      <th>2020-06-06 00:00:00</th>\n",
              "      <th>2020-06-07 00:00:00</th>\n",
              "      <th>2020-06-08 00:00:00</th>\n",
              "      <th>2020-06-09 00:00:00</th>\n",
              "      <th>2020-06-10 00:00:00</th>\n",
              "      <th>2020-06-11 00:00:00</th>\n",
              "      <th>2020-06-12 00:00:00</th>\n",
              "      <th>2020-06-13 00:00:00</th>\n",
              "      <th>2020-06-14 00:00:00</th>\n",
              "      <th>2020-06-15 00:00:00</th>\n",
              "      <th>2020-06-16 00:00:00</th>\n",
              "      <th>2020-06-17 00:00:00</th>\n",
              "      <th>2020-06-18 00:00:00</th>\n",
              "      <th>2020-06-19 00:00:00</th>\n",
              "      <th>2020-06-20 00:00:00</th>\n",
              "      <th>2020-06-21 00:00:00</th>\n",
              "      <th>2020-06-22 00:00:00</th>\n",
              "      <th>2020-06-23 00:00:00</th>\n",
              "      <th>2020-06-24 00:00:00</th>\n",
              "      <th>2020-06-25 00:00:00</th>\n",
              "      <th>2020-06-26 00:00:00</th>\n",
              "      <th>2020-06-27 00:00:00</th>\n",
              "      <th>2020-06-28 00:00:00</th>\n",
              "    </tr>\n",
              "  </thead>\n",
              "  <tbody>\n",
              "    <tr>\n",
              "      <th>Original</th>\n",
              "      <td>5.820253e+06</td>\n",
              "      <td>5.941938e+06</td>\n",
              "      <td>6.070884e+06</td>\n",
              "      <td>6.178860e+06</td>\n",
              "      <td>6.275246e+06</td>\n",
              "      <td>6.387981e+06</td>\n",
              "      <td>6.515768e+06</td>\n",
              "      <td>6.642985e+06</td>\n",
              "      <td>6.776258e+06</td>\n",
              "      <td>6.902782e+06</td>\n",
              "      <td>7.015871e+06</td>\n",
              "      <td>7.119487e+06</td>\n",
              "      <td>7.243018e+06</td>\n",
              "      <td>7.376659e+06</td>\n",
              "      <td>7.515050e+06</td>\n",
              "      <td>7.644586e+06</td>\n",
              "      <td>7.779207e+06</td>\n",
              "      <td>7.912752e+06</td>\n",
              "      <td>8.034787e+06</td>\n",
              "      <td>8.174568e+06</td>\n",
              "      <td>8.350578e+06</td>\n",
              "      <td>8.489604e+06</td>\n",
              "      <td>8.670951e+06</td>\n",
              "      <td>8.829814e+06</td>\n",
              "      <td>8.961235e+06</td>\n",
              "      <td>9.099271e+06</td>\n",
              "      <td>9.264657e+06</td>\n",
              "      <td>9.432072e+06</td>\n",
              "      <td>9.610551e+06</td>\n",
              "      <td>9.802294e+06</td>\n",
              "      <td>9.980257e+06</td>\n",
              "      <td>1.014579e+07</td>\n",
              "    </tr>\n",
              "    <tr>\n",
              "      <th>Predict</th>\n",
              "      <td>5.803271e+06</td>\n",
              "      <td>5.903527e+06</td>\n",
              "      <td>6.003250e+06</td>\n",
              "      <td>6.102601e+06</td>\n",
              "      <td>6.201653e+06</td>\n",
              "      <td>6.300438e+06</td>\n",
              "      <td>6.398972e+06</td>\n",
              "      <td>6.497260e+06</td>\n",
              "      <td>6.595308e+06</td>\n",
              "      <td>6.693117e+06</td>\n",
              "      <td>6.790689e+06</td>\n",
              "      <td>6.888025e+06</td>\n",
              "      <td>6.985126e+06</td>\n",
              "      <td>7.081993e+06</td>\n",
              "      <td>7.178628e+06</td>\n",
              "      <td>7.275032e+06</td>\n",
              "      <td>7.371205e+06</td>\n",
              "      <td>7.467148e+06</td>\n",
              "      <td>7.562864e+06</td>\n",
              "      <td>7.658351e+06</td>\n",
              "      <td>7.753613e+06</td>\n",
              "      <td>7.848649e+06</td>\n",
              "      <td>7.943461e+06</td>\n",
              "      <td>8.038050e+06</td>\n",
              "      <td>8.132416e+06</td>\n",
              "      <td>8.226561e+06</td>\n",
              "      <td>8.320486e+06</td>\n",
              "      <td>8.414192e+06</td>\n",
              "      <td>8.507679e+06</td>\n",
              "      <td>8.600949e+06</td>\n",
              "      <td>8.694003e+06</td>\n",
              "      <td>8.786841e+06</td>\n",
              "    </tr>\n",
              "  </tbody>\n",
              "</table>\n",
              "</div>"
            ],
            "text/plain": [
              "            2020-05-28  ...    2020-06-28\n",
              "Original  5.820253e+06  ...  1.014579e+07\n",
              "Predict   5.803271e+06  ...  8.786841e+06\n",
              "\n",
              "[2 rows x 32 columns]"
            ]
          },
          "metadata": {
            "tags": []
          },
          "execution_count": 27
        }
      ]
    },
    {
      "cell_type": "code",
      "metadata": {
        "id": "p0S8bwTRlAct",
        "colab_type": "code",
        "colab": {
          "base_uri": "https://localhost:8080/",
          "height": 342
        },
        "outputId": "910f4205-d339-431a-c761-513ca5086557"
      },
      "source": [
        "plt.plot(df.loc[\"Original\"])\n",
        "plt.plot(df.loc[\"Predict\"])\n",
        "plt.xticks(rotation=30)\n",
        "plt.legend('Upper Left', labels=[\"Original\",\"Predict\"])\n",
        "plt.title(\"World Class\")\n",
        "plt.show()"
      ],
      "execution_count": null,
      "outputs": [
        {
          "output_type": "stream",
          "text": [
            "/usr/local/lib/python3.6/dist-packages/ipykernel_launcher.py:4: UserWarning: You have mixed positional and keyword arguments, some input may be discarded.\n",
            "  after removing the cwd from sys.path.\n"
          ],
          "name": "stderr"
        },
        {
          "output_type": "display_data",
          "data": {
            "image/png": "[encoded data removed]",
            "text/plain": [
              "<Figure size 432x288 with 1 Axes>"
            ]
          },
          "metadata": {
            "tags": [],
            "needs_background": "light"
          }
        }
      ]
    },
    {
      "cell_type": "code",
      "metadata": {
        "id": "0Mx8sgVUlH-G",
        "colab_type": "code",
        "colab": {
          "base_uri": "https://localhost:8080/",
          "height": 334
        },
        "outputId": "539323bd-9619-4794-f698-d288237e31d3"
      },
      "source": [
        "plt.plot(df_worldclass.iloc[0])\n",
        "plt.plot(df.loc[\"Predict\"])\n",
        "plt.xticks(rotation=30)\n",
        "plt.legend('best', labels=[\"Original\",\"Predict\"])\n",
        "plt.title(\"World Class\")\n",
        "plt.show()"
      ],
      "execution_count": null,
      "outputs": [
        {
          "output_type": "stream",
          "text": [
            "/usr/local/lib/python3.6/dist-packages/ipykernel_launcher.py:4: UserWarning: You have mixed positional and keyword arguments, some input may be discarded.\n",
            "  after removing the cwd from sys.path.\n"
          ],
          "name": "stderr"
        },
        {
          "output_type": "display_data",
          "data": {
            "image/png": "[encoded data removed]",
            "text/plain": [
              "<Figure size 432x288 with 1 Axes>"
            ]
          },
          "metadata": {
            "tags": [],
            "needs_background": "light"
          }
        }
      ]
    },
    {
      "cell_type": "markdown",
      "metadata": {
        "id": "qxtY2kFq7-7a",
        "colab_type": "text"
      },
      "source": [
        "### China"
      ]
    },
    {
      "cell_type": "code",
      "metadata": {
        "id": "ZxoEjBukue75",
        "colab_type": "code",
        "colab": {}
      },
      "source": [
        "arr, date=sum_regioncase(df_conf, \"China\")\n",
        "df_china=convert_dataframe(arr,date)"
      ],
      "execution_count": null,
      "outputs": []
    },
    {
      "cell_type": "code",
      "metadata": {
        "id": "hXYpHfeR8wkw",
        "colab_type": "code",
        "colab": {
          "base_uri": "https://localhost:8080/",
          "height": 142
        },
        "outputId": "ddb87b39-51a1-4079-e057-a2c836f4232b"
      },
      "source": [
        "df_china"
      ],
      "execution_count": null,
      "outputs": [
        {
          "output_type": "execute_result",
          "data": {
            "text/html": [
              "<div>\n",
              "<style scoped>\n",
              "    .dataframe tbody tr th:only-of-type {\n",
              "        vertical-align: middle;\n",
              "    }\n",
              "\n",
              "    .dataframe tbody tr th {\n",
              "        vertical-align: top;\n",
              "    }\n",
              "\n",
              "    .dataframe thead th {\n",
              "        text-align: right;\n",
              "    }\n",
              "</style>\n",
              "<table border=\"1\" class=\"dataframe\">\n",
              "  <thead>\n",
              "    <tr style=\"text-align: right;\">\n",
              "      <th></th>\n",
              "      <th>2020-01-22</th>\n",
              "      <th>2020-01-23</th>\n",
              "      <th>2020-01-24</th>\n",
              "      <th>2020-01-25</th>\n",
              "      <th>2020-01-26</th>\n",
              "      <th>2020-01-27</th>\n",
              "      <th>2020-01-28</th>\n",
              "      <th>2020-01-29</th>\n",
              "      <th>2020-01-30</th>\n",
              "      <th>2020-01-31</th>\n",
              "      <th>2020-02-01</th>\n",
              "      <th>2020-02-02</th>\n",
              "      <th>2020-02-03</th>\n",
              "      <th>2020-02-04</th>\n",
              "      <th>2020-02-05</th>\n",
              "      <th>2020-02-06</th>\n",
              "      <th>2020-02-07</th>\n",
              "      <th>2020-02-08</th>\n",
              "      <th>2020-02-09</th>\n",
              "      <th>2020-02-10</th>\n",
              "      <th>2020-02-11</th>\n",
              "      <th>2020-02-12</th>\n",
              "      <th>2020-02-13</th>\n",
              "      <th>2020-02-14</th>\n",
              "      <th>2020-02-15</th>\n",
              "      <th>2020-02-16</th>\n",
              "      <th>2020-02-17</th>\n",
              "      <th>2020-02-18</th>\n",
              "      <th>2020-02-19</th>\n",
              "      <th>2020-02-20</th>\n",
              "      <th>2020-02-21</th>\n",
              "      <th>2020-02-22</th>\n",
              "      <th>2020-02-23</th>\n",
              "      <th>2020-02-24</th>\n",
              "      <th>2020-02-25</th>\n",
              "      <th>2020-02-26</th>\n",
              "      <th>2020-02-27</th>\n",
              "      <th>2020-02-28</th>\n",
              "      <th>2020-02-29</th>\n",
              "      <th>2020-03-01</th>\n",
              "      <th>...</th>\n",
              "      <th>2020-05-20</th>\n",
              "      <th>2020-05-21</th>\n",
              "      <th>2020-05-22</th>\n",
              "      <th>2020-05-23</th>\n",
              "      <th>2020-05-24</th>\n",
              "      <th>2020-05-25</th>\n",
              "      <th>2020-05-26</th>\n",
              "      <th>2020-05-27</th>\n",
              "      <th>2020-05-28</th>\n",
              "      <th>2020-05-29</th>\n",
              "      <th>2020-05-30</th>\n",
              "      <th>2020-05-31</th>\n",
              "      <th>2020-06-01</th>\n",
              "      <th>2020-06-02</th>\n",
              "      <th>2020-06-03</th>\n",
              "      <th>2020-06-04</th>\n",
              "      <th>2020-06-05</th>\n",
              "      <th>2020-06-06</th>\n",
              "      <th>2020-06-07</th>\n",
              "      <th>2020-06-08</th>\n",
              "      <th>2020-06-09</th>\n",
              "      <th>2020-06-10</th>\n",
              "      <th>2020-06-11</th>\n",
              "      <th>2020-06-12</th>\n",
              "      <th>2020-06-13</th>\n",
              "      <th>2020-06-14</th>\n",
              "      <th>2020-06-15</th>\n",
              "      <th>2020-06-16</th>\n",
              "      <th>2020-06-17</th>\n",
              "      <th>2020-06-18</th>\n",
              "      <th>2020-06-19</th>\n",
              "      <th>2020-06-20</th>\n",
              "      <th>2020-06-21</th>\n",
              "      <th>2020-06-22</th>\n",
              "      <th>2020-06-23</th>\n",
              "      <th>2020-06-24</th>\n",
              "      <th>2020-06-25</th>\n",
              "      <th>2020-06-26</th>\n",
              "      <th>2020-06-27</th>\n",
              "      <th>2020-06-28</th>\n",
              "    </tr>\n",
              "  </thead>\n",
              "  <tbody>\n",
              "    <tr>\n",
              "      <th>0</th>\n",
              "      <td>548</td>\n",
              "      <td>643</td>\n",
              "      <td>920</td>\n",
              "      <td>1406</td>\n",
              "      <td>2075</td>\n",
              "      <td>2877</td>\n",
              "      <td>5509</td>\n",
              "      <td>6087</td>\n",
              "      <td>8141</td>\n",
              "      <td>9802</td>\n",
              "      <td>11891</td>\n",
              "      <td>16630</td>\n",
              "      <td>19716</td>\n",
              "      <td>23707</td>\n",
              "      <td>27440</td>\n",
              "      <td>30587</td>\n",
              "      <td>34110</td>\n",
              "      <td>36814</td>\n",
              "      <td>39829</td>\n",
              "      <td>42354</td>\n",
              "      <td>44386</td>\n",
              "      <td>44759</td>\n",
              "      <td>59895</td>\n",
              "      <td>66358</td>\n",
              "      <td>68413</td>\n",
              "      <td>70513</td>\n",
              "      <td>72434</td>\n",
              "      <td>74211</td>\n",
              "      <td>74619</td>\n",
              "      <td>75077</td>\n",
              "      <td>75550</td>\n",
              "      <td>77001</td>\n",
              "      <td>77022</td>\n",
              "      <td>77241</td>\n",
              "      <td>77754</td>\n",
              "      <td>78166</td>\n",
              "      <td>78600</td>\n",
              "      <td>78928</td>\n",
              "      <td>79356</td>\n",
              "      <td>79932</td>\n",
              "      <td>...</td>\n",
              "      <td>84063</td>\n",
              "      <td>84063</td>\n",
              "      <td>84081</td>\n",
              "      <td>84084</td>\n",
              "      <td>84095</td>\n",
              "      <td>84102</td>\n",
              "      <td>84103</td>\n",
              "      <td>84106</td>\n",
              "      <td>84106</td>\n",
              "      <td>84123</td>\n",
              "      <td>84128</td>\n",
              "      <td>84146</td>\n",
              "      <td>84154</td>\n",
              "      <td>84161</td>\n",
              "      <td>84160</td>\n",
              "      <td>84171</td>\n",
              "      <td>84177</td>\n",
              "      <td>84186</td>\n",
              "      <td>84191</td>\n",
              "      <td>84195</td>\n",
              "      <td>84198</td>\n",
              "      <td>84209</td>\n",
              "      <td>84216</td>\n",
              "      <td>84228</td>\n",
              "      <td>84286</td>\n",
              "      <td>84335</td>\n",
              "      <td>84378</td>\n",
              "      <td>84422</td>\n",
              "      <td>84458</td>\n",
              "      <td>84494</td>\n",
              "      <td>84494</td>\n",
              "      <td>84553</td>\n",
              "      <td>84572</td>\n",
              "      <td>84624</td>\n",
              "      <td>84653</td>\n",
              "      <td>84673</td>\n",
              "      <td>84701</td>\n",
              "      <td>84725</td>\n",
              "      <td>84743</td>\n",
              "      <td>84757</td>\n",
              "    </tr>\n",
              "  </tbody>\n",
              "</table>\n",
              "<p>1 rows × 159 columns</p>\n",
              "</div>"
            ],
            "text/plain": [
              "   2020-01-22  2020-01-23  2020-01-24  ...  2020-06-26  2020-06-27  2020-06-28\n",
              "0         548         643         920  ...       84725       84743       84757\n",
              "\n",
              "[1 rows x 159 columns]"
            ]
          },
          "metadata": {
            "tags": []
          },
          "execution_count": 100
        }
      ]
    },
    {
      "cell_type": "code",
      "metadata": {
        "id": "NYY5aKW-8ynX",
        "colab_type": "code",
        "colab": {}
      },
      "source": [
        "trainset,testset=train_test(df_china)\n",
        "data=df_china.T"
      ],
      "execution_count": null,
      "outputs": []
    },
    {
      "cell_type": "code",
      "metadata": {
        "id": "O0RSZUpl9E5I",
        "colab_type": "code",
        "colab": {
          "base_uri": "https://localhost:8080/",
          "height": 168
        },
        "outputId": "b5d9f44d-8f15-44d3-9a50-dc0f65c9e28a"
      },
      "source": [
        "stepwise_model = auto_arima(data, start_p=1, start_q=1,\n",
        "                           max_p=60, max_q=60,\n",
        "                           start_P=0, seasonal=False,\n",
        "                           d=1, D=1, trace=True,\n",
        "                           error_action='ignore',  \n",
        "                           suppress_warnings=True, \n",
        "                           stepwise=True)\n",
        "print(stepwise_model.aic())"
      ],
      "execution_count": null,
      "outputs": [
        {
          "output_type": "stream",
          "text": [
            "Fit ARIMA: order=(1, 1, 1); AIC=2704.112, BIC=2716.362, Fit time=0.073 seconds\n",
            "Fit ARIMA: order=(0, 1, 0); AIC=2772.716, BIC=2778.841, Fit time=0.004 seconds\n",
            "Fit ARIMA: order=(1, 1, 0); AIC=2719.519, BIC=2728.707, Fit time=0.039 seconds\n",
            "Fit ARIMA: order=(0, 1, 1); AIC=2736.753, BIC=2745.941, Fit time=0.026 seconds\n",
            "Fit ARIMA: order=(2, 1, 1); AIC=nan, BIC=nan, Fit time=nan seconds\n",
            "Fit ARIMA: order=(1, 1, 2); AIC=nan, BIC=nan, Fit time=nan seconds\n",
            "Fit ARIMA: order=(2, 1, 2); AIC=2705.699, BIC=2724.074, Fit time=0.299 seconds\n",
            "Total fit time: 0.480 seconds\n",
            "2704.1115656327747\n"
          ],
          "name": "stdout"
        }
      ]
    },
    {
      "cell_type": "code",
      "metadata": {
        "id": "xIfAI3wV9Rhf",
        "colab_type": "code",
        "colab": {
          "base_uri": "https://localhost:8080/",
          "height": 84
        },
        "outputId": "24af9e91-601c-4850-a746-987283bf0c5a"
      },
      "source": [
        "stepwise_model.fit(trainset.T)"
      ],
      "execution_count": null,
      "outputs": [
        {
          "output_type": "execute_result",
          "data": {
            "text/plain": [
              "ARIMA(callback=None, disp=0, maxiter=50, method=None, order=(1, 1, 1),\n",
              "      out_of_sample_size=0, scoring='mse', scoring_args={}, seasonal_order=None,\n",
              "      solver='lbfgs', start_params=None, suppress_warnings=True,\n",
              "      transparams=True, trend='c')"
            ]
          },
          "metadata": {
            "tags": []
          },
          "execution_count": 103
        }
      ]
    },
    {
      "cell_type": "code",
      "metadata": {
        "id": "ibnUooGH9Wym",
        "colab_type": "code",
        "colab": {
          "base_uri": "https://localhost:8080/",
          "height": 318
        },
        "outputId": "b0b9be53-ebde-4313-dd73-356c876764d0"
      },
      "source": [
        "stepwise_model.summary()"
      ],
      "execution_count": null,
      "outputs": [
        {
          "output_type": "execute_result",
          "data": {
            "text/html": [
              "<table class=\"simpletable\">\n",
              "<caption>ARIMA Model Results</caption>\n",
              "<tr>\n",
              "  <th>Dep. Variable:</th>        <td>D.y</td>       <th>  No. Observations:  </th>    <td>126</td>   \n",
              "</tr>\n",
              "<tr>\n",
              "  <th>Model:</th>          <td>ARIMA(1, 1, 1)</td>  <th>  Log Likelihood     </th> <td>-1089.253</td>\n",
              "</tr>\n",
              "<tr>\n",
              "  <th>Method:</th>             <td>css-mle</td>     <th>  S.D. of innovations</th> <td>1371.133</td> \n",
              "</tr>\n",
              "<tr>\n",
              "  <th>Date:</th>          <td>Sat, 15 Aug 2020</td> <th>  AIC                </th> <td>2186.506</td> \n",
              "</tr>\n",
              "<tr>\n",
              "  <th>Time:</th>              <td>18:48:08</td>     <th>  BIC                </th> <td>2197.851</td> \n",
              "</tr>\n",
              "<tr>\n",
              "  <th>Sample:</th>                <td>1</td>        <th>  HQIC               </th> <td>2191.115</td> \n",
              "</tr>\n",
              "<tr>\n",
              "  <th></th>                       <td> </td>        <th>                     </th>     <td> </td>    \n",
              "</tr>\n",
              "</table>\n",
              "<table class=\"simpletable\">\n",
              "<tr>\n",
              "      <td></td>         <th>coef</th>     <th>std err</th>      <th>z</th>      <th>P>|z|</th>  <th>[0.025</th>    <th>0.975]</th>  \n",
              "</tr>\n",
              "<tr>\n",
              "  <th>const</th>     <td>  605.2510</td> <td>  525.488</td> <td>    1.152</td> <td> 0.252</td> <td> -424.686</td> <td> 1635.188</td>\n",
              "</tr>\n",
              "<tr>\n",
              "  <th>ar.L1.D.y</th> <td>    0.9278</td> <td>    0.046</td> <td>   20.331</td> <td> 0.000</td> <td>    0.838</td> <td>    1.017</td>\n",
              "</tr>\n",
              "<tr>\n",
              "  <th>ma.L1.D.y</th> <td>   -0.6642</td> <td>    0.098</td> <td>   -6.807</td> <td> 0.000</td> <td>   -0.855</td> <td>   -0.473</td>\n",
              "</tr>\n",
              "</table>\n",
              "<table class=\"simpletable\">\n",
              "<caption>Roots</caption>\n",
              "<tr>\n",
              "    <td></td>   <th>            Real</th>  <th>         Imaginary</th> <th>         Modulus</th>  <th>        Frequency</th>\n",
              "</tr>\n",
              "<tr>\n",
              "  <th>AR.1</th> <td>           1.0778</td> <td>          +0.0000j</td> <td>           1.0778</td> <td>           0.0000</td>\n",
              "</tr>\n",
              "<tr>\n",
              "  <th>MA.1</th> <td>           1.5056</td> <td>          +0.0000j</td> <td>           1.5056</td> <td>           0.0000</td>\n",
              "</tr>\n",
              "</table>"
            ],
            "text/plain": [
              "<class 'statsmodels.iolib.summary.Summary'>\n",
              "\"\"\"\n",
              "                             ARIMA Model Results                              \n",
              "==============================================================================\n",
              "Dep. Variable:                    D.y   No. Observations:                  126\n",
              "Model:                 ARIMA(1, 1, 1)   Log Likelihood               -1089.253\n",
              "Method:                       css-mle   S.D. of innovations           1371.133\n",
              "Date:                Sat, 15 Aug 2020   AIC                           2186.506\n",
              "Time:                        18:48:08   BIC                           2197.851\n",
              "Sample:                             1   HQIC                          2191.115\n",
              "                                                                              \n",
              "==============================================================================\n",
              "                 coef    std err          z      P>|z|      [0.025      0.975]\n",
              "------------------------------------------------------------------------------\n",
              "const        605.2510    525.488      1.152      0.252    -424.686    1635.188\n",
              "ar.L1.D.y      0.9278      0.046     20.331      0.000       0.838       1.017\n",
              "ma.L1.D.y     -0.6642      0.098     -6.807      0.000      -0.855      -0.473\n",
              "                                    Roots                                    \n",
              "=============================================================================\n",
              "                  Real          Imaginary           Modulus         Frequency\n",
              "-----------------------------------------------------------------------------\n",
              "AR.1            1.0778           +0.0000j            1.0778            0.0000\n",
              "MA.1            1.5056           +0.0000j            1.5056            0.0000\n",
              "-----------------------------------------------------------------------------\n",
              "\"\"\""
            ]
          },
          "metadata": {
            "tags": []
          },
          "execution_count": 104
        }
      ]
    },
    {
      "cell_type": "code",
      "metadata": {
        "id": "cgbQPluL9ZEZ",
        "colab_type": "code",
        "colab": {}
      },
      "source": [
        "future_forecast = stepwise_model.predict(n_periods=len(date)-split_idx)\n",
        "df_origin=pd.DataFrame(testset, columns=date[split_idx:])"
      ],
      "execution_count": null,
      "outputs": []
    },
    {
      "cell_type": "code",
      "metadata": {
        "id": "TOIJtIf69lh6",
        "colab_type": "code",
        "colab": {}
      },
      "source": [
        "df_predict=pd.DataFrame(np.array([future_forecast]),columns=date[-len(future_forecast):])"
      ],
      "execution_count": null,
      "outputs": []
    },
    {
      "cell_type": "code",
      "metadata": {
        "id": "SkDBKCWS9pkm",
        "colab_type": "code",
        "colab": {
          "base_uri": "https://localhost:8080/",
          "height": 143
        },
        "outputId": "7bafe2dc-29e6-471a-f0f6-76f0930eba3e"
      },
      "source": [
        "frames=[df_origin,df_predict]\n",
        "df = pd.concat(frames, ignore_index=True)\n",
        "df=df.rename(index={0:\"Original\",1:\"Predict\"})\n",
        "df"
      ],
      "execution_count": null,
      "outputs": [
        {
          "output_type": "execute_result",
          "data": {
            "text/html": [
              "<div>\n",
              "<style scoped>\n",
              "    .dataframe tbody tr th:only-of-type {\n",
              "        vertical-align: middle;\n",
              "    }\n",
              "\n",
              "    .dataframe tbody tr th {\n",
              "        vertical-align: top;\n",
              "    }\n",
              "\n",
              "    .dataframe thead th {\n",
              "        text-align: right;\n",
              "    }\n",
              "</style>\n",
              "<table border=\"1\" class=\"dataframe\">\n",
              "  <thead>\n",
              "    <tr style=\"text-align: right;\">\n",
              "      <th></th>\n",
              "      <th>2020-05-28 00:00:00</th>\n",
              "      <th>2020-05-29 00:00:00</th>\n",
              "      <th>2020-05-30 00:00:00</th>\n",
              "      <th>2020-05-31 00:00:00</th>\n",
              "      <th>2020-06-01 00:00:00</th>\n",
              "      <th>2020-06-02 00:00:00</th>\n",
              "      <th>2020-06-03 00:00:00</th>\n",
              "      <th>2020-06-04 00:00:00</th>\n",
              "      <th>2020-06-05 00:00:00</th>\n",
              "      <th>2020-06-06 00:00:00</th>\n",
              "      <th>2020-06-07 00:00:00</th>\n",
              "      <th>2020-06-08 00:00:00</th>\n",
              "      <th>2020-06-09 00:00:00</th>\n",
              "      <th>2020-06-10 00:00:00</th>\n",
              "      <th>2020-06-11 00:00:00</th>\n",
              "      <th>2020-06-12 00:00:00</th>\n",
              "      <th>2020-06-13 00:00:00</th>\n",
              "      <th>2020-06-14 00:00:00</th>\n",
              "      <th>2020-06-15 00:00:00</th>\n",
              "      <th>2020-06-16 00:00:00</th>\n",
              "      <th>2020-06-17 00:00:00</th>\n",
              "      <th>2020-06-18 00:00:00</th>\n",
              "      <th>2020-06-19 00:00:00</th>\n",
              "      <th>2020-06-20 00:00:00</th>\n",
              "      <th>2020-06-21 00:00:00</th>\n",
              "      <th>2020-06-22 00:00:00</th>\n",
              "      <th>2020-06-23 00:00:00</th>\n",
              "      <th>2020-06-24 00:00:00</th>\n",
              "      <th>2020-06-25 00:00:00</th>\n",
              "      <th>2020-06-26 00:00:00</th>\n",
              "      <th>2020-06-27 00:00:00</th>\n",
              "      <th>2020-06-28 00:00:00</th>\n",
              "    </tr>\n",
              "  </thead>\n",
              "  <tbody>\n",
              "    <tr>\n",
              "      <th>Original</th>\n",
              "      <td>84106.000000</td>\n",
              "      <td>84123.000000</td>\n",
              "      <td>84128.000000</td>\n",
              "      <td>84146.000000</td>\n",
              "      <td>84154.000000</td>\n",
              "      <td>84161.000000</td>\n",
              "      <td>84160.000000</td>\n",
              "      <td>84171.000000</td>\n",
              "      <td>84177.000000</td>\n",
              "      <td>84186.000000</td>\n",
              "      <td>84191.000000</td>\n",
              "      <td>84195.000000</td>\n",
              "      <td>84198.000000</td>\n",
              "      <td>84209.00000</td>\n",
              "      <td>84216.00000</td>\n",
              "      <td>84228.00000</td>\n",
              "      <td>84286.000000</td>\n",
              "      <td>84335.000000</td>\n",
              "      <td>84378.000000</td>\n",
              "      <td>84422.00000</td>\n",
              "      <td>84458.000000</td>\n",
              "      <td>84494.000000</td>\n",
              "      <td>84494.000000</td>\n",
              "      <td>84553.000000</td>\n",
              "      <td>84572.000000</td>\n",
              "      <td>84624.000000</td>\n",
              "      <td>84653.000000</td>\n",
              "      <td>84673.000000</td>\n",
              "      <td>84701.000000</td>\n",
              "      <td>84725.000000</td>\n",
              "      <td>84743.000000</td>\n",
              "      <td>84757.000000</td>\n",
              "    </tr>\n",
              "    <tr>\n",
              "      <th>Predict</th>\n",
              "      <td>84239.678943</td>\n",
              "      <td>84407.404131</td>\n",
              "      <td>84606.717517</td>\n",
              "      <td>84835.338517</td>\n",
              "      <td>85091.151199</td>\n",
              "      <td>85372.192395</td>\n",
              "      <td>85676.640675</td>\n",
              "      <td>86002.806109</td>\n",
              "      <td>86349.120776</td>\n",
              "      <td>86714.129956</td>\n",
              "      <td>87096.483954</td>\n",
              "      <td>87494.930521</td>\n",
              "      <td>87908.307816</td>\n",
              "      <td>88335.53788</td>\n",
              "      <td>88775.62058</td>\n",
              "      <td>89227.62799</td>\n",
              "      <td>89690.699178</td>\n",
              "      <td>90164.035369</td>\n",
              "      <td>90646.895456</td>\n",
              "      <td>91138.59184</td>\n",
              "      <td>91638.486563</td>\n",
              "      <td>92145.987727</td>\n",
              "      <td>92660.546168</td>\n",
              "      <td>93181.652368</td>\n",
              "      <td>93708.833598</td>\n",
              "      <td>94241.651256</td>\n",
              "      <td>94779.698406</td>\n",
              "      <td>95322.597494</td>\n",
              "      <td>95869.998223</td>\n",
              "      <td>96421.575586</td>\n",
              "      <td>96977.028041</td>\n",
              "      <td>97536.075817</td>\n",
              "    </tr>\n",
              "  </tbody>\n",
              "</table>\n",
              "</div>"
            ],
            "text/plain": [
              "            2020-05-28  ...    2020-06-28\n",
              "Original  84106.000000  ...  84757.000000\n",
              "Predict   84239.678943  ...  97536.075817\n",
              "\n",
              "[2 rows x 32 columns]"
            ]
          },
          "metadata": {
            "tags": []
          },
          "execution_count": 107
        }
      ]
    },
    {
      "cell_type": "code",
      "metadata": {
        "id": "iK-2Mof4cwu9",
        "colab_type": "code",
        "colab": {
          "base_uri": "https://localhost:8080/",
          "height": 34
        },
        "outputId": "ee351777-66a4-46ad-bf11-47535dc7c069"
      },
      "source": [
        "arima_residuals = np.array(df_predict) - np.array(df_origin)\n",
        "arima_rmse = np.sqrt(np.sum(np.power(arima_residuals,2)) / len(arima_residuals))\n",
        "print('RMSE = %.2f' % arima_rmse)"
      ],
      "execution_count": null,
      "outputs": [
        {
          "output_type": "stream",
          "text": [
            "RMSE = 38485.87\n"
          ],
          "name": "stdout"
        }
      ]
    },
    {
      "cell_type": "code",
      "metadata": {
        "id": "zS72XH_o9_y0",
        "colab_type": "code",
        "colab": {
          "base_uri": "https://localhost:8080/",
          "height": 334
        },
        "outputId": "5ef516aa-5c63-460d-d50b-51adfd18b504"
      },
      "source": [
        "plt.plot(df_china.iloc[0])\n",
        "plt.plot(df.loc[\"Predict\"])\n",
        "plt.xticks(rotation=30)\n",
        "plt.legend('Upper Left', labels=[\"Original\",\"Predict\"])\n",
        "plt.title(\"China Class\")\n",
        "plt.show()"
      ],
      "execution_count": null,
      "outputs": [
        {
          "output_type": "stream",
          "text": [
            "/usr/local/lib/python3.6/dist-packages/ipykernel_launcher.py:4: UserWarning: You have mixed positional and keyword arguments, some input may be discarded.\n",
            "  after removing the cwd from sys.path.\n"
          ],
          "name": "stderr"
        },
        {
          "output_type": "display_data",
          "data": {
            "image/png": "[encoded data removed]",
            "text/plain": [
              "<Figure size 432x288 with 1 Axes>"
            ]
          },
          "metadata": {
            "tags": [],
            "needs_background": "light"
          }
        }
      ]
    },
    {
      "cell_type": "markdown",
      "metadata": {
        "id": "n1r4ucLQ-Jhd",
        "colab_type": "text"
      },
      "source": [
        "### Outside China"
      ]
    },
    {
      "cell_type": "code",
      "metadata": {
        "id": "U5Xohz3--Lki",
        "colab_type": "code",
        "colab": {}
      },
      "source": [
        "df_restworld=df_conf[df_conf[\"Country/Region\"]!=\"China\"].iloc[:,4:]\n",
        "df_restworld=convert_dataframe(arr,date)"
      ],
      "execution_count": null,
      "outputs": []
    },
    {
      "cell_type": "code",
      "metadata": {
        "id": "7JJatUPp-bzD",
        "colab_type": "code",
        "colab": {}
      },
      "source": [
        "trainset,testset=train_test(df_restworld)\n",
        "data=df_restworld.T"
      ],
      "execution_count": null,
      "outputs": []
    },
    {
      "cell_type": "code",
      "metadata": {
        "id": "YIwHAjnh-fF9",
        "colab_type": "code",
        "colab": {
          "base_uri": "https://localhost:8080/",
          "height": 168
        },
        "outputId": "7826ed88-cc1a-4c9a-f345-b00d4e6a2594"
      },
      "source": [
        "stepwise_model = auto_arima(data, start_p=1, start_q=1,\n",
        "                           max_p=60, max_q=60,\n",
        "                           start_P=0, seasonal=False,\n",
        "                           d=1, D=1, trace=True,\n",
        "                           error_action='ignore',  \n",
        "                           suppress_warnings=True, \n",
        "                           stepwise=True)\n",
        "print(stepwise_model.aic())"
      ],
      "execution_count": null,
      "outputs": [
        {
          "output_type": "stream",
          "text": [
            "Fit ARIMA: order=(1, 1, 1); AIC=2704.112, BIC=2716.362, Fit time=0.062 seconds\n",
            "Fit ARIMA: order=(0, 1, 0); AIC=2772.716, BIC=2778.841, Fit time=0.003 seconds\n",
            "Fit ARIMA: order=(1, 1, 0); AIC=2719.519, BIC=2728.707, Fit time=0.036 seconds\n",
            "Fit ARIMA: order=(0, 1, 1); AIC=2736.753, BIC=2745.941, Fit time=0.023 seconds\n",
            "Fit ARIMA: order=(2, 1, 1); AIC=nan, BIC=nan, Fit time=nan seconds\n",
            "Fit ARIMA: order=(1, 1, 2); AIC=nan, BIC=nan, Fit time=nan seconds\n",
            "Fit ARIMA: order=(2, 1, 2); AIC=2705.699, BIC=2724.074, Fit time=0.274 seconds\n",
            "Total fit time: 0.434 seconds\n",
            "2704.1115656327747\n"
          ],
          "name": "stdout"
        }
      ]
    },
    {
      "cell_type": "code",
      "metadata": {
        "id": "qZj2wyvl-hVv",
        "colab_type": "code",
        "colab": {
          "base_uri": "https://localhost:8080/",
          "height": 84
        },
        "outputId": "f6329869-2346-414a-93ac-f4505d2e35c7"
      },
      "source": [
        "stepwise_model.fit(trainset.T)"
      ],
      "execution_count": null,
      "outputs": [
        {
          "output_type": "execute_result",
          "data": {
            "text/plain": [
              "ARIMA(callback=None, disp=0, maxiter=50, method=None, order=(1, 1, 1),\n",
              "      out_of_sample_size=0, scoring='mse', scoring_args={}, seasonal_order=None,\n",
              "      solver='lbfgs', start_params=None, suppress_warnings=True,\n",
              "      transparams=True, trend='c')"
            ]
          },
          "metadata": {
            "tags": []
          },
          "execution_count": 113
        }
      ]
    },
    {
      "cell_type": "code",
      "metadata": {
        "id": "1wsSn0En-n0h",
        "colab_type": "code",
        "colab": {
          "base_uri": "https://localhost:8080/",
          "height": 318
        },
        "outputId": "59e04c96-87e8-4a09-bb9b-0d45d80fadf4"
      },
      "source": [
        "stepwise_model.summary()"
      ],
      "execution_count": null,
      "outputs": [
        {
          "output_type": "execute_result",
          "data": {
            "text/html": [
              "<table class=\"simpletable\">\n",
              "<caption>ARIMA Model Results</caption>\n",
              "<tr>\n",
              "  <th>Dep. Variable:</th>        <td>D.y</td>       <th>  No. Observations:  </th>    <td>126</td>   \n",
              "</tr>\n",
              "<tr>\n",
              "  <th>Model:</th>          <td>ARIMA(1, 1, 1)</td>  <th>  Log Likelihood     </th> <td>-1089.253</td>\n",
              "</tr>\n",
              "<tr>\n",
              "  <th>Method:</th>             <td>css-mle</td>     <th>  S.D. of innovations</th> <td>1371.133</td> \n",
              "</tr>\n",
              "<tr>\n",
              "  <th>Date:</th>          <td>Sat, 15 Aug 2020</td> <th>  AIC                </th> <td>2186.506</td> \n",
              "</tr>\n",
              "<tr>\n",
              "  <th>Time:</th>              <td>18:48:46</td>     <th>  BIC                </th> <td>2197.851</td> \n",
              "</tr>\n",
              "<tr>\n",
              "  <th>Sample:</th>                <td>1</td>        <th>  HQIC               </th> <td>2191.115</td> \n",
              "</tr>\n",
              "<tr>\n",
              "  <th></th>                       <td> </td>        <th>                     </th>     <td> </td>    \n",
              "</tr>\n",
              "</table>\n",
              "<table class=\"simpletable\">\n",
              "<tr>\n",
              "      <td></td>         <th>coef</th>     <th>std err</th>      <th>z</th>      <th>P>|z|</th>  <th>[0.025</th>    <th>0.975]</th>  \n",
              "</tr>\n",
              "<tr>\n",
              "  <th>const</th>     <td>  605.2510</td> <td>  525.488</td> <td>    1.152</td> <td> 0.252</td> <td> -424.686</td> <td> 1635.188</td>\n",
              "</tr>\n",
              "<tr>\n",
              "  <th>ar.L1.D.y</th> <td>    0.9278</td> <td>    0.046</td> <td>   20.331</td> <td> 0.000</td> <td>    0.838</td> <td>    1.017</td>\n",
              "</tr>\n",
              "<tr>\n",
              "  <th>ma.L1.D.y</th> <td>   -0.6642</td> <td>    0.098</td> <td>   -6.807</td> <td> 0.000</td> <td>   -0.855</td> <td>   -0.473</td>\n",
              "</tr>\n",
              "</table>\n",
              "<table class=\"simpletable\">\n",
              "<caption>Roots</caption>\n",
              "<tr>\n",
              "    <td></td>   <th>            Real</th>  <th>         Imaginary</th> <th>         Modulus</th>  <th>        Frequency</th>\n",
              "</tr>\n",
              "<tr>\n",
              "  <th>AR.1</th> <td>           1.0778</td> <td>          +0.0000j</td> <td>           1.0778</td> <td>           0.0000</td>\n",
              "</tr>\n",
              "<tr>\n",
              "  <th>MA.1</th> <td>           1.5056</td> <td>          +0.0000j</td> <td>           1.5056</td> <td>           0.0000</td>\n",
              "</tr>\n",
              "</table>"
            ],
            "text/plain": [
              "<class 'statsmodels.iolib.summary.Summary'>\n",
              "\"\"\"\n",
              "                             ARIMA Model Results                              \n",
              "==============================================================================\n",
              "Dep. Variable:                    D.y   No. Observations:                  126\n",
              "Model:                 ARIMA(1, 1, 1)   Log Likelihood               -1089.253\n",
              "Method:                       css-mle   S.D. of innovations           1371.133\n",
              "Date:                Sat, 15 Aug 2020   AIC                           2186.506\n",
              "Time:                        18:48:46   BIC                           2197.851\n",
              "Sample:                             1   HQIC                          2191.115\n",
              "                                                                              \n",
              "==============================================================================\n",
              "                 coef    std err          z      P>|z|      [0.025      0.975]\n",
              "------------------------------------------------------------------------------\n",
              "const        605.2510    525.488      1.152      0.252    -424.686    1635.188\n",
              "ar.L1.D.y      0.9278      0.046     20.331      0.000       0.838       1.017\n",
              "ma.L1.D.y     -0.6642      0.098     -6.807      0.000      -0.855      -0.473\n",
              "                                    Roots                                    \n",
              "=============================================================================\n",
              "                  Real          Imaginary           Modulus         Frequency\n",
              "-----------------------------------------------------------------------------\n",
              "AR.1            1.0778           +0.0000j            1.0778            0.0000\n",
              "MA.1            1.5056           +0.0000j            1.5056            0.0000\n",
              "-----------------------------------------------------------------------------\n",
              "\"\"\""
            ]
          },
          "metadata": {
            "tags": []
          },
          "execution_count": 114
        }
      ]
    },
    {
      "cell_type": "code",
      "metadata": {
        "id": "P6MFhbzP-qWJ",
        "colab_type": "code",
        "colab": {}
      },
      "source": [
        "future_forecast = stepwise_model.predict(n_periods=len(date)-split_idx)\n",
        "df_origin=pd.DataFrame(testset, columns=date[split_idx:])\n",
        "df_predict=pd.DataFrame(np.array([future_forecast]),columns=date[-len(future_forecast):])"
      ],
      "execution_count": null,
      "outputs": []
    },
    {
      "cell_type": "code",
      "metadata": {
        "id": "LHXUay6g-t3c",
        "colab_type": "code",
        "colab": {}
      },
      "source": [
        "frames=[df_origin,df_predict]\n",
        "df = pd.concat(frames, ignore_index=True)\n",
        "df=df.rename(index={0:\"Original\",1:\"Predict\"})"
      ],
      "execution_count": null,
      "outputs": []
    },
    {
      "cell_type": "code",
      "metadata": {
        "id": "Sj2YXKcpc75E",
        "colab_type": "code",
        "colab": {
          "base_uri": "https://localhost:8080/",
          "height": 34
        },
        "outputId": "a9c9be53-061e-4cb2-cdab-db27aadcdee1"
      },
      "source": [
        "arima_residuals = np.array(df_predict) - np.array(df_origin)\n",
        "arima_rmse = np.sqrt(np.sum(np.power(arima_residuals,2)) / len(arima_residuals))\n",
        "print('RMSE = %.2f' % arima_rmse)"
      ],
      "execution_count": null,
      "outputs": [
        {
          "output_type": "stream",
          "text": [
            "RMSE = 38485.87\n"
          ],
          "name": "stdout"
        }
      ]
    },
    {
      "cell_type": "code",
      "metadata": {
        "id": "M3IHbZrR-00h",
        "colab_type": "code",
        "colab": {
          "base_uri": "https://localhost:8080/",
          "height": 334
        },
        "outputId": "125328f0-c87c-4116-8005-b8aefca3ed6a"
      },
      "source": [
        "plt.plot(df_restworld.iloc[0])\n",
        "plt.plot(df.loc[\"Predict\"])\n",
        "plt.xticks(rotation=30)\n",
        "plt.legend('best', labels=[\"Original\",\"Predict\"])\n",
        "plt.title(\"Outside China Class\")\n",
        "plt.show()"
      ],
      "execution_count": null,
      "outputs": [
        {
          "output_type": "stream",
          "text": [
            "/usr/local/lib/python3.6/dist-packages/ipykernel_launcher.py:4: UserWarning: You have mixed positional and keyword arguments, some input may be discarded.\n",
            "  after removing the cwd from sys.path.\n"
          ],
          "name": "stderr"
        },
        {
          "output_type": "display_data",
          "data": {
            "image/png": "[encoded data removed]",
            "text/plain": [
              "<Figure size 432x288 with 1 Axes>"
            ]
          },
          "metadata": {
            "tags": [],
            "needs_background": "light"
          }
        }
      ]
    },
    {
      "cell_type": "code",
      "metadata": {
        "id": "QnRx68No9f0d",
        "colab_type": "code",
        "colab": {}
      },
      "source": [
        ""
      ],
      "execution_count": null,
      "outputs": []
    },
    {
      "cell_type": "markdown",
      "metadata": {
        "id": "IByA0Kkdb1Ym",
        "colab_type": "text"
      },
      "source": [
        "### Italy"
      ]
    },
    {
      "cell_type": "code",
      "metadata": {
        "colab_type": "code",
        "id": "OpLuCujgb2le",
        "colab": {}
      },
      "source": [
        "df_italy=df_conf[df_conf[\"Country/Region\"]==\"Italy\"].iloc[:,4:]"
      ],
      "execution_count": null,
      "outputs": []
    },
    {
      "cell_type": "code",
      "metadata": {
        "colab_type": "code",
        "id": "WVJV5l95b2li",
        "colab": {}
      },
      "source": [
        "trainset,testset=train_test(df_italy)\n",
        "data=df_italy.T"
      ],
      "execution_count": null,
      "outputs": []
    },
    {
      "cell_type": "code",
      "metadata": {
        "colab_type": "code",
        "id": "SVtleqI9b2lk",
        "colab": {
          "base_uri": "https://localhost:8080/",
          "height": 151
        },
        "outputId": "aa322ab8-2bad-4fbe-e1eb-b14858cf9ea4"
      },
      "source": [
        "stepwise_model = auto_arima(data, start_p=1, start_q=1,\n",
        "                           max_p=3, max_q=3, m=12,\n",
        "                           start_P=0, seasonal=False,\n",
        "                           d=1, D=1, trace=True,\n",
        "                           error_action='ignore',  \n",
        "                           suppress_warnings=True, \n",
        "                           stepwise=True)\n",
        "print(stepwise_model.aic())"
      ],
      "execution_count": null,
      "outputs": [
        {
          "output_type": "stream",
          "text": [
            "Fit ARIMA: order=(1, 1, 1); AIC=2338.292, BIC=2350.542, Fit time=0.118 seconds\n",
            "Fit ARIMA: order=(0, 1, 0); AIC=2818.281, BIC=2824.406, Fit time=0.003 seconds\n",
            "Fit ARIMA: order=(1, 1, 0); AIC=2336.335, BIC=2345.523, Fit time=0.080 seconds\n",
            "Fit ARIMA: order=(0, 1, 1); AIC=2648.861, BIC=2658.049, Fit time=0.052 seconds\n",
            "Fit ARIMA: order=(2, 1, 0); AIC=2338.296, BIC=2350.547, Fit time=0.135 seconds\n",
            "Fit ARIMA: order=(2, 1, 1); AIC=2339.630, BIC=2354.943, Fit time=0.155 seconds\n",
            "Total fit time: 0.545 seconds\n",
            "2336.334993666011\n"
          ],
          "name": "stdout"
        }
      ]
    },
    {
      "cell_type": "code",
      "metadata": {
        "colab_type": "code",
        "id": "eaz6mSqzb2lm",
        "colab": {
          "base_uri": "https://localhost:8080/",
          "height": 84
        },
        "outputId": "4e061bb0-f192-457d-a695-6df789258534"
      },
      "source": [
        "stepwise_model.fit(trainset.T)"
      ],
      "execution_count": null,
      "outputs": [
        {
          "output_type": "execute_result",
          "data": {
            "text/plain": [
              "ARIMA(callback=None, disp=0, maxiter=50, method=None, order=(1, 1, 0),\n",
              "      out_of_sample_size=0, scoring='mse', scoring_args={}, seasonal_order=None,\n",
              "      solver='lbfgs', start_params=None, suppress_warnings=True,\n",
              "      transparams=True, trend='c')"
            ]
          },
          "metadata": {
            "tags": []
          },
          "execution_count": 122
        }
      ]
    },
    {
      "cell_type": "code",
      "metadata": {
        "colab_type": "code",
        "id": "gbfBltGDb2lo",
        "colab": {
          "base_uri": "https://localhost:8080/",
          "height": 278
        },
        "outputId": "548c70ba-db91-4a37-c229-2a311600dfbd"
      },
      "source": [
        "stepwise_model.summary()"
      ],
      "execution_count": null,
      "outputs": [
        {
          "output_type": "execute_result",
          "data": {
            "text/html": [
              "<table class=\"simpletable\">\n",
              "<caption>ARIMA Model Results</caption>\n",
              "<tr>\n",
              "  <th>Dep. Variable:</th>        <td>D.y</td>       <th>  No. Observations:  </th>    <td>126</td>  \n",
              "</tr>\n",
              "<tr>\n",
              "  <th>Model:</th>          <td>ARIMA(1, 1, 0)</td>  <th>  Log Likelihood     </th> <td>-940.592</td>\n",
              "</tr>\n",
              "<tr>\n",
              "  <th>Method:</th>             <td>css-mle</td>     <th>  S.D. of innovations</th>  <td>417.594</td>\n",
              "</tr>\n",
              "<tr>\n",
              "  <th>Date:</th>          <td>Sat, 15 Aug 2020</td> <th>  AIC                </th> <td>1887.183</td>\n",
              "</tr>\n",
              "<tr>\n",
              "  <th>Time:</th>              <td>18:49:06</td>     <th>  BIC                </th> <td>1895.692</td>\n",
              "</tr>\n",
              "<tr>\n",
              "  <th>Sample:</th>                <td>1</td>        <th>  HQIC               </th> <td>1890.640</td>\n",
              "</tr>\n",
              "<tr>\n",
              "  <th></th>                       <td> </td>        <th>                     </th>     <td> </td>   \n",
              "</tr>\n",
              "</table>\n",
              "<table class=\"simpletable\">\n",
              "<tr>\n",
              "      <td></td>         <th>coef</th>     <th>std err</th>      <th>z</th>      <th>P>|z|</th>  <th>[0.025</th>    <th>0.975]</th>  \n",
              "</tr>\n",
              "<tr>\n",
              "  <th>const</th>     <td> 1280.1901</td> <td> 1107.487</td> <td>    1.156</td> <td> 0.250</td> <td> -890.444</td> <td> 3450.824</td>\n",
              "</tr>\n",
              "<tr>\n",
              "  <th>ar.L1.D.y</th> <td>    0.9725</td> <td>    0.018</td> <td>   55.422</td> <td> 0.000</td> <td>    0.938</td> <td>    1.007</td>\n",
              "</tr>\n",
              "</table>\n",
              "<table class=\"simpletable\">\n",
              "<caption>Roots</caption>\n",
              "<tr>\n",
              "    <td></td>   <th>            Real</th>  <th>         Imaginary</th> <th>         Modulus</th>  <th>        Frequency</th>\n",
              "</tr>\n",
              "<tr>\n",
              "  <th>AR.1</th> <td>           1.0283</td> <td>          +0.0000j</td> <td>           1.0283</td> <td>           0.0000</td>\n",
              "</tr>\n",
              "</table>"
            ],
            "text/plain": [
              "<class 'statsmodels.iolib.summary.Summary'>\n",
              "\"\"\"\n",
              "                             ARIMA Model Results                              \n",
              "==============================================================================\n",
              "Dep. Variable:                    D.y   No. Observations:                  126\n",
              "Model:                 ARIMA(1, 1, 0)   Log Likelihood                -940.592\n",
              "Method:                       css-mle   S.D. of innovations            417.594\n",
              "Date:                Sat, 15 Aug 2020   AIC                           1887.183\n",
              "Time:                        18:49:06   BIC                           1895.692\n",
              "Sample:                             1   HQIC                          1890.640\n",
              "                                                                              \n",
              "==============================================================================\n",
              "                 coef    std err          z      P>|z|      [0.025      0.975]\n",
              "------------------------------------------------------------------------------\n",
              "const       1280.1901   1107.487      1.156      0.250    -890.444    3450.824\n",
              "ar.L1.D.y      0.9725      0.018     55.422      0.000       0.938       1.007\n",
              "                                    Roots                                    \n",
              "=============================================================================\n",
              "                  Real          Imaginary           Modulus         Frequency\n",
              "-----------------------------------------------------------------------------\n",
              "AR.1            1.0283           +0.0000j            1.0283            0.0000\n",
              "-----------------------------------------------------------------------------\n",
              "\"\"\""
            ]
          },
          "metadata": {
            "tags": []
          },
          "execution_count": 123
        }
      ]
    },
    {
      "cell_type": "code",
      "metadata": {
        "colab_type": "code",
        "id": "BS3dnwCDb2lr",
        "colab": {}
      },
      "source": [
        "future_forecast = stepwise_model.predict(n_periods=len(date)-split_idx)\n",
        "df_origin=pd.DataFrame(testset, columns=date[split_idx:])\n",
        "df_predict=pd.DataFrame(np.array([future_forecast]),columns=date[-len(future_forecast):])"
      ],
      "execution_count": null,
      "outputs": []
    },
    {
      "cell_type": "code",
      "metadata": {
        "colab_type": "code",
        "id": "7Lt1184Fb2lv",
        "colab": {}
      },
      "source": [
        "frames=[df_origin,df_predict]\n",
        "df = pd.concat(frames, ignore_index=True)\n",
        "df=df.rename(index={0:\"Original\",1:\"Predict\"})"
      ],
      "execution_count": null,
      "outputs": []
    },
    {
      "cell_type": "code",
      "metadata": {
        "id": "m0S-RgeWdCCc",
        "colab_type": "code",
        "colab": {
          "base_uri": "https://localhost:8080/",
          "height": 34
        },
        "outputId": "bf20159b-e2b7-41e2-b523-95b86de8f3fd"
      },
      "source": [
        "arima_residuals = np.array(df_predict) - np.array(df_origin)\n",
        "arima_rmse = np.sqrt(np.sum(np.power(arima_residuals,2)) / len(arima_residuals))\n",
        "print('RMSE = %.2f' % arima_rmse)"
      ],
      "execution_count": null,
      "outputs": [
        {
          "output_type": "stream",
          "text": [
            "RMSE = 51176.20\n"
          ],
          "name": "stdout"
        }
      ]
    },
    {
      "cell_type": "code",
      "metadata": {
        "colab_type": "code",
        "id": "D8xGyj6ob2lx",
        "colab": {
          "base_uri": "https://localhost:8080/",
          "height": 334
        },
        "outputId": "7284ac31-6051-4364-847b-2cad44677983"
      },
      "source": [
        "plt.plot(df_italy.iloc[0])\n",
        "plt.plot(df.loc[\"Predict\"])\n",
        "plt.xticks(rotation=30)\n",
        "plt.legend('best', labels=[\"Original\",\"Predict\"])\n",
        "plt.title(\"Italy Class\")\n",
        "plt.show()"
      ],
      "execution_count": null,
      "outputs": [
        {
          "output_type": "stream",
          "text": [
            "/usr/local/lib/python3.6/dist-packages/ipykernel_launcher.py:4: UserWarning: You have mixed positional and keyword arguments, some input may be discarded.\n",
            "  after removing the cwd from sys.path.\n"
          ],
          "name": "stderr"
        },
        {
          "output_type": "display_data",
          "data": {
            "image/png": "[encoded data removed]",
            "text/plain": [
              "<Figure size 432x288 with 1 Axes>"
            ]
          },
          "metadata": {
            "tags": [],
            "needs_background": "light"
          }
        }
      ]
    },
    {
      "cell_type": "code",
      "metadata": {
        "id": "gRvcDhB-cSrx",
        "colab_type": "code",
        "colab": {}
      },
      "source": [
        ""
      ],
      "execution_count": null,
      "outputs": []
    },
    {
      "cell_type": "markdown",
      "metadata": {
        "colab_type": "text",
        "id": "QQe2h_PGbBpX"
      },
      "source": [
        "### Canada"
      ]
    },
    {
      "cell_type": "code",
      "metadata": {
        "colab_type": "code",
        "id": "tmPo7PQqbBpY",
        "colab": {}
      },
      "source": [
        "arr, date=sum_regioncase(df_conf, \"Canada\")"
      ],
      "execution_count": null,
      "outputs": []
    },
    {
      "cell_type": "code",
      "metadata": {
        "colab_type": "code",
        "id": "1ypPBhohbBpb",
        "colab": {}
      },
      "source": [
        "df_canada=convert_dataframe(arr,date)\n",
        "trainset,testset=train_test(df_canada)\n",
        "data=df_canada.T"
      ],
      "execution_count": null,
      "outputs": []
    },
    {
      "cell_type": "code",
      "metadata": {
        "colab_type": "code",
        "id": "DYoc4legbBpe",
        "colab": {
          "base_uri": "https://localhost:8080/",
          "height": 235
        },
        "outputId": "f142ba45-286c-4bb6-9938-9b6e7f057b60"
      },
      "source": [
        "stepwise_model = auto_arima(data, start_p=1, start_q=1,\n",
        "                           max_p=60, max_q=60,\n",
        "                           start_P=0, seasonal=False,\n",
        "                           d=1, D=1, trace=True,\n",
        "                           error_action='ignore',  \n",
        "                           suppress_warnings=True, \n",
        "                           stepwise=True)\n",
        "print(stepwise_model.aic())"
      ],
      "execution_count": null,
      "outputs": [
        {
          "output_type": "stream",
          "text": [
            "Fit ARIMA: order=(1, 1, 1); AIC=2219.486, BIC=2231.736, Fit time=0.145 seconds\n",
            "Fit ARIMA: order=(0, 1, 0); AIC=2505.767, BIC=2511.892, Fit time=0.003 seconds\n",
            "Fit ARIMA: order=(1, 1, 0); AIC=2289.247, BIC=2298.435, Fit time=0.052 seconds\n",
            "Fit ARIMA: order=(0, 1, 1); AIC=2415.980, BIC=2425.168, Fit time=0.044 seconds\n",
            "Fit ARIMA: order=(2, 1, 1); AIC=2213.973, BIC=2229.286, Fit time=0.157 seconds\n",
            "Fit ARIMA: order=(2, 1, 0); AIC=2238.160, BIC=2250.410, Fit time=0.106 seconds\n",
            "Fit ARIMA: order=(2, 1, 2); AIC=2208.798, BIC=2227.173, Fit time=0.278 seconds\n",
            "Fit ARIMA: order=(3, 1, 3); AIC=2211.202, BIC=2235.702, Fit time=0.529 seconds\n",
            "Fit ARIMA: order=(1, 1, 2); AIC=2210.518, BIC=2225.831, Fit time=0.238 seconds\n",
            "Fit ARIMA: order=(3, 1, 2); AIC=2210.564, BIC=2232.002, Fit time=0.329 seconds\n",
            "Fit ARIMA: order=(2, 1, 3); AIC=2210.635, BIC=2232.073, Fit time=0.421 seconds\n",
            "Total fit time: 2.306 seconds\n",
            "2208.797921334141\n"
          ],
          "name": "stdout"
        }
      ]
    },
    {
      "cell_type": "code",
      "metadata": {
        "colab_type": "code",
        "id": "7k7q7JV6bBpi",
        "colab": {
          "base_uri": "https://localhost:8080/",
          "height": 84
        },
        "outputId": "bf7f9e7b-4c49-4922-e6da-0cc31e382b3e"
      },
      "source": [
        "stepwise_model.fit(trainset.T)"
      ],
      "execution_count": null,
      "outputs": [
        {
          "output_type": "execute_result",
          "data": {
            "text/plain": [
              "ARIMA(callback=None, disp=0, maxiter=50, method=None, order=(2, 1, 2),\n",
              "      out_of_sample_size=0, scoring='mse', scoring_args={}, seasonal_order=None,\n",
              "      solver='lbfgs', start_params=None, suppress_warnings=True,\n",
              "      transparams=True, trend='c')"
            ]
          },
          "metadata": {
            "tags": []
          },
          "execution_count": 131
        }
      ]
    },
    {
      "cell_type": "code",
      "metadata": {
        "colab_type": "code",
        "id": "kVVMfCv5bBpk",
        "colab": {
          "base_uri": "https://localhost:8080/",
          "height": 398
        },
        "outputId": "c6fce8d3-92e1-4ef6-a60b-796d131333f8"
      },
      "source": [
        "stepwise_model.summary()"
      ],
      "execution_count": null,
      "outputs": [
        {
          "output_type": "execute_result",
          "data": {
            "text/html": [
              "<table class=\"simpletable\">\n",
              "<caption>ARIMA Model Results</caption>\n",
              "<tr>\n",
              "  <th>Dep. Variable:</th>        <td>D.y</td>       <th>  No. Observations:  </th>    <td>126</td>  \n",
              "</tr>\n",
              "<tr>\n",
              "  <th>Model:</th>          <td>ARIMA(2, 1, 2)</td>  <th>  Log Likelihood     </th> <td>-889.108</td>\n",
              "</tr>\n",
              "<tr>\n",
              "  <th>Method:</th>             <td>css-mle</td>     <th>  S.D. of innovations</th>  <td>277.756</td>\n",
              "</tr>\n",
              "<tr>\n",
              "  <th>Date:</th>          <td>Sat, 15 Aug 2020</td> <th>  AIC                </th> <td>1790.215</td>\n",
              "</tr>\n",
              "<tr>\n",
              "  <th>Time:</th>              <td>18:49:28</td>     <th>  BIC                </th> <td>1807.233</td>\n",
              "</tr>\n",
              "<tr>\n",
              "  <th>Sample:</th>                <td>1</td>        <th>  HQIC               </th> <td>1797.129</td>\n",
              "</tr>\n",
              "<tr>\n",
              "  <th></th>                       <td> </td>        <th>                     </th>     <td> </td>   \n",
              "</tr>\n",
              "</table>\n",
              "<table class=\"simpletable\">\n",
              "<tr>\n",
              "      <td></td>         <th>coef</th>     <th>std err</th>      <th>z</th>      <th>P>|z|</th>  <th>[0.025</th>    <th>0.975]</th>  \n",
              "</tr>\n",
              "<tr>\n",
              "  <th>const</th>     <td>  591.0261</td> <td>  449.665</td> <td>    1.314</td> <td> 0.191</td> <td> -290.300</td> <td> 1472.352</td>\n",
              "</tr>\n",
              "<tr>\n",
              "  <th>ar.L1.D.y</th> <td>    1.3683</td> <td>    0.178</td> <td>    7.685</td> <td> 0.000</td> <td>    1.019</td> <td>    1.717</td>\n",
              "</tr>\n",
              "<tr>\n",
              "  <th>ar.L2.D.y</th> <td>   -0.3794</td> <td>    0.177</td> <td>   -2.140</td> <td> 0.034</td> <td>   -0.727</td> <td>   -0.032</td>\n",
              "</tr>\n",
              "<tr>\n",
              "  <th>ma.L1.D.y</th> <td>   -1.2880</td> <td>    0.152</td> <td>   -8.494</td> <td> 0.000</td> <td>   -1.585</td> <td>   -0.991</td>\n",
              "</tr>\n",
              "<tr>\n",
              "  <th>ma.L2.D.y</th> <td>    0.5612</td> <td>    0.129</td> <td>    4.359</td> <td> 0.000</td> <td>    0.309</td> <td>    0.814</td>\n",
              "</tr>\n",
              "</table>\n",
              "<table class=\"simpletable\">\n",
              "<caption>Roots</caption>\n",
              "<tr>\n",
              "    <td></td>   <th>            Real</th>  <th>         Imaginary</th> <th>         Modulus</th>  <th>        Frequency</th>\n",
              "</tr>\n",
              "<tr>\n",
              "  <th>AR.1</th> <td>           1.0184</td> <td>          +0.0000j</td> <td>           1.0184</td> <td>           0.0000</td>\n",
              "</tr>\n",
              "<tr>\n",
              "  <th>AR.2</th> <td>           2.5884</td> <td>          +0.0000j</td> <td>           2.5884</td> <td>           0.0000</td>\n",
              "</tr>\n",
              "<tr>\n",
              "  <th>MA.1</th> <td>           1.1475</td> <td>          -0.6819j</td> <td>           1.3349</td> <td>          -0.0853</td>\n",
              "</tr>\n",
              "<tr>\n",
              "  <th>MA.2</th> <td>           1.1475</td> <td>          +0.6819j</td> <td>           1.3349</td> <td>           0.0853</td>\n",
              "</tr>\n",
              "</table>"
            ],
            "text/plain": [
              "<class 'statsmodels.iolib.summary.Summary'>\n",
              "\"\"\"\n",
              "                             ARIMA Model Results                              \n",
              "==============================================================================\n",
              "Dep. Variable:                    D.y   No. Observations:                  126\n",
              "Model:                 ARIMA(2, 1, 2)   Log Likelihood                -889.108\n",
              "Method:                       css-mle   S.D. of innovations            277.756\n",
              "Date:                Sat, 15 Aug 2020   AIC                           1790.215\n",
              "Time:                        18:49:28   BIC                           1807.233\n",
              "Sample:                             1   HQIC                          1797.129\n",
              "                                                                              \n",
              "==============================================================================\n",
              "                 coef    std err          z      P>|z|      [0.025      0.975]\n",
              "------------------------------------------------------------------------------\n",
              "const        591.0261    449.665      1.314      0.191    -290.300    1472.352\n",
              "ar.L1.D.y      1.3683      0.178      7.685      0.000       1.019       1.717\n",
              "ar.L2.D.y     -0.3794      0.177     -2.140      0.034      -0.727      -0.032\n",
              "ma.L1.D.y     -1.2880      0.152     -8.494      0.000      -1.585      -0.991\n",
              "ma.L2.D.y      0.5612      0.129      4.359      0.000       0.309       0.814\n",
              "                                    Roots                                    \n",
              "=============================================================================\n",
              "                  Real          Imaginary           Modulus         Frequency\n",
              "-----------------------------------------------------------------------------\n",
              "AR.1            1.0184           +0.0000j            1.0184            0.0000\n",
              "AR.2            2.5884           +0.0000j            2.5884            0.0000\n",
              "MA.1            1.1475           -0.6819j            1.3349           -0.0853\n",
              "MA.2            1.1475           +0.6819j            1.3349            0.0853\n",
              "-----------------------------------------------------------------------------\n",
              "\"\"\""
            ]
          },
          "metadata": {
            "tags": []
          },
          "execution_count": 132
        }
      ]
    },
    {
      "cell_type": "code",
      "metadata": {
        "colab_type": "code",
        "id": "GTUgA1TpbBpm",
        "colab": {}
      },
      "source": [
        "future_forecast = stepwise_model.predict(n_periods=len(date)-split_idx)\n",
        "df_origin=pd.DataFrame(testset, columns=date[split_idx:])\n",
        "df_predict=pd.DataFrame(np.array([future_forecast]),columns=date[-len(future_forecast):])"
      ],
      "execution_count": null,
      "outputs": []
    },
    {
      "cell_type": "code",
      "metadata": {
        "colab_type": "code",
        "id": "fOe1GorIbBpn",
        "colab": {}
      },
      "source": [
        "frames=[df_origin,df_predict]\n",
        "df = pd.concat(frames, ignore_index=True)\n",
        "df=df.rename(index={0:\"Original\",1:\"Predict\"})"
      ],
      "execution_count": null,
      "outputs": []
    },
    {
      "cell_type": "code",
      "metadata": {
        "id": "-O2CeZuadGtq",
        "colab_type": "code",
        "colab": {
          "base_uri": "https://localhost:8080/",
          "height": 34
        },
        "outputId": "31b58b12-6cf9-4040-ea27-1fbcca17893c"
      },
      "source": [
        "arima_residuals = np.array(df_predict) - np.array(df_origin)\n",
        "arima_rmse = np.sqrt(np.sum(np.power(arima_residuals,2)) / len(arima_residuals))\n",
        "print('RMSE = %.2f' % arima_rmse)"
      ],
      "execution_count": null,
      "outputs": [
        {
          "output_type": "stream",
          "text": [
            "RMSE = 30290.35\n"
          ],
          "name": "stdout"
        }
      ]
    },
    {
      "cell_type": "code",
      "metadata": {
        "colab_type": "code",
        "id": "MlUbpNKlbBpr",
        "colab": {
          "base_uri": "https://localhost:8080/",
          "height": 334
        },
        "outputId": "a3b2fad0-ae5a-4059-fc64-5e005de1e8fb"
      },
      "source": [
        "plt.plot(df_canada.iloc[0])\n",
        "plt.plot(df.loc[\"Predict\"])\n",
        "plt.xticks(rotation=30)\n",
        "plt.legend('best', labels=[\"Original\",\"Predict\"])\n",
        "plt.title(\"Canada Class\")\n",
        "plt.show()"
      ],
      "execution_count": null,
      "outputs": [
        {
          "output_type": "stream",
          "text": [
            "/usr/local/lib/python3.6/dist-packages/ipykernel_launcher.py:4: UserWarning: You have mixed positional and keyword arguments, some input may be discarded.\n",
            "  after removing the cwd from sys.path.\n"
          ],
          "name": "stderr"
        },
        {
          "output_type": "display_data",
          "data": {
            "image/png": "[encoded data removed]",
            "text/plain": [
              "<Figure size 432x288 with 1 Axes>"
            ]
          },
          "metadata": {
            "tags": [],
            "needs_background": "light"
          }
        }
      ]
    },
    {
      "cell_type": "code",
      "metadata": {
        "id": "A9sQzXUicXnO",
        "colab_type": "code",
        "colab": {}
      },
      "source": [
        ""
      ],
      "execution_count": null,
      "outputs": []
    }
  ]
}