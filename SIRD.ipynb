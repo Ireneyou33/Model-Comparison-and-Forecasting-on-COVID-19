{
  "nbformat": 4,
  "nbformat_minor": 0,
  "metadata": {
    "kernelspec": {
      "display_name": "Python 3",
      "language": "python",
      "name": "python3"
    },
    "language_info": {
      "codemirror_mode": {
        "name": "ipython",
        "version": 3
      },
      "file_extension": ".py",
      "mimetype": "text/x-python",
      "name": "python",
      "nbconvert_exporter": "python",
      "pygments_lexer": "ipython3",
      "version": "3.7.1"
    },
    "colab": {
      "name": "SIRD.ipynb",
      "provenance": [],
      "collapsed_sections": [
        "65Ck2oDDTHGM"
      ],
      "include_colab_link": true
    }
  },
  "cells": [
    {
      "cell_type": "markdown",
      "metadata": {
        "id": "view-in-github",
        "colab_type": "text"
      },
      "source": [
        "<a href=\"https://colab.research.google.com/github/Ireneyou33/Model-Comparison-and-Forecasting-on-COVID-19/blob/master/SIRD.ipynb\" target=\"_parent\"><img src=\"https://colab.research.google.com/assets/colab-badge.svg\" alt=\"Open In Colab\"/></a>"
      ]
    },
    {
      "cell_type": "code",
      "metadata": {
        "id": "xk8cqcjJTHGD",
        "colab_type": "code",
        "colab": {}
      },
      "source": [
        "import numpy as np\n",
        "import pandas as pd\n",
        "import tensorflow as tf\n",
        "from tensorflow import keras\n",
        "from scipy.integrate import odeint\n",
        "import matplotlib.pyplot as plt\n",
        "from ipywidgets.widgets import interact, IntSlider, FloatSlider, Layout\n",
        "import datetime as dt\n",
        "from tensorflow.python.keras.layers import Dense, LSTM\n",
        "from tensorflow.python.keras import Sequential\n",
        "from keras.models import load_model\n",
        "from keras.models import model_from_json\n",
        "from datetime import datetime, timedelta"
      ],
      "execution_count": null,
      "outputs": []
    },
    {
      "cell_type": "code",
      "metadata": {
        "id": "akbeLY9tTHGH",
        "colab_type": "code",
        "colab": {
          "base_uri": "https://localhost:8080/",
          "height": 34
        },
        "outputId": "2dc30853-c0b2-4e2f-dd99-90e0717073b9"
      },
      "source": [
        "from google.colab import drive\n",
        "drive.mount('/content/drive')"
      ],
      "execution_count": null,
      "outputs": [
        {
          "output_type": "stream",
          "text": [
            "Drive already mounted at /content/drive; to attempt to forcibly remount, call drive.mount(\"/content/drive\", force_remount=True).\n"
          ],
          "name": "stdout"
        }
      ]
    },
    {
      "cell_type": "code",
      "metadata": {
        "id": "ttBJu9aXTHGJ",
        "colab_type": "code",
        "colab": {}
      },
      "source": [
        "df_conf=pd.read_csv(\"/content/drive/My Drive/ST494/project/Conf_new.csv\")\n",
        "df_death=pd.read_csv(\"/content/drive/My Drive/ST494/project/Death_new.csv\")\n",
        "df_recover=pd.read_csv(\"/content/drive/My Drive/ST494/project/Rec_new.csv\")"
      ],
      "execution_count": null,
      "outputs": []
    },
    {
      "cell_type": "code",
      "metadata": {
        "id": "Qig0vfLa__6R",
        "colab_type": "code",
        "colab": {
          "base_uri": "https://localhost:8080/",
          "height": 50
        },
        "outputId": "70814fc2-9151-4394-a567-a10055361377"
      },
      "source": [
        "date=df_conf.columns[4:]\n",
        "i = 0\n",
        "date.values[i]=pd.to_datetime(date.values[i], format=\"%m/%d/%y\")\n",
        "start_date = date.values[i]\n",
        "for i in range(1,len(date)):\n",
        "    date.values[i]=init_date + timedelta(days=i)\n",
        "\n",
        "print(len(date))\n",
        "\n",
        "idx = int(len(date)*0.8)\n",
        "print(idx)"
      ],
      "execution_count": null,
      "outputs": [
        {
          "output_type": "stream",
          "text": [
            "169\n",
            "135\n"
          ],
          "name": "stdout"
        }
      ]
    },
    {
      "cell_type": "markdown",
      "metadata": {
        "id": "65Ck2oDDTHGM",
        "colab_type": "text"
      },
      "source": [
        "## Hubei Province, China"
      ]
    },
    {
      "cell_type": "markdown",
      "metadata": {
        "id": "BWLNl5LwTHGN",
        "colab_type": "text"
      },
      "source": [
        "Hubei lockdown on Jan. 23, 2020 (Day 1)"
      ]
    },
    {
      "cell_type": "code",
      "metadata": {
        "id": "c_NAAFKWTHGN",
        "colab_type": "code",
        "colab": {}
      },
      "source": [
        "ave_days = 7\n",
        "lockdown_date=1"
      ],
      "execution_count": null,
      "outputs": []
    },
    {
      "cell_type": "markdown",
      "metadata": {
        "id": "ONfIQATVTHGQ",
        "colab_type": "text"
      },
      "source": [
        "### Hubei R0"
      ]
    },
    {
      "cell_type": "markdown",
      "metadata": {
        "id": "BqXbn0PSTHGQ",
        "colab_type": "text"
      },
      "source": [
        "Hubei cumulative Confirmed, Recovery, Deaths cases"
      ]
    },
    {
      "cell_type": "code",
      "metadata": {
        "id": "D2Vj5QgrTHGR",
        "colab_type": "code",
        "colab": {}
      },
      "source": [
        "df_hubei=df_conf[df_conf[\"Province/State\"]==\"Hubei\"].iloc[:,4:]\n",
        "hubei_recov=df_recover[df_recover[\"Province/State\"]==\"Hubei\"].iloc[:,4:]\n",
        "hubei_death=df_death[df_death[\"Province/State\"]==\"Hubei\"].iloc[:,4:]"
      ],
      "execution_count": null,
      "outputs": []
    },
    {
      "cell_type": "code",
      "metadata": {
        "id": "riXZ-xupTHGc",
        "colab_type": "code",
        "colab": {
          "base_uri": "https://localhost:8080/",
          "height": 34
        },
        "outputId": "41f34283-90c5-401e-eedd-8dc43e69cfa0"
      },
      "source": [
        "hubei_death.shape[1]"
      ],
      "execution_count": null,
      "outputs": [
        {
          "output_type": "execute_result",
          "data": {
            "text/plain": [
              "169"
            ]
          },
          "metadata": {
            "tags": []
          },
          "execution_count": 49
        }
      ]
    },
    {
      "cell_type": "markdown",
      "metadata": {
        "id": "-hZVR0CPTHGe",
        "colab_type": "text"
      },
      "source": [
        "Log of Confirmed/Infectious population in Hubei province"
      ]
    },
    {
      "cell_type": "code",
      "metadata": {
        "id": "prvfxu1GTHGh",
        "colab_type": "code",
        "colab": {
          "base_uri": "https://localhost:8080/",
          "height": 142
        },
        "outputId": "3ba25fc3-cbae-480d-d964-b6ef46225aa3"
      },
      "source": [
        "df_hubei_aveR0=ave_R0(df_hubei, hubei_recov, hubei_death, ave_days=7)\n",
        "df_hubei_aveR0"
      ],
      "execution_count": null,
      "outputs": [
        {
          "output_type": "execute_result",
          "data": {
            "text/html": [
              "<div>\n",
              "<style scoped>\n",
              "    .dataframe tbody tr th:only-of-type {\n",
              "        vertical-align: middle;\n",
              "    }\n",
              "\n",
              "    .dataframe tbody tr th {\n",
              "        vertical-align: top;\n",
              "    }\n",
              "\n",
              "    .dataframe thead th {\n",
              "        text-align: right;\n",
              "    }\n",
              "</style>\n",
              "<table border=\"1\" class=\"dataframe\">\n",
              "  <thead>\n",
              "    <tr style=\"text-align: right;\">\n",
              "      <th></th>\n",
              "      <th>2020-01-22</th>\n",
              "      <th>2020-01-23</th>\n",
              "      <th>2020-01-24</th>\n",
              "      <th>2020-01-25</th>\n",
              "      <th>2020-01-26</th>\n",
              "      <th>2020-01-27</th>\n",
              "      <th>2020-01-28</th>\n",
              "      <th>2020-01-29</th>\n",
              "      <th>2020-01-30</th>\n",
              "      <th>2020-01-31</th>\n",
              "      <th>2020-02-01</th>\n",
              "      <th>2020-02-02</th>\n",
              "      <th>2020-02-03</th>\n",
              "      <th>2020-02-04</th>\n",
              "      <th>2020-02-05</th>\n",
              "      <th>2020-02-06</th>\n",
              "      <th>2020-02-07</th>\n",
              "      <th>2020-02-08</th>\n",
              "      <th>2020-02-09</th>\n",
              "      <th>2020-02-10</th>\n",
              "      <th>2020-02-11</th>\n",
              "      <th>2020-02-12</th>\n",
              "      <th>2020-02-13</th>\n",
              "      <th>2020-02-14</th>\n",
              "      <th>2020-02-15</th>\n",
              "      <th>2020-02-16</th>\n",
              "      <th>2020-02-17</th>\n",
              "      <th>2020-02-18</th>\n",
              "      <th>2020-02-19</th>\n",
              "      <th>2020-02-20</th>\n",
              "      <th>2020-02-21</th>\n",
              "      <th>2020-02-22</th>\n",
              "      <th>2020-02-23</th>\n",
              "      <th>2020-02-24</th>\n",
              "      <th>2020-02-25</th>\n",
              "      <th>2020-02-26</th>\n",
              "      <th>2020-02-27</th>\n",
              "      <th>2020-02-28</th>\n",
              "      <th>2020-02-29</th>\n",
              "      <th>2020-03-01</th>\n",
              "      <th>...</th>\n",
              "      <th>2020-05-23</th>\n",
              "      <th>2020-05-24</th>\n",
              "      <th>2020-05-25</th>\n",
              "      <th>2020-05-26</th>\n",
              "      <th>2020-05-27</th>\n",
              "      <th>2020-05-28</th>\n",
              "      <th>2020-05-29</th>\n",
              "      <th>2020-05-30</th>\n",
              "      <th>2020-05-31</th>\n",
              "      <th>2020-06-01</th>\n",
              "      <th>2020-06-02</th>\n",
              "      <th>2020-06-03</th>\n",
              "      <th>2020-06-04</th>\n",
              "      <th>2020-06-05</th>\n",
              "      <th>2020-06-06</th>\n",
              "      <th>2020-06-07</th>\n",
              "      <th>2020-06-08</th>\n",
              "      <th>2020-06-09</th>\n",
              "      <th>2020-06-10</th>\n",
              "      <th>2020-06-11</th>\n",
              "      <th>2020-06-12</th>\n",
              "      <th>2020-06-13</th>\n",
              "      <th>2020-06-14</th>\n",
              "      <th>2020-06-15</th>\n",
              "      <th>2020-06-16</th>\n",
              "      <th>2020-06-17</th>\n",
              "      <th>2020-06-18</th>\n",
              "      <th>2020-06-19</th>\n",
              "      <th>2020-06-20</th>\n",
              "      <th>2020-06-21</th>\n",
              "      <th>2020-06-22</th>\n",
              "      <th>2020-06-23</th>\n",
              "      <th>2020-06-24</th>\n",
              "      <th>2020-06-25</th>\n",
              "      <th>2020-06-26</th>\n",
              "      <th>2020-06-27</th>\n",
              "      <th>2020-06-28</th>\n",
              "      <th>2020-06-29</th>\n",
              "      <th>2020-06-30</th>\n",
              "      <th>2020-07-01</th>\n",
              "    </tr>\n",
              "  </thead>\n",
              "  <tbody>\n",
              "    <tr>\n",
              "      <th>0</th>\n",
              "      <td>9.212515</td>\n",
              "      <td>13.544321</td>\n",
              "      <td>13.471056</td>\n",
              "      <td>14.368105</td>\n",
              "      <td>14.740208</td>\n",
              "      <td>15.043069</td>\n",
              "      <td>14.843987</td>\n",
              "      <td>17.012653</td>\n",
              "      <td>14.125969</td>\n",
              "      <td>13.860258</td>\n",
              "      <td>12.183254</td>\n",
              "      <td>10.956206</td>\n",
              "      <td>9.54033</td>\n",
              "      <td>7.970804</td>\n",
              "      <td>5.802139</td>\n",
              "      <td>6.227796</td>\n",
              "      <td>5.790262</td>\n",
              "      <td>5.325837</td>\n",
              "      <td>4.795809</td>\n",
              "      <td>4.442858</td>\n",
              "      <td>4.166967</td>\n",
              "      <td>4.204717</td>\n",
              "      <td>2.514164</td>\n",
              "      <td>2.281598</td>\n",
              "      <td>2.075019</td>\n",
              "      <td>1.831735</td>\n",
              "      <td>1.657195</td>\n",
              "      <td>1.517584</td>\n",
              "      <td>1.507692</td>\n",
              "      <td>1.494194</td>\n",
              "      <td>1.171652</td>\n",
              "      <td>1.139022</td>\n",
              "      <td>1.170485</td>\n",
              "      <td>1.163312</td>\n",
              "      <td>1.139373</td>\n",
              "      <td>1.118397</td>\n",
              "      <td>1.103782</td>\n",
              "      <td>1.10121</td>\n",
              "      <td>1.085418</td>\n",
              "      <td>1.057278</td>\n",
              "      <td>...</td>\n",
              "      <td>0.428571</td>\n",
              "      <td>0.428571</td>\n",
              "      <td>0.428571</td>\n",
              "      <td>0.285714</td>\n",
              "      <td>0.285714</td>\n",
              "      <td>0.428571</td>\n",
              "      <td>0.285714</td>\n",
              "      <td>0.285714</td>\n",
              "      <td>0.142857</td>\n",
              "      <td>0.142857</td>\n",
              "      <td>0.142857</td>\n",
              "      <td>0.142857</td>\n",
              "      <td>0.0</td>\n",
              "      <td>0.0</td>\n",
              "      <td>0.0</td>\n",
              "      <td>0.0</td>\n",
              "      <td>0.0</td>\n",
              "      <td>0.0</td>\n",
              "      <td>0.0</td>\n",
              "      <td>0.0</td>\n",
              "      <td>0.0</td>\n",
              "      <td>0.0</td>\n",
              "      <td>0.0</td>\n",
              "      <td>0.0</td>\n",
              "      <td>0.0</td>\n",
              "      <td>0.0</td>\n",
              "      <td>0.0</td>\n",
              "      <td>0.0</td>\n",
              "      <td>0.0</td>\n",
              "      <td>0.0</td>\n",
              "      <td>0.0</td>\n",
              "      <td>0.0</td>\n",
              "      <td>0.0</td>\n",
              "      <td>0.0</td>\n",
              "      <td>0.0</td>\n",
              "      <td>0.0</td>\n",
              "      <td>0.0</td>\n",
              "      <td>0.0</td>\n",
              "      <td>0.0</td>\n",
              "      <td>0.0</td>\n",
              "    </tr>\n",
              "  </tbody>\n",
              "</table>\n",
              "<p>1 rows × 162 columns</p>\n",
              "</div>"
            ],
            "text/plain": [
              "   2020-01-22  2020-01-23  2020-01-24  ...  2020-06-29  2020-06-30  2020-07-01\n",
              "0    9.212515   13.544321   13.471056  ...         0.0         0.0         0.0\n",
              "\n",
              "[1 rows x 162 columns]"
            ]
          },
          "metadata": {
            "tags": []
          },
          "execution_count": 51
        }
      ]
    },
    {
      "cell_type": "code",
      "metadata": {
        "id": "rPO_hz7PTHGk",
        "colab_type": "code",
        "colab": {
          "base_uri": "https://localhost:8080/",
          "height": 364
        },
        "outputId": "61d11bd3-1ced-4eb4-d59b-862cf42b4c12"
      },
      "source": [
        "plt.subplot(211)\n",
        "# plt.figure(figsize=(10,7))\n",
        "plt.plot(df_hubei_aveR0.loc[0].tolist())\n",
        "plt.xticks(rotation=30)\n",
        "plt.legend('best', labels=[\"average R0\"])\n",
        "plt.title(\"average R0 in Hubei\")\n",
        "\n",
        "plt.subplot(212)\n",
        "plt.plot(df_hubei_aveR0.loc[0].tolist())\n",
        "plt.xticks(rotation=30)\n",
        "plt.ylim(0,1.5)\n",
        "plt.legend('best', labels=[\"average R0\"])\n",
        "plt.title(\"average R0 in Hubei\")\n",
        "plt.tight_layout()\n",
        "plt.show()"
      ],
      "execution_count": null,
      "outputs": [
        {
          "output_type": "stream",
          "text": [
            "/usr/local/lib/python3.6/dist-packages/ipykernel_launcher.py:5: UserWarning: You have mixed positional and keyword arguments, some input may be discarded.\n",
            "  \"\"\"\n",
            "/usr/local/lib/python3.6/dist-packages/ipykernel_launcher.py:12: UserWarning: You have mixed positional and keyword arguments, some input may be discarded.\n",
            "  if sys.path[0] == '':\n"
          ],
          "name": "stderr"
        },
        {
          "output_type": "display_data",
          "data": {
            "image/png": "[encoded data removed]",
            "text/plain": [
              "<Figure size 432x288 with 2 Axes>"
            ]
          },
          "metadata": {
            "tags": [],
            "needs_background": "light"
          }
        }
      ]
    },
    {
      "cell_type": "markdown",
      "metadata": {
        "id": "jVMEbS6ITHGm",
        "colab_type": "text"
      },
      "source": [
        "### LSTM R0"
      ]
    },
    {
      "cell_type": "markdown",
      "metadata": {
        "id": "iGqh0p6MTHGn",
        "colab_type": "text"
      },
      "source": [
        "Train and save models"
      ]
    },
    {
      "cell_type": "code",
      "metadata": {
        "id": "Y-uML6lhTHGn",
        "colab_type": "code",
        "colab": {
          "base_uri": "https://localhost:8080/",
          "height": 70
        },
        "outputId": "e046d960-6519-4eb1-90ad-4db999e7a892"
      },
      "source": [
        "# lstm_r0_model(df_hubei_aveR0, w=3, r=1, lockdown_date=1)"
      ],
      "execution_count": null,
      "outputs": [
        {
          "output_type": "stream",
          "text": [
            "WARNING:tensorflow:Model was constructed with shape (None, 3, 1) for input Tensor(\"lstm_2_input:0\", shape=(None, 3, 1), dtype=float32), but it was called on an input with incompatible shape (None, 1, 1).\n",
            "WARNING:tensorflow:Model was constructed with shape (None, 3, 1) for input Tensor(\"lstm_2_input:0\", shape=(None, 3, 1), dtype=float32), but it was called on an input with incompatible shape (None, 1, 1).\n"
          ],
          "name": "stdout"
        }
      ]
    },
    {
      "cell_type": "code",
      "metadata": {
        "id": "cSAfPlUzTHGp",
        "colab_type": "code",
        "colab": {}
      },
      "source": [
        "lstm_r0_model(df_hubei_aveR0, w=1, r=1, lockdown_date=1)"
      ],
      "execution_count": null,
      "outputs": []
    },
    {
      "cell_type": "code",
      "metadata": {
        "id": "Z9P8Ru5zYSRF",
        "colab_type": "code",
        "colab": {}
      },
      "source": [
        "# w=3\n",
        "# r=1\n",
        "# NN_r0_model(df_hubei_aveR0, w=w, r=1, lockdown_date=1)"
      ],
      "execution_count": null,
      "outputs": []
    },
    {
      "cell_type": "code",
      "metadata": {
        "id": "uv9alGH_a7dG",
        "colab_type": "code",
        "colab": {}
      },
      "source": [
        "# w=1\n",
        "# NN_r0_model(df_hubei_aveR0, w=w, r=1, lockdown_date=1)"
      ],
      "execution_count": null,
      "outputs": []
    },
    {
      "cell_type": "code",
      "metadata": {
        "id": "QBVHnD2-bA8G",
        "colab_type": "code",
        "colab": {}
      },
      "source": [
        "w=5\n",
        "NN_r0_model(df_hubei_aveR0, w=w, r=1, lockdown_date=1)"
      ],
      "execution_count": null,
      "outputs": []
    },
    {
      "cell_type": "markdown",
      "metadata": {
        "id": "QNAr0PfsTHGs",
        "colab_type": "text"
      },
      "source": [
        "## Italy R0"
      ]
    },
    {
      "cell_type": "markdown",
      "metadata": {
        "id": "NKT01UrvTHGt",
        "colab_type": "text"
      },
      "source": [
        "Italy lockdown on Mar.9, 2020 (Day47)"
      ]
    },
    {
      "cell_type": "code",
      "metadata": {
        "id": "UyqfwwHITHGt",
        "colab_type": "code",
        "colab": {}
      },
      "source": [
        "ave_days = 7\n",
        "lockdown_date=47"
      ],
      "execution_count": null,
      "outputs": []
    },
    {
      "cell_type": "code",
      "metadata": {
        "id": "Lm9S_hU2THGx",
        "colab_type": "code",
        "colab": {}
      },
      "source": [
        "df_italy=df_conf[df_conf[\"Country/Region\"]==\"Italy\"].iloc[:,4:]\n",
        "italy_recov=df_recover[df_recover[\"Country/Region\"]==\"Italy\"].iloc[:,4:]\n",
        "italy_death=df_death[df_death[\"Country/Region\"]==\"Italy\"].iloc[:,4:]"
      ],
      "execution_count": null,
      "outputs": []
    },
    {
      "cell_type": "code",
      "metadata": {
        "id": "cmGX1K3pTHG2",
        "colab_type": "code",
        "colab": {
          "base_uri": "https://localhost:8080/",
          "height": 277
        },
        "outputId": "d15c7b0f-4a3d-46c0-80db-ee0b5dba9a00"
      },
      "source": [
        "df_italy_aveR0 = ave_R0(df_italy, italy_recov, italy_death, ave_days=7)\n",
        "df_italy_aveR0.iloc[:,lockdown_date:]"
      ],
      "execution_count": null,
      "outputs": [
        {
          "output_type": "stream",
          "text": [
            "/usr/local/lib/python3.6/dist-packages/ipykernel_launcher.py:7: RuntimeWarning: divide by zero encountered in log\n",
            "  import sys\n",
            "/usr/local/lib/python3.6/dist-packages/ipykernel_launcher.py:7: RuntimeWarning: invalid value encountered in double_scalars\n",
            "  import sys\n",
            "/usr/local/lib/python3.6/dist-packages/ipykernel_launcher.py:8: RuntimeWarning: invalid value encountered in long_scalars\n",
            "  \n",
            "/usr/local/lib/python3.6/dist-packages/ipykernel_launcher.py:9: RuntimeWarning: invalid value encountered in long_scalars\n",
            "  if __name__ == '__main__':\n"
          ],
          "name": "stderr"
        },
        {
          "output_type": "execute_result",
          "data": {
            "text/html": [
              "<div>\n",
              "<style scoped>\n",
              "    .dataframe tbody tr th:only-of-type {\n",
              "        vertical-align: middle;\n",
              "    }\n",
              "\n",
              "    .dataframe tbody tr th {\n",
              "        vertical-align: top;\n",
              "    }\n",
              "\n",
              "    .dataframe thead th {\n",
              "        text-align: right;\n",
              "    }\n",
              "</style>\n",
              "<table border=\"1\" class=\"dataframe\">\n",
              "  <thead>\n",
              "    <tr style=\"text-align: right;\">\n",
              "      <th></th>\n",
              "      <th>2020-03-09</th>\n",
              "      <th>2020-03-10</th>\n",
              "      <th>2020-03-11</th>\n",
              "      <th>2020-03-12</th>\n",
              "      <th>2020-03-13</th>\n",
              "      <th>2020-03-14</th>\n",
              "      <th>2020-03-15</th>\n",
              "      <th>2020-03-16</th>\n",
              "      <th>2020-03-17</th>\n",
              "      <th>2020-03-18</th>\n",
              "      <th>2020-03-19</th>\n",
              "      <th>2020-03-20</th>\n",
              "      <th>2020-03-21</th>\n",
              "      <th>2020-03-22</th>\n",
              "      <th>2020-03-23</th>\n",
              "      <th>2020-03-24</th>\n",
              "      <th>2020-03-25</th>\n",
              "      <th>2020-03-26</th>\n",
              "      <th>2020-03-27</th>\n",
              "      <th>2020-03-28</th>\n",
              "      <th>2020-03-29</th>\n",
              "      <th>2020-03-30</th>\n",
              "      <th>2020-03-31</th>\n",
              "      <th>2020-04-01</th>\n",
              "      <th>2020-04-02</th>\n",
              "      <th>2020-04-03</th>\n",
              "      <th>2020-04-04</th>\n",
              "      <th>2020-04-05</th>\n",
              "      <th>2020-04-06</th>\n",
              "      <th>2020-04-07</th>\n",
              "      <th>2020-04-08</th>\n",
              "      <th>2020-04-09</th>\n",
              "      <th>2020-04-10</th>\n",
              "      <th>2020-04-11</th>\n",
              "      <th>2020-04-12</th>\n",
              "      <th>2020-04-13</th>\n",
              "      <th>2020-04-14</th>\n",
              "      <th>2020-04-15</th>\n",
              "      <th>2020-04-16</th>\n",
              "      <th>2020-04-17</th>\n",
              "      <th>...</th>\n",
              "      <th>2020-05-23</th>\n",
              "      <th>2020-05-24</th>\n",
              "      <th>2020-05-25</th>\n",
              "      <th>2020-05-26</th>\n",
              "      <th>2020-05-27</th>\n",
              "      <th>2020-05-28</th>\n",
              "      <th>2020-05-29</th>\n",
              "      <th>2020-05-30</th>\n",
              "      <th>2020-05-31</th>\n",
              "      <th>2020-06-01</th>\n",
              "      <th>2020-06-02</th>\n",
              "      <th>2020-06-03</th>\n",
              "      <th>2020-06-04</th>\n",
              "      <th>2020-06-05</th>\n",
              "      <th>2020-06-06</th>\n",
              "      <th>2020-06-07</th>\n",
              "      <th>2020-06-08</th>\n",
              "      <th>2020-06-09</th>\n",
              "      <th>2020-06-10</th>\n",
              "      <th>2020-06-11</th>\n",
              "      <th>2020-06-12</th>\n",
              "      <th>2020-06-13</th>\n",
              "      <th>2020-06-14</th>\n",
              "      <th>2020-06-15</th>\n",
              "      <th>2020-06-16</th>\n",
              "      <th>2020-06-17</th>\n",
              "      <th>2020-06-18</th>\n",
              "      <th>2020-06-19</th>\n",
              "      <th>2020-06-20</th>\n",
              "      <th>2020-06-21</th>\n",
              "      <th>2020-06-22</th>\n",
              "      <th>2020-06-23</th>\n",
              "      <th>2020-06-24</th>\n",
              "      <th>2020-06-25</th>\n",
              "      <th>2020-06-26</th>\n",
              "      <th>2020-06-27</th>\n",
              "      <th>2020-06-28</th>\n",
              "      <th>2020-06-29</th>\n",
              "      <th>2020-06-30</th>\n",
              "      <th>2020-07-01</th>\n",
              "    </tr>\n",
              "  </thead>\n",
              "  <tbody>\n",
              "    <tr>\n",
              "      <th>0</th>\n",
              "      <td>6.565064</td>\n",
              "      <td>6.659069</td>\n",
              "      <td>6.445157</td>\n",
              "      <td>5.470095</td>\n",
              "      <td>6.221069</td>\n",
              "      <td>5.933389</td>\n",
              "      <td>5.762067</td>\n",
              "      <td>6.287747</td>\n",
              "      <td>5.756697</td>\n",
              "      <td>5.812294</td>\n",
              "      <td>5.468051</td>\n",
              "      <td>4.735143</td>\n",
              "      <td>4.728785</td>\n",
              "      <td>4.774478</td>\n",
              "      <td>3.915894</td>\n",
              "      <td>3.855252</td>\n",
              "      <td>3.799949</td>\n",
              "      <td>3.600616</td>\n",
              "      <td>3.346389</td>\n",
              "      <td>3.341853</td>\n",
              "      <td>3.275714</td>\n",
              "      <td>3.345552</td>\n",
              "      <td>3.252607</td>\n",
              "      <td>3.09508</td>\n",
              "      <td>3.025509</td>\n",
              "      <td>2.957459</td>\n",
              "      <td>2.851417</td>\n",
              "      <td>2.674073</td>\n",
              "      <td>2.617356</td>\n",
              "      <td>2.601678</td>\n",
              "      <td>2.642456</td>\n",
              "      <td>2.619825</td>\n",
              "      <td>2.559295</td>\n",
              "      <td>2.498713</td>\n",
              "      <td>2.393575</td>\n",
              "      <td>2.285159</td>\n",
              "      <td>2.220828</td>\n",
              "      <td>2.11658</td>\n",
              "      <td>2.018005</td>\n",
              "      <td>1.988728</td>\n",
              "      <td>...</td>\n",
              "      <td>1.200642</td>\n",
              "      <td>1.180172</td>\n",
              "      <td>1.184756</td>\n",
              "      <td>1.189521</td>\n",
              "      <td>1.206947</td>\n",
              "      <td>1.207455</td>\n",
              "      <td>1.213315</td>\n",
              "      <td>1.221</td>\n",
              "      <td>1.231253</td>\n",
              "      <td>1.249032</td>\n",
              "      <td>1.24257</td>\n",
              "      <td>1.213744</td>\n",
              "      <td>1.226815</td>\n",
              "      <td>1.202223</td>\n",
              "      <td>1.200648</td>\n",
              "      <td>1.197153</td>\n",
              "      <td>1.212445</td>\n",
              "      <td>1.21292</td>\n",
              "      <td>1.239946</td>\n",
              "      <td>1.243599</td>\n",
              "      <td>1.215689</td>\n",
              "      <td>1.252456</td>\n",
              "      <td>1.290239</td>\n",
              "      <td>1.282472</td>\n",
              "      <td>1.276838</td>\n",
              "      <td>1.283734</td>\n",
              "      <td>1.308038</td>\n",
              "      <td>1.362613</td>\n",
              "      <td>1.324842</td>\n",
              "      <td>1.331435</td>\n",
              "      <td>1.33254</td>\n",
              "      <td>1.337693</td>\n",
              "      <td>1.335665</td>\n",
              "      <td>1.34293</td>\n",
              "      <td>1.38316</td>\n",
              "      <td>1.424961</td>\n",
              "      <td>1.509772</td>\n",
              "      <td>1.662558</td>\n",
              "      <td>1.676087</td>\n",
              "      <td>1.655856</td>\n",
              "    </tr>\n",
              "  </tbody>\n",
              "</table>\n",
              "<p>1 rows × 115 columns</p>\n",
              "</div>"
            ],
            "text/plain": [
              "   2020-03-09  2020-03-10  2020-03-11  ...  2020-06-29  2020-06-30  2020-07-01\n",
              "0    6.565064    6.659069    6.445157  ...    1.662558    1.676087    1.655856\n",
              "\n",
              "[1 rows x 115 columns]"
            ]
          },
          "metadata": {
            "tags": []
          },
          "execution_count": 57
        }
      ]
    },
    {
      "cell_type": "code",
      "metadata": {
        "id": "26vuCRITTHG8",
        "colab_type": "code",
        "colab": {
          "base_uri": "https://localhost:8080/",
          "height": 364
        },
        "outputId": "0f180dc0-5c11-4fa6-e34b-2cb271a51fdc"
      },
      "source": [
        "plt.subplot(211)\n",
        "# plt.figure(figsize=(10,7))\n",
        "plt.plot(df_italy_aveR0.loc[0].tolist())\n",
        "plt.xticks(rotation=30)\n",
        "plt.legend('best', labels=[\"average R0\"])\n",
        "plt.title(\"average R0 in Italy\")\n",
        "\n",
        "plt.subplot(212)\n",
        "plt.plot(df_italy_aveR0.loc[0].tolist())\n",
        "plt.xticks(rotation=30)\n",
        "plt.ylim(0,1.5)\n",
        "plt.legend('best', labels=[\"average R0\"])\n",
        "plt.title(\"average R0 in Italy\")\n",
        "plt.tight_layout()\n",
        "plt.show()"
      ],
      "execution_count": null,
      "outputs": [
        {
          "output_type": "stream",
          "text": [
            "/usr/local/lib/python3.6/dist-packages/ipykernel_launcher.py:5: UserWarning: You have mixed positional and keyword arguments, some input may be discarded.\n",
            "  \"\"\"\n",
            "/usr/local/lib/python3.6/dist-packages/ipykernel_launcher.py:12: UserWarning: You have mixed positional and keyword arguments, some input may be discarded.\n",
            "  if sys.path[0] == '':\n"
          ],
          "name": "stderr"
        },
        {
          "output_type": "display_data",
          "data": {
            "image/png": "[encoded data removed]",
            "text/plain": [
              "<Figure size 432x288 with 2 Axes>"
            ]
          },
          "metadata": {
            "tags": [],
            "needs_background": "light"
          }
        }
      ]
    },
    {
      "cell_type": "markdown",
      "metadata": {
        "id": "-3l-mImNTHG-",
        "colab_type": "text"
      },
      "source": [
        "### LSTM R0"
      ]
    },
    {
      "cell_type": "code",
      "metadata": {
        "id": "LR_St2giTHG-",
        "colab_type": "code",
        "colab": {}
      },
      "source": [
        "model_LSTM_w1 = tf.keras.models.load_model('HubeiR0_LSTM_w1.h5')"
      ],
      "execution_count": null,
      "outputs": []
    },
    {
      "cell_type": "code",
      "metadata": {
        "id": "H7fUeXaKTHHA",
        "colab_type": "code",
        "colab": {}
      },
      "source": [
        "w=1\n",
        "r=1\n",
        "x_test, y_test = get_traintestdata(df_italy_aveR0, w=w, r=1, lockdown_date=lockdown_date)"
      ],
      "execution_count": null,
      "outputs": []
    },
    {
      "cell_type": "code",
      "metadata": {
        "id": "IhIqhmFRTHHC",
        "colab_type": "code",
        "colab": {}
      },
      "source": [
        "x_test = np.array(x_test)\n",
        "x_test = x_test.reshape((x_test.shape[0], x_test.shape[1], r))\n",
        "y_pred = model_LSTM_w1.predict(x_test, verbose=0)"
      ],
      "execution_count": null,
      "outputs": []
    },
    {
      "cell_type": "code",
      "metadata": {
        "id": "_eacQhl3THHH",
        "colab_type": "code",
        "colab": {
          "base_uri": "https://localhost:8080/",
          "height": 34
        },
        "outputId": "377ac310-daf1-449f-9891-773443f0ca1b"
      },
      "source": [
        "lstm_residuals = y_pred - y_test\n",
        "lstm_rmse = np.sqrt(np.sum(np.power(lstm_residuals,2)) / len(lstm_residuals))\n",
        "print('RMSE = %.2f' % lstm_rmse)"
      ],
      "execution_count": null,
      "outputs": [
        {
          "output_type": "stream",
          "text": [
            "RMSE = 0.38\n"
          ],
          "name": "stdout"
        }
      ]
    },
    {
      "cell_type": "code",
      "metadata": {
        "id": "76iHpjJsTHHJ",
        "colab_type": "code",
        "colab": {
          "base_uri": "https://localhost:8080/",
          "height": 70
        },
        "outputId": "60558673-216c-4300-b2b8-4132b66121e9"
      },
      "source": [
        "df_LSTM_w1 = df_italy_aveR0.iloc[:,lockdown_date:]\n",
        "df_LSTM_w1 = df_LSTM_w1.append(pd.Series(), ignore_index=True)\n",
        "df_LSTM_w1.iloc[1,w:] = y_pred.T"
      ],
      "execution_count": null,
      "outputs": [
        {
          "output_type": "stream",
          "text": [
            "/usr/local/lib/python3.6/dist-packages/ipykernel_launcher.py:2: DeprecationWarning: The default dtype for empty Series will be 'object' instead of 'float64' in a future version. Specify a dtype explicitly to silence this warning.\n",
            "  \n"
          ],
          "name": "stderr"
        }
      ]
    },
    {
      "cell_type": "code",
      "metadata": {
        "id": "KjzSvTnLcHWE",
        "colab_type": "code",
        "colab": {
          "base_uri": "https://localhost:8080/",
          "height": 172
        },
        "outputId": "f8fd58f3-8e26-44a5-e6e6-0b460f71c4cc"
      },
      "source": [
        "df_LSTM_w1"
      ],
      "execution_count": null,
      "outputs": [
        {
          "output_type": "execute_result",
          "data": {
            "text/html": [
              "<div>\n",
              "<style scoped>\n",
              "    .dataframe tbody tr th:only-of-type {\n",
              "        vertical-align: middle;\n",
              "    }\n",
              "\n",
              "    .dataframe tbody tr th {\n",
              "        vertical-align: top;\n",
              "    }\n",
              "\n",
              "    .dataframe thead th {\n",
              "        text-align: right;\n",
              "    }\n",
              "</style>\n",
              "<table border=\"1\" class=\"dataframe\">\n",
              "  <thead>\n",
              "    <tr style=\"text-align: right;\">\n",
              "      <th></th>\n",
              "      <th>2020-03-09</th>\n",
              "      <th>2020-03-10</th>\n",
              "      <th>2020-03-11</th>\n",
              "      <th>2020-03-12</th>\n",
              "      <th>2020-03-13</th>\n",
              "      <th>2020-03-14</th>\n",
              "      <th>2020-03-15</th>\n",
              "      <th>2020-03-16</th>\n",
              "      <th>2020-03-17</th>\n",
              "      <th>2020-03-18</th>\n",
              "      <th>2020-03-19</th>\n",
              "      <th>2020-03-20</th>\n",
              "      <th>2020-03-21</th>\n",
              "      <th>2020-03-22</th>\n",
              "      <th>2020-03-23</th>\n",
              "      <th>2020-03-24</th>\n",
              "      <th>2020-03-25</th>\n",
              "      <th>2020-03-26</th>\n",
              "      <th>2020-03-27</th>\n",
              "      <th>2020-03-28</th>\n",
              "      <th>2020-03-29</th>\n",
              "      <th>2020-03-30</th>\n",
              "      <th>2020-03-31</th>\n",
              "      <th>2020-04-01</th>\n",
              "      <th>2020-04-02</th>\n",
              "      <th>2020-04-03</th>\n",
              "      <th>2020-04-04</th>\n",
              "      <th>2020-04-05</th>\n",
              "      <th>2020-04-06</th>\n",
              "      <th>2020-04-07</th>\n",
              "      <th>2020-04-08</th>\n",
              "      <th>2020-04-09</th>\n",
              "      <th>2020-04-10</th>\n",
              "      <th>2020-04-11</th>\n",
              "      <th>2020-04-12</th>\n",
              "      <th>2020-04-13</th>\n",
              "      <th>2020-04-14</th>\n",
              "      <th>2020-04-15</th>\n",
              "      <th>2020-04-16</th>\n",
              "      <th>2020-04-17</th>\n",
              "      <th>...</th>\n",
              "      <th>2020-05-23</th>\n",
              "      <th>2020-05-24</th>\n",
              "      <th>2020-05-25</th>\n",
              "      <th>2020-05-26</th>\n",
              "      <th>2020-05-27</th>\n",
              "      <th>2020-05-28</th>\n",
              "      <th>2020-05-29</th>\n",
              "      <th>2020-05-30</th>\n",
              "      <th>2020-05-31</th>\n",
              "      <th>2020-06-01</th>\n",
              "      <th>2020-06-02</th>\n",
              "      <th>2020-06-03</th>\n",
              "      <th>2020-06-04</th>\n",
              "      <th>2020-06-05</th>\n",
              "      <th>2020-06-06</th>\n",
              "      <th>2020-06-07</th>\n",
              "      <th>2020-06-08</th>\n",
              "      <th>2020-06-09</th>\n",
              "      <th>2020-06-10</th>\n",
              "      <th>2020-06-11</th>\n",
              "      <th>2020-06-12</th>\n",
              "      <th>2020-06-13</th>\n",
              "      <th>2020-06-14</th>\n",
              "      <th>2020-06-15</th>\n",
              "      <th>2020-06-16</th>\n",
              "      <th>2020-06-17</th>\n",
              "      <th>2020-06-18</th>\n",
              "      <th>2020-06-19</th>\n",
              "      <th>2020-06-20</th>\n",
              "      <th>2020-06-21</th>\n",
              "      <th>2020-06-22</th>\n",
              "      <th>2020-06-23</th>\n",
              "      <th>2020-06-24</th>\n",
              "      <th>2020-06-25</th>\n",
              "      <th>2020-06-26</th>\n",
              "      <th>2020-06-27</th>\n",
              "      <th>2020-06-28</th>\n",
              "      <th>2020-06-29</th>\n",
              "      <th>2020-06-30</th>\n",
              "      <th>2020-07-01</th>\n",
              "    </tr>\n",
              "  </thead>\n",
              "  <tbody>\n",
              "    <tr>\n",
              "      <th>0</th>\n",
              "      <td>6.565064</td>\n",
              "      <td>6.659069</td>\n",
              "      <td>6.445157</td>\n",
              "      <td>5.470095</td>\n",
              "      <td>6.221069</td>\n",
              "      <td>5.933389</td>\n",
              "      <td>5.762067</td>\n",
              "      <td>6.287747</td>\n",
              "      <td>5.756697</td>\n",
              "      <td>5.812294</td>\n",
              "      <td>5.468051</td>\n",
              "      <td>4.735143</td>\n",
              "      <td>4.728785</td>\n",
              "      <td>4.774478</td>\n",
              "      <td>3.915894</td>\n",
              "      <td>3.855252</td>\n",
              "      <td>3.799949</td>\n",
              "      <td>3.600616</td>\n",
              "      <td>3.346389</td>\n",
              "      <td>3.341853</td>\n",
              "      <td>3.275714</td>\n",
              "      <td>3.345552</td>\n",
              "      <td>3.252607</td>\n",
              "      <td>3.095080</td>\n",
              "      <td>3.025509</td>\n",
              "      <td>2.957459</td>\n",
              "      <td>2.851417</td>\n",
              "      <td>2.674073</td>\n",
              "      <td>2.617356</td>\n",
              "      <td>2.601678</td>\n",
              "      <td>2.642456</td>\n",
              "      <td>2.619825</td>\n",
              "      <td>2.559295</td>\n",
              "      <td>2.498713</td>\n",
              "      <td>2.393575</td>\n",
              "      <td>2.285159</td>\n",
              "      <td>2.220828</td>\n",
              "      <td>2.116580</td>\n",
              "      <td>2.018005</td>\n",
              "      <td>1.988728</td>\n",
              "      <td>...</td>\n",
              "      <td>1.200642</td>\n",
              "      <td>1.180172</td>\n",
              "      <td>1.184756</td>\n",
              "      <td>1.189521</td>\n",
              "      <td>1.206947</td>\n",
              "      <td>1.207455</td>\n",
              "      <td>1.213315</td>\n",
              "      <td>1.221000</td>\n",
              "      <td>1.231253</td>\n",
              "      <td>1.249032</td>\n",
              "      <td>1.242570</td>\n",
              "      <td>1.213744</td>\n",
              "      <td>1.226815</td>\n",
              "      <td>1.202223</td>\n",
              "      <td>1.200648</td>\n",
              "      <td>1.197153</td>\n",
              "      <td>1.212445</td>\n",
              "      <td>1.212920</td>\n",
              "      <td>1.239946</td>\n",
              "      <td>1.243599</td>\n",
              "      <td>1.215689</td>\n",
              "      <td>1.252456</td>\n",
              "      <td>1.290239</td>\n",
              "      <td>1.282472</td>\n",
              "      <td>1.276838</td>\n",
              "      <td>1.283734</td>\n",
              "      <td>1.308038</td>\n",
              "      <td>1.362613</td>\n",
              "      <td>1.324842</td>\n",
              "      <td>1.331435</td>\n",
              "      <td>1.332540</td>\n",
              "      <td>1.337693</td>\n",
              "      <td>1.335665</td>\n",
              "      <td>1.342930</td>\n",
              "      <td>1.383160</td>\n",
              "      <td>1.424961</td>\n",
              "      <td>1.509772</td>\n",
              "      <td>1.662558</td>\n",
              "      <td>1.676087</td>\n",
              "      <td>1.655856</td>\n",
              "    </tr>\n",
              "    <tr>\n",
              "      <th>1</th>\n",
              "      <td>NaN</td>\n",
              "      <td>6.035208</td>\n",
              "      <td>6.145552</td>\n",
              "      <td>5.895910</td>\n",
              "      <td>4.822264</td>\n",
              "      <td>5.639903</td>\n",
              "      <td>5.319413</td>\n",
              "      <td>5.132864</td>\n",
              "      <td>5.715493</td>\n",
              "      <td>5.127069</td>\n",
              "      <td>5.187224</td>\n",
              "      <td>4.820122</td>\n",
              "      <td>4.063469</td>\n",
              "      <td>4.057076</td>\n",
              "      <td>4.103126</td>\n",
              "      <td>3.233221</td>\n",
              "      <td>3.173513</td>\n",
              "      <td>3.117897</td>\n",
              "      <td>2.921593</td>\n",
              "      <td>2.680956</td>\n",
              "      <td>2.676761</td>\n",
              "      <td>2.615968</td>\n",
              "      <td>2.680182</td>\n",
              "      <td>2.594899</td>\n",
              "      <td>2.453592</td>\n",
              "      <td>2.392467</td>\n",
              "      <td>2.333431</td>\n",
              "      <td>2.242911</td>\n",
              "      <td>2.095502</td>\n",
              "      <td>2.049397</td>\n",
              "      <td>2.036742</td>\n",
              "      <td>2.069739</td>\n",
              "      <td>2.051394</td>\n",
              "      <td>2.002718</td>\n",
              "      <td>1.954527</td>\n",
              "      <td>1.872031</td>\n",
              "      <td>1.788724</td>\n",
              "      <td>1.740131</td>\n",
              "      <td>1.662698</td>\n",
              "      <td>1.590962</td>\n",
              "      <td>...</td>\n",
              "      <td>1.063301</td>\n",
              "      <td>1.049866</td>\n",
              "      <td>1.037508</td>\n",
              "      <td>1.040271</td>\n",
              "      <td>1.043145</td>\n",
              "      <td>1.053684</td>\n",
              "      <td>1.053992</td>\n",
              "      <td>1.057546</td>\n",
              "      <td>1.062213</td>\n",
              "      <td>1.068452</td>\n",
              "      <td>1.079306</td>\n",
              "      <td>1.075356</td>\n",
              "      <td>1.057806</td>\n",
              "      <td>1.065750</td>\n",
              "      <td>1.050823</td>\n",
              "      <td>1.049869</td>\n",
              "      <td>1.047756</td>\n",
              "      <td>1.057018</td>\n",
              "      <td>1.057306</td>\n",
              "      <td>1.073754</td>\n",
              "      <td>1.075984</td>\n",
              "      <td>1.058986</td>\n",
              "      <td>1.081400</td>\n",
              "      <td>1.104626</td>\n",
              "      <td>1.099836</td>\n",
              "      <td>1.096366</td>\n",
              "      <td>1.100613</td>\n",
              "      <td>1.115635</td>\n",
              "      <td>1.149660</td>\n",
              "      <td>1.126068</td>\n",
              "      <td>1.130172</td>\n",
              "      <td>1.130861</td>\n",
              "      <td>1.134073</td>\n",
              "      <td>1.132808</td>\n",
              "      <td>1.137341</td>\n",
              "      <td>1.162577</td>\n",
              "      <td>1.189034</td>\n",
              "      <td>1.243459</td>\n",
              "      <td>1.344047</td>\n",
              "      <td>1.353113</td>\n",
              "    </tr>\n",
              "  </tbody>\n",
              "</table>\n",
              "<p>2 rows × 115 columns</p>\n",
              "</div>"
            ],
            "text/plain": [
              "   2020-03-09  2020-03-10  2020-03-11  ...  2020-06-29  2020-06-30  2020-07-01\n",
              "0    6.565064    6.659069    6.445157  ...    1.662558    1.676087    1.655856\n",
              "1         NaN    6.035208    6.145552  ...    1.243459    1.344047    1.353113\n",
              "\n",
              "[2 rows x 115 columns]"
            ]
          },
          "metadata": {
            "tags": []
          },
          "execution_count": 67
        }
      ]
    },
    {
      "cell_type": "code",
      "metadata": {
        "id": "9dp_KPyOTHHM",
        "colab_type": "code",
        "colab": {
          "base_uri": "https://localhost:8080/",
          "height": 330
        },
        "outputId": "3069e834-9058-4da1-ca5d-6dbbff5d0000"
      },
      "source": [
        "# w = 1\n",
        "plt.subplot(2,1,1)\n",
        "plt.plot(df_LSTM_w1.iloc[0],label=\"Original Data\")\n",
        "plt.plot(df_LSTM_w1.iloc[1],label=\"Predicted Data\")\n",
        "plt.legend(loc='best')\n",
        "plt.ylabel='R0'\n",
        "plt.xlabel='Date'\n",
        "plt.xticks(rotation=30)\n",
        "plt.title('Italy Average R0')\n",
        "\n",
        "plt.subplot(2,1,2)\n",
        "plt.plot(df_LSTM_w1.iloc[0],label=\"Original Data\")\n",
        "plt.plot(df_LSTM_w1.iloc[1],label=\"Predicted Data\")\n",
        "plt.xticks(rotation=30)\n",
        "plt.ylim(0,2.5)\n",
        "plt.legend('best', labels=[\"average R0\"])\n",
        "plt.title(\"Italy Average R0\")\n",
        "plt.tight_layout()\n",
        "plt.show()"
      ],
      "execution_count": null,
      "outputs": [
        {
          "output_type": "stream",
          "text": [
            "/usr/local/lib/python3.6/dist-packages/ipykernel_launcher.py:16: UserWarning: You have mixed positional and keyword arguments, some input may be discarded.\n",
            "  app.launch_new_instance()\n"
          ],
          "name": "stderr"
        },
        {
          "output_type": "display_data",
          "data": {
            "image/png": "[encoded data removed]",
            "text/plain": [
              "<Figure size 432x288 with 2 Axes>"
            ]
          },
          "metadata": {
            "tags": [],
            "needs_background": "light"
          }
        }
      ]
    },
    {
      "cell_type": "code",
      "metadata": {
        "colab_type": "code",
        "id": "3xLOgz53dd_-",
        "colab": {}
      },
      "source": [
        "model_NN_w1 = tf.keras.models.load_model('HubeiR0_NN_w1.h5')"
      ],
      "execution_count": null,
      "outputs": []
    },
    {
      "cell_type": "code",
      "metadata": {
        "colab_type": "code",
        "id": "-W3K-kV2deAA",
        "colab": {}
      },
      "source": [
        "w=1\n",
        "x_test, y_test = get_traintestdata(df_italy_aveR0, w=1, r=1, lockdown_date=lockdown_date)"
      ],
      "execution_count": null,
      "outputs": []
    },
    {
      "cell_type": "code",
      "metadata": {
        "colab_type": "code",
        "id": "yyS4jhYPdeAC",
        "colab": {
          "base_uri": "https://localhost:8080/",
          "height": 34
        },
        "outputId": "8648908c-4c1f-463a-9278-77bc375f5588"
      },
      "source": [
        "x_test = np.array(x_test)\n",
        "y_pred = model_NN_w1.predict(x_test, verbose=0)\n",
        "\n",
        "nn_residuals = y_pred - y_test\n",
        "nn_rmse = np.sqrt(np.sum(np.power(nn_residuals,2)) / len(nn_residuals))\n",
        "print('RMSE = %.2f' % nn_rmse)"
      ],
      "execution_count": null,
      "outputs": [
        {
          "output_type": "stream",
          "text": [
            "RMSE = 0.16\n"
          ],
          "name": "stdout"
        }
      ]
    },
    {
      "cell_type": "code",
      "metadata": {
        "colab_type": "code",
        "id": "vupqpHEldeAF",
        "colab": {
          "base_uri": "https://localhost:8080/",
          "height": 70
        },
        "outputId": "65a59533-4954-4d6f-9da2-5fb960a60475"
      },
      "source": [
        "df_NN_w1 = df_italy_aveR0.iloc[:,lockdown_date+w-1:]\n",
        "df_NN_w1 = df_NN_w1.append(pd.Series(), ignore_index=True)\n",
        "df_NN_w1.iloc[1,w:] = y_pred.T"
      ],
      "execution_count": null,
      "outputs": [
        {
          "output_type": "stream",
          "text": [
            "/usr/local/lib/python3.6/dist-packages/ipykernel_launcher.py:2: DeprecationWarning: The default dtype for empty Series will be 'object' instead of 'float64' in a future version. Specify a dtype explicitly to silence this warning.\n",
            "  \n"
          ],
          "name": "stderr"
        }
      ]
    },
    {
      "cell_type": "code",
      "metadata": {
        "colab_type": "code",
        "id": "9IHwqbG9deAJ",
        "colab": {
          "base_uri": "https://localhost:8080/",
          "height": 350
        },
        "outputId": "dcc3a85f-1fd2-4ccd-bff7-79538c147c1e"
      },
      "source": [
        "# w = 1\n",
        "plt.subplot(2,1,1)\n",
        "plt.plot(df_NN_w1.iloc[0],label=\"Original Data\")\n",
        "plt.plot(df_NN_w1.iloc[1],label=\"Predicted Data\")\n",
        "plt.legend(loc='best')\n",
        "plt.ylabel='R0'\n",
        "plt.xlabel='Date'\n",
        "plt.xticks(rotation=30)\n",
        "plt.title('Italy Average R0')\n",
        "\n",
        "plt.subplot(2,1,2)\n",
        "plt.plot(df_NN_w1.iloc[0],label=\"Original Data\")\n",
        "plt.plot(df_NN_w1.iloc[1],label=\"Predicted Data\")\n",
        "plt.xticks(rotation=30)\n",
        "plt.ylim(0,2.5)\n",
        "plt.legend('best', labels=[\"average R0\"])\n",
        "plt.title(\"Italy Average R0\")\n",
        "plt.tight_layout()\n",
        "plt.show()"
      ],
      "execution_count": null,
      "outputs": [
        {
          "output_type": "stream",
          "text": [
            "/usr/local/lib/python3.6/dist-packages/ipykernel_launcher.py:16: UserWarning: You have mixed positional and keyword arguments, some input may be discarded.\n",
            "  app.launch_new_instance()\n"
          ],
          "name": "stderr"
        },
        {
          "output_type": "display_data",
          "data": {
            "image/png": "[encoded data removed]",
            "text/plain": [
              "<Figure size 432x288 with 2 Axes>"
            ]
          },
          "metadata": {
            "tags": [],
            "needs_background": "light"
          }
        }
      ]
    },
    {
      "cell_type": "code",
      "metadata": {
        "colab_type": "code",
        "id": "3aTi25a9d_UK",
        "colab": {}
      },
      "source": [
        "model_NN_w3 = tf.keras.models.load_model('HubeiR0_NN_w3.h5')"
      ],
      "execution_count": null,
      "outputs": []
    },
    {
      "cell_type": "code",
      "metadata": {
        "colab_type": "code",
        "id": "LrzGlJwSd_UP",
        "colab": {}
      },
      "source": [
        "w=3\n",
        "x_test, y_test = get_traintestdata(df_italy_aveR0, w=w, r=1, lockdown_date=lockdown_date)"
      ],
      "execution_count": null,
      "outputs": []
    },
    {
      "cell_type": "code",
      "metadata": {
        "colab_type": "code",
        "id": "blDniC_qd_US",
        "colab": {
          "base_uri": "https://localhost:8080/",
          "height": 34
        },
        "outputId": "821c381e-483f-45cc-fec1-b996525a28ac"
      },
      "source": [
        "x_test = np.array(x_test)\n",
        "y_pred = model_NN_w3.predict(x_test, verbose=0)\n",
        "\n",
        "nn_residuals = y_pred - y_test\n",
        "nn_rmse = np.sqrt(np.sum(np.power(nn_residuals,2)) / len(nn_residuals))\n",
        "print('RMSE = %.2f' % nn_rmse)"
      ],
      "execution_count": null,
      "outputs": [
        {
          "output_type": "stream",
          "text": [
            "RMSE = 0.19\n"
          ],
          "name": "stdout"
        }
      ]
    },
    {
      "cell_type": "code",
      "metadata": {
        "colab_type": "code",
        "id": "YNZ7WrA2d_UW",
        "colab": {
          "base_uri": "https://localhost:8080/",
          "height": 70
        },
        "outputId": "4384f791-5625-4f11-d21c-a723142bb0d8"
      },
      "source": [
        "df_NN_w3 = df_italy_aveR0.iloc[:,lockdown_date+w-1:]\n",
        "df_NN_w3 = df_NN_w3.append(pd.Series(), ignore_index=True)\n",
        "df_NN_w3.iloc[1, 1:] = y_pred.T"
      ],
      "execution_count": null,
      "outputs": [
        {
          "output_type": "stream",
          "text": [
            "/usr/local/lib/python3.6/dist-packages/ipykernel_launcher.py:2: DeprecationWarning: The default dtype for empty Series will be 'object' instead of 'float64' in a future version. Specify a dtype explicitly to silence this warning.\n",
            "  \n"
          ],
          "name": "stderr"
        }
      ]
    },
    {
      "cell_type": "code",
      "metadata": {
        "colab_type": "code",
        "id": "DIIE6zF_d_UZ",
        "colab": {
          "base_uri": "https://localhost:8080/",
          "height": 350
        },
        "outputId": "26cd35b1-8a69-488e-b6fb-ab795f570e13"
      },
      "source": [
        "# w = 1\n",
        "plt.subplot(2,1,1)\n",
        "plt.plot(df_NN_w3.iloc[0],label=\"Original Data\")\n",
        "plt.plot(df_NN_w3.iloc[1],label=\"Predicted Data\")\n",
        "plt.legend(loc='best')\n",
        "plt.ylabel='R0'\n",
        "plt.xlabel='Date'\n",
        "plt.xticks(rotation=30)\n",
        "plt.title('Italy Average R0')\n",
        "\n",
        "plt.subplot(2,1,2)\n",
        "plt.plot(df_NN_w3.iloc[0],label=\"Original Data\")\n",
        "plt.plot(df_NN_w3.iloc[1],label=\"Predicted Data\")\n",
        "plt.xticks(rotation=30)\n",
        "plt.ylim(0,2.5)\n",
        "plt.legend('best', labels=[\"average R0\"])\n",
        "plt.title(\"Italy Average R0\")\n",
        "plt.tight_layout()\n",
        "plt.show()"
      ],
      "execution_count": null,
      "outputs": [
        {
          "output_type": "stream",
          "text": [
            "/usr/local/lib/python3.6/dist-packages/ipykernel_launcher.py:16: UserWarning: You have mixed positional and keyword arguments, some input may be discarded.\n",
            "  app.launch_new_instance()\n"
          ],
          "name": "stderr"
        },
        {
          "output_type": "display_data",
          "data": {
            "image/png": "[encoded data removed]",
            "text/plain": [
              "<Figure size 432x288 with 2 Axes>"
            ]
          },
          "metadata": {
            "tags": [],
            "needs_background": "light"
          }
        }
      ]
    },
    {
      "cell_type": "code",
      "metadata": {
        "colab_type": "code",
        "id": "u5imUsEChIGc",
        "colab": {}
      },
      "source": [
        "model_NN_w5 = tf.keras.models.load_model('HubeiR0_NN_w5.h5')"
      ],
      "execution_count": null,
      "outputs": []
    },
    {
      "cell_type": "code",
      "metadata": {
        "colab_type": "code",
        "id": "C5AVuMZ5hIGg",
        "colab": {}
      },
      "source": [
        "w=5\n",
        "x_test, y_test = get_traintestdata(df_italy_aveR0, w=w, r=1, lockdown_date=lockdown_date)"
      ],
      "execution_count": null,
      "outputs": []
    },
    {
      "cell_type": "code",
      "metadata": {
        "colab_type": "code",
        "id": "RBaRdq8DhIGh",
        "colab": {
          "base_uri": "https://localhost:8080/",
          "height": 34
        },
        "outputId": "919a98f2-125f-4606-f901-6aaf0f5b021e"
      },
      "source": [
        "x_test = np.array(x_test)\n",
        "y_pred = model_NN_w5.predict(x_test, verbose=0)\n",
        "\n",
        "nn_residuals = y_pred - y_test\n",
        "nn_rmse = np.sqrt(np.sum(np.power(nn_residuals,2)) / len(nn_residuals))\n",
        "print('RMSE = %.2f' % nn_rmse)"
      ],
      "execution_count": null,
      "outputs": [
        {
          "output_type": "stream",
          "text": [
            "RMSE = 0.15\n"
          ],
          "name": "stdout"
        }
      ]
    },
    {
      "cell_type": "code",
      "metadata": {
        "colab_type": "code",
        "id": "rC9Sj_2dhIGj",
        "colab": {
          "base_uri": "https://localhost:8080/",
          "height": 70
        },
        "outputId": "4b86d969-67aa-4a0e-8295-a135ccd74382"
      },
      "source": [
        "df_NN_w5 = df_italy_aveR0.iloc[:,lockdown_date+w-1:]\n",
        "df_NN_w5 = df_NN_w5.append(pd.Series(), ignore_index=True)\n",
        "df_NN_w5.iloc[1, 1:] = y_pred.T"
      ],
      "execution_count": null,
      "outputs": [
        {
          "output_type": "stream",
          "text": [
            "/usr/local/lib/python3.6/dist-packages/ipykernel_launcher.py:2: DeprecationWarning: The default dtype for empty Series will be 'object' instead of 'float64' in a future version. Specify a dtype explicitly to silence this warning.\n",
            "  \n"
          ],
          "name": "stderr"
        }
      ]
    },
    {
      "cell_type": "code",
      "metadata": {
        "colab_type": "code",
        "id": "_1obqIvphIGl",
        "colab": {
          "base_uri": "https://localhost:8080/",
          "height": 330
        },
        "outputId": "54965c2c-2aa0-46b7-cbcf-33c785c604f3"
      },
      "source": [
        "# w = 5\n",
        "plt.subplot(2,1,1)\n",
        "plt.plot(df_NN_w5.iloc[0],label=\"Original Data\")\n",
        "plt.plot(df_NN_w5.iloc[1],label=\"Predicted Data\")\n",
        "plt.legend(loc='best')\n",
        "plt.ylabel='R0'\n",
        "plt.xlabel='Date'\n",
        "plt.xticks(rotation=30)\n",
        "plt.title('Italy Average R0')\n",
        "\n",
        "plt.subplot(2,1,2)\n",
        "plt.plot(df_NN_w5.iloc[0],label=\"Original Data\")\n",
        "plt.plot(df_NN_w5.iloc[1],label=\"Predicted Data\")\n",
        "plt.xticks(rotation=30)\n",
        "plt.ylim(0,2.5)\n",
        "plt.legend('best', labels=[\"average R0\"])\n",
        "plt.title(\"Italy Average R0\")\n",
        "plt.tight_layout()\n",
        "plt.show()"
      ],
      "execution_count": null,
      "outputs": [
        {
          "output_type": "stream",
          "text": [
            "/usr/local/lib/python3.6/dist-packages/ipykernel_launcher.py:16: UserWarning: You have mixed positional and keyword arguments, some input may be discarded.\n",
            "  app.launch_new_instance()\n"
          ],
          "name": "stderr"
        },
        {
          "output_type": "display_data",
          "data": {
            "image/png": "[encoded data removed]",
            "text/plain": [
              "<Figure size 432x288 with 2 Axes>"
            ]
          },
          "metadata": {
            "tags": [],
            "needs_background": "light"
          }
        }
      ]
    },
    {
      "cell_type": "code",
      "metadata": {
        "id": "oK2vi3gid1-z",
        "colab_type": "code",
        "colab": {}
      },
      "source": [
        ""
      ],
      "execution_count": null,
      "outputs": []
    },
    {
      "cell_type": "markdown",
      "metadata": {
        "id": "rHYn_pS7THHa",
        "colab_type": "text"
      },
      "source": [
        "### Forecasting"
      ]
    },
    {
      "cell_type": "code",
      "metadata": {
        "id": "iJoolR8eTHHb",
        "colab_type": "code",
        "colab": {}
      },
      "source": [
        "# forecast_days=30\n",
        "# w=3\n",
        "# df_ItalyR0_forecast_w3 = R0_forecast(df_LSTM_w3, model_LSTM_w3, forecast_days=30, w=3, r=1)"
      ],
      "execution_count": null,
      "outputs": []
    },
    {
      "cell_type": "code",
      "metadata": {
        "id": "pN_rfCYzTHHc",
        "colab_type": "code",
        "colab": {
          "base_uri": "https://localhost:8080/",
          "height": 384
        },
        "outputId": "ebbf8c43-c07a-457a-fc9d-45200b1fafc4"
      },
      "source": [
        "# plt.subplot(2,1,1)\n",
        "# plt.plot(df_ItalyR0_forecast_w3.iloc[0, :-forecast_days].tolist())\n",
        "# plt.plot(df_ItalyR0_forecast_w3.loc[1].tolist())\n",
        "# plt.xticks(rotation=30)\n",
        "# plt.legend('best', labels=[\"average R0\", \"Predict average R0\"])\n",
        "# plt.title(\"average R0 in Italy\")\n",
        "\n",
        "# plt.subplot(2,1,2)\n",
        "# plt.plot(df_ItalyR0_forecast_w3.iloc[0,:-forecast_days].tolist())\n",
        "# plt.plot(df_ItalyR0_forecast_w3.loc[1].tolist())\n",
        "# plt.xticks(rotation=30)\n",
        "# plt.ylim(0,1.5)\n",
        "# plt.legend('best', labels=[\"average R0\", \"Predict average R0\"])\n",
        "# plt.title(\"average R0 in Italy\")\n",
        "# plt.tight_layout()\n",
        "# plt.show()"
      ],
      "execution_count": null,
      "outputs": [
        {
          "output_type": "stream",
          "text": [
            "/usr/local/lib/python3.6/dist-packages/ipykernel_launcher.py:5: UserWarning: You have mixed positional and keyword arguments, some input may be discarded.\n",
            "  \"\"\"\n",
            "/usr/local/lib/python3.6/dist-packages/ipykernel_launcher.py:13: UserWarning: You have mixed positional and keyword arguments, some input may be discarded.\n",
            "  del sys.path[0]\n"
          ],
          "name": "stderr"
        },
        {
          "output_type": "display_data",
          "data": {
            "image/png": "[encoded data removed]",
            "text/plain": [
              "<Figure size 432x288 with 2 Axes>"
            ]
          },
          "metadata": {
            "tags": [],
            "needs_background": "light"
          }
        }
      ]
    },
    {
      "cell_type": "code",
      "metadata": {
        "id": "v04HmTS9THHe",
        "colab_type": "code",
        "colab": {}
      },
      "source": [
        "forecast_days=30\n",
        "w=1\n",
        "df_ItalyR0_forecast_w1 = R0_forecast(df_LSTM_w1, model_LSTM_w1, forecast_days=30, w=1, r=1)"
      ],
      "execution_count": null,
      "outputs": []
    },
    {
      "cell_type": "code",
      "metadata": {
        "id": "zlJaY48qTHHh",
        "colab_type": "code",
        "colab": {
          "base_uri": "https://localhost:8080/",
          "height": 364
        },
        "outputId": "1f4ac533-7bf0-4d32-cf3c-d91f240ea6b5"
      },
      "source": [
        "plt.subplot(2,1,1)\n",
        "plt.plot(df_ItalyR0_forecast_w1.iloc[0, :-forecast_days].tolist())\n",
        "plt.plot(df_ItalyR0_forecast_w1.loc[1].tolist())\n",
        "plt.xticks(rotation=30)\n",
        "plt.legend('best', labels=[\"average R0\", \"Predict average R0\"])\n",
        "plt.title(\"LSTM average R0 in Italy\")\n",
        "\n",
        "plt.subplot(2,1,2)\n",
        "plt.plot(df_ItalyR0_forecast_w1.iloc[0,:-forecast_days].tolist())\n",
        "plt.plot(df_ItalyR0_forecast_w1.loc[1].tolist())\n",
        "plt.xticks(rotation=30)\n",
        "plt.ylim(0,1.5)\n",
        "plt.legend('best', labels=[\"average R0\", \"Predict average R0\"])\n",
        "plt.title(\"LSTM average R0 in Italy\")\n",
        "plt.tight_layout()\n",
        "plt.show()"
      ],
      "execution_count": null,
      "outputs": [
        {
          "output_type": "stream",
          "text": [
            "/usr/local/lib/python3.6/dist-packages/ipykernel_launcher.py:5: UserWarning: You have mixed positional and keyword arguments, some input may be discarded.\n",
            "  \"\"\"\n",
            "/usr/local/lib/python3.6/dist-packages/ipykernel_launcher.py:13: UserWarning: You have mixed positional and keyword arguments, some input may be discarded.\n",
            "  del sys.path[0]\n"
          ],
          "name": "stderr"
        },
        {
          "output_type": "display_data",
          "data": {
            "image/png": "[encoded data removed]",
            "text/plain": [
              "<Figure size 432x288 with 2 Axes>"
            ]
          },
          "metadata": {
            "tags": [],
            "needs_background": "light"
          }
        }
      ]
    },
    {
      "cell_type": "code",
      "metadata": {
        "id": "XlLTloPBdVxB",
        "colab_type": "code",
        "colab": {}
      },
      "source": [
        ""
      ],
      "execution_count": null,
      "outputs": []
    },
    {
      "cell_type": "code",
      "metadata": {
        "colab_type": "code",
        "id": "dqXQ_AJWjn5M",
        "colab": {}
      },
      "source": [
        "forecast_days=30\n",
        "w=1\n",
        "df_ItalyR0_forecast_w1 = R0_forecast(df_NN_w1, model_NN_w1, forecast_days=30, w=w, r=1)"
      ],
      "execution_count": null,
      "outputs": []
    },
    {
      "cell_type": "code",
      "metadata": {
        "colab_type": "code",
        "id": "znT17jdijn5P",
        "colab": {
          "base_uri": "https://localhost:8080/",
          "height": 384
        },
        "outputId": "84dbdbd8-8813-4c66-990c-935471af2a30"
      },
      "source": [
        "plt.subplot(2,1,1)\n",
        "plt.plot(df_ItalyR0_forecast_w1.iloc[0, :-forecast_days].tolist())\n",
        "plt.plot(df_ItalyR0_forecast_w1.loc[1].tolist())\n",
        "plt.xticks(rotation=30)\n",
        "plt.legend('best', labels=[\"average R0\", \"Predict average R0\"])\n",
        "plt.title(\"NN average R0 in Italy\")\n",
        "\n",
        "plt.subplot(2,1,2)\n",
        "plt.plot(df_ItalyR0_forecast_w1.iloc[0,:-forecast_days].tolist())\n",
        "plt.plot(df_ItalyR0_forecast_w1.loc[1].tolist())\n",
        "plt.xticks(rotation=30)\n",
        "plt.ylim(0,2)\n",
        "plt.legend('best', labels=[\"average R0\", \"Predict average R0\"])\n",
        "plt.title(\"NN average R0 in Italy\")\n",
        "plt.tight_layout()\n",
        "plt.show()"
      ],
      "execution_count": null,
      "outputs": [
        {
          "output_type": "stream",
          "text": [
            "/usr/local/lib/python3.6/dist-packages/ipykernel_launcher.py:5: UserWarning: You have mixed positional and keyword arguments, some input may be discarded.\n",
            "  \"\"\"\n",
            "/usr/local/lib/python3.6/dist-packages/ipykernel_launcher.py:13: UserWarning: You have mixed positional and keyword arguments, some input may be discarded.\n",
            "  del sys.path[0]\n"
          ],
          "name": "stderr"
        },
        {
          "output_type": "display_data",
          "data": {
            "image/png": "[encoded data removed]",
            "text/plain": [
              "<Figure size 432x288 with 2 Axes>"
            ]
          },
          "metadata": {
            "tags": [],
            "needs_background": "light"
          }
        }
      ]
    },
    {
      "cell_type": "code",
      "metadata": {
        "colab_type": "code",
        "id": "3rmrx_wFkD3M",
        "colab": {}
      },
      "source": [
        "forecast_days=30\n",
        "w=5\n",
        "df_ItalyR0_forecast_w5 = R0_forecast(df_NN_w5, model_NN_w5, forecast_days=30, w=w, r=1, LSTM=False)"
      ],
      "execution_count": null,
      "outputs": []
    },
    {
      "cell_type": "code",
      "metadata": {
        "colab_type": "code",
        "id": "sqmvsP9ZkD3Q",
        "colab": {
          "base_uri": "https://localhost:8080/",
          "height": 364
        },
        "outputId": "3383187c-eb4f-49e5-eca6-138c46e00dee"
      },
      "source": [
        "plt.subplot(2,1,1)\n",
        "plt.plot(df_ItalyR0_forecast_w5.iloc[0, :-forecast_days].tolist())\n",
        "plt.plot(df_ItalyR0_forecast_w5.loc[1].tolist())\n",
        "plt.xticks(rotation=30)\n",
        "plt.legend('best', labels=[\"average R0\", \"Predict average R0\"])\n",
        "plt.title(\"NN average R0 in Italy\")\n",
        "\n",
        "plt.subplot(2,1,2)\n",
        "plt.plot(df_ItalyR0_forecast_w5.iloc[0,:-forecast_days].tolist())\n",
        "plt.plot(df_ItalyR0_forecast_w5.loc[1].tolist())\n",
        "plt.xticks(rotation=30)\n",
        "plt.ylim(0,1.5)\n",
        "plt.legend('best', labels=[\"average R0\", \"Predict average R0\"])\n",
        "plt.title(\"NN average R0 in Italy\")\n",
        "plt.tight_layout()\n",
        "plt.show()"
      ],
      "execution_count": null,
      "outputs": [
        {
          "output_type": "stream",
          "text": [
            "/usr/local/lib/python3.6/dist-packages/ipykernel_launcher.py:5: UserWarning: You have mixed positional and keyword arguments, some input may be discarded.\n",
            "  \"\"\"\n",
            "/usr/local/lib/python3.6/dist-packages/ipykernel_launcher.py:13: UserWarning: You have mixed positional and keyword arguments, some input may be discarded.\n",
            "  del sys.path[0]\n"
          ],
          "name": "stderr"
        },
        {
          "output_type": "display_data",
          "data": {
            "image/png": "[encoded data removed]",
            "text/plain": [
              "<Figure size 432x288 with 2 Axes>"
            ]
          },
          "metadata": {
            "tags": [],
            "needs_background": "light"
          }
        }
      ]
    },
    {
      "cell_type": "code",
      "metadata": {
        "id": "Dj_YI8j7dWBX",
        "colab_type": "code",
        "colab": {}
      },
      "source": [
        ""
      ],
      "execution_count": null,
      "outputs": []
    },
    {
      "cell_type": "markdown",
      "metadata": {
        "id": "nWA5eM7ZTHHk",
        "colab_type": "text"
      },
      "source": [
        "## Canada"
      ]
    },
    {
      "cell_type": "code",
      "metadata": {
        "id": "3bnMzW2MTHHl",
        "colab_type": "code",
        "colab": {}
      },
      "source": [
        "ave_days = 7\n",
        "lockdown_date=51"
      ],
      "execution_count": null,
      "outputs": []
    },
    {
      "cell_type": "code",
      "metadata": {
        "id": "hRnsG5rfTHHn",
        "colab_type": "code",
        "colab": {}
      },
      "source": [
        "df_canada=df_conf[df_conf[\"Country/Region\"]==\"Canada\"].iloc[:,4:]\n",
        "canada_recov=df_recover[df_recover[\"Country/Region\"]==\"Canada\"].iloc[:,4:]\n",
        "canada_death=df_death[df_death[\"Country/Region\"]==\"Canada\"].iloc[:,4:]"
      ],
      "execution_count": null,
      "outputs": []
    },
    {
      "cell_type": "code",
      "metadata": {
        "id": "wJ-NTEkDTHHs",
        "colab_type": "code",
        "colab": {
          "base_uri": "https://localhost:8080/",
          "height": 310
        },
        "outputId": "db2b8db5-17df-4030-dd2f-a2a4a68ef5f8"
      },
      "source": [
        "df_canada_aveR0 = ave_R0(df_canada, canada_recov, canada_death, ave_days=7)\n",
        "df_canada_aveR0.iloc[:,lockdown_date:]"
      ],
      "execution_count": null,
      "outputs": [
        {
          "output_type": "stream",
          "text": [
            "/usr/local/lib/python3.6/dist-packages/ipykernel_launcher.py:7: RuntimeWarning: divide by zero encountered in log\n",
            "  import sys\n",
            "/usr/local/lib/python3.6/dist-packages/ipykernel_launcher.py:7: RuntimeWarning: invalid value encountered in double_scalars\n",
            "  import sys\n",
            "/usr/local/lib/python3.6/dist-packages/ipykernel_launcher.py:8: RuntimeWarning: invalid value encountered in long_scalars\n",
            "  \n",
            "/usr/local/lib/python3.6/dist-packages/ipykernel_launcher.py:9: RuntimeWarning: invalid value encountered in long_scalars\n",
            "  if __name__ == '__main__':\n",
            "/usr/local/lib/python3.6/dist-packages/ipykernel_launcher.py:8: RuntimeWarning: divide by zero encountered in long_scalars\n",
            "  \n"
          ],
          "name": "stderr"
        },
        {
          "output_type": "execute_result",
          "data": {
            "text/html": [
              "<div>\n",
              "<style scoped>\n",
              "    .dataframe tbody tr th:only-of-type {\n",
              "        vertical-align: middle;\n",
              "    }\n",
              "\n",
              "    .dataframe tbody tr th {\n",
              "        vertical-align: top;\n",
              "    }\n",
              "\n",
              "    .dataframe thead th {\n",
              "        text-align: right;\n",
              "    }\n",
              "</style>\n",
              "<table border=\"1\" class=\"dataframe\">\n",
              "  <thead>\n",
              "    <tr style=\"text-align: right;\">\n",
              "      <th></th>\n",
              "      <th>2020-03-13</th>\n",
              "      <th>2020-03-14</th>\n",
              "      <th>2020-03-15</th>\n",
              "      <th>2020-03-16</th>\n",
              "      <th>2020-03-17</th>\n",
              "      <th>2020-03-18</th>\n",
              "      <th>2020-03-19</th>\n",
              "      <th>2020-03-20</th>\n",
              "      <th>2020-03-21</th>\n",
              "      <th>2020-03-22</th>\n",
              "      <th>2020-03-23</th>\n",
              "      <th>2020-03-24</th>\n",
              "      <th>2020-03-25</th>\n",
              "      <th>2020-03-26</th>\n",
              "      <th>2020-03-27</th>\n",
              "      <th>2020-03-28</th>\n",
              "      <th>2020-03-29</th>\n",
              "      <th>2020-03-30</th>\n",
              "      <th>2020-03-31</th>\n",
              "      <th>2020-04-01</th>\n",
              "      <th>2020-04-02</th>\n",
              "      <th>2020-04-03</th>\n",
              "      <th>2020-04-04</th>\n",
              "      <th>2020-04-05</th>\n",
              "      <th>2020-04-06</th>\n",
              "      <th>2020-04-07</th>\n",
              "      <th>2020-04-08</th>\n",
              "      <th>2020-04-09</th>\n",
              "      <th>2020-04-10</th>\n",
              "      <th>2020-04-11</th>\n",
              "      <th>2020-04-12</th>\n",
              "      <th>2020-04-13</th>\n",
              "      <th>2020-04-14</th>\n",
              "      <th>2020-04-15</th>\n",
              "      <th>2020-04-16</th>\n",
              "      <th>2020-04-17</th>\n",
              "      <th>2020-04-18</th>\n",
              "      <th>2020-04-19</th>\n",
              "      <th>2020-04-20</th>\n",
              "      <th>2020-04-21</th>\n",
              "      <th>...</th>\n",
              "      <th>2020-05-23</th>\n",
              "      <th>2020-05-24</th>\n",
              "      <th>2020-05-25</th>\n",
              "      <th>2020-05-26</th>\n",
              "      <th>2020-05-27</th>\n",
              "      <th>2020-05-28</th>\n",
              "      <th>2020-05-29</th>\n",
              "      <th>2020-05-30</th>\n",
              "      <th>2020-05-31</th>\n",
              "      <th>2020-06-01</th>\n",
              "      <th>2020-06-02</th>\n",
              "      <th>2020-06-03</th>\n",
              "      <th>2020-06-04</th>\n",
              "      <th>2020-06-05</th>\n",
              "      <th>2020-06-06</th>\n",
              "      <th>2020-06-07</th>\n",
              "      <th>2020-06-08</th>\n",
              "      <th>2020-06-09</th>\n",
              "      <th>2020-06-10</th>\n",
              "      <th>2020-06-11</th>\n",
              "      <th>2020-06-12</th>\n",
              "      <th>2020-06-13</th>\n",
              "      <th>2020-06-14</th>\n",
              "      <th>2020-06-15</th>\n",
              "      <th>2020-06-16</th>\n",
              "      <th>2020-06-17</th>\n",
              "      <th>2020-06-18</th>\n",
              "      <th>2020-06-19</th>\n",
              "      <th>2020-06-20</th>\n",
              "      <th>2020-06-21</th>\n",
              "      <th>2020-06-22</th>\n",
              "      <th>2020-06-23</th>\n",
              "      <th>2020-06-24</th>\n",
              "      <th>2020-06-25</th>\n",
              "      <th>2020-06-26</th>\n",
              "      <th>2020-06-27</th>\n",
              "      <th>2020-06-28</th>\n",
              "      <th>2020-06-29</th>\n",
              "      <th>2020-06-30</th>\n",
              "      <th>2020-07-01</th>\n",
              "    </tr>\n",
              "  </thead>\n",
              "  <tbody>\n",
              "    <tr>\n",
              "      <th>0</th>\n",
              "      <td>5.777615</td>\n",
              "      <td>11.956382</td>\n",
              "      <td>11.956382</td>\n",
              "      <td>9.797837</td>\n",
              "      <td>10.016466</td>\n",
              "      <td>10.15739</td>\n",
              "      <td>25.933372</td>\n",
              "      <td>22.562321</td>\n",
              "      <td>16.526412</td>\n",
              "      <td>16.526412</td>\n",
              "      <td>22.207059</td>\n",
              "      <td>22.134873</td>\n",
              "      <td>22.104059</td>\n",
              "      <td>6.536048</td>\n",
              "      <td>6.430886</td>\n",
              "      <td>6.466194</td>\n",
              "      <td>6.642099</td>\n",
              "      <td>1.143094</td>\n",
              "      <td>1.170777</td>\n",
              "      <td>1.203524</td>\n",
              "      <td>1.145349</td>\n",
              "      <td>1.15104</td>\n",
              "      <td>1.137218</td>\n",
              "      <td>1.10417</td>\n",
              "      <td>1.100348</td>\n",
              "      <td>1.11086</td>\n",
              "      <td>1.11086</td>\n",
              "      <td>1.127717</td>\n",
              "      <td>1.183512</td>\n",
              "      <td>1.216302</td>\n",
              "      <td>1.253566</td>\n",
              "      <td>1.23952</td>\n",
              "      <td>1.237756</td>\n",
              "      <td>1.270554</td>\n",
              "      <td>1.387725</td>\n",
              "      <td>1.430371</td>\n",
              "      <td>1.410843</td>\n",
              "      <td>1.412998</td>\n",
              "      <td>1.413808</td>\n",
              "      <td>1.396155</td>\n",
              "      <td>...</td>\n",
              "      <td>1.033808</td>\n",
              "      <td>1.028701</td>\n",
              "      <td>1.030088</td>\n",
              "      <td>1.028545</td>\n",
              "      <td>1.028036</td>\n",
              "      <td>1.025407</td>\n",
              "      <td>1.022904</td>\n",
              "      <td>1.025498</td>\n",
              "      <td>1.021808</td>\n",
              "      <td>1.029854</td>\n",
              "      <td>1.031889</td>\n",
              "      <td>1.034522</td>\n",
              "      <td>1.037604</td>\n",
              "      <td>1.041218</td>\n",
              "      <td>1.042038</td>\n",
              "      <td>1.050752</td>\n",
              "      <td>1.040758</td>\n",
              "      <td>1.045346</td>\n",
              "      <td>1.0442</td>\n",
              "      <td>1.051836</td>\n",
              "      <td>1.059323</td>\n",
              "      <td>1.066334</td>\n",
              "      <td>1.068069</td>\n",
              "      <td>1.074142</td>\n",
              "      <td>1.080076</td>\n",
              "      <td>1.090875</td>\n",
              "      <td>1.088007</td>\n",
              "      <td>1.092632</td>\n",
              "      <td>1.116492</td>\n",
              "      <td>1.128822</td>\n",
              "      <td>1.129185</td>\n",
              "      <td>1.127547</td>\n",
              "      <td>1.111798</td>\n",
              "      <td>1.128844</td>\n",
              "      <td>1.134537</td>\n",
              "      <td>1.09722</td>\n",
              "      <td>1.074442</td>\n",
              "      <td>1.114371</td>\n",
              "      <td>1.124525</td>\n",
              "      <td>1.141416</td>\n",
              "    </tr>\n",
              "  </tbody>\n",
              "</table>\n",
              "<p>1 rows × 111 columns</p>\n",
              "</div>"
            ],
            "text/plain": [
              "   2020-03-13  2020-03-14  2020-03-15  ...  2020-06-29  2020-06-30  2020-07-01\n",
              "0    5.777615   11.956382   11.956382  ...    1.114371    1.124525    1.141416\n",
              "\n",
              "[1 rows x 111 columns]"
            ]
          },
          "metadata": {
            "tags": []
          },
          "execution_count": 81
        }
      ]
    },
    {
      "cell_type": "code",
      "metadata": {
        "id": "18HTiiF_THHv",
        "colab_type": "code",
        "colab": {
          "base_uri": "https://localhost:8080/",
          "height": 364
        },
        "outputId": "f11ffcd4-869f-4d03-8c10-2529c362048d"
      },
      "source": [
        "plt.subplot(211)\n",
        "# plt.figure(figsize=(10,7))\n",
        "plt.plot(df_canada_aveR0.loc[0].tolist())\n",
        "plt.xticks(rotation=30)\n",
        "plt.legend('best', labels=[\"average R0\"])\n",
        "plt.title(\"average R0 in Canada\")\n",
        "\n",
        "plt.subplot(212)\n",
        "plt.plot(df_canada_aveR0.loc[0].tolist())\n",
        "plt.xticks(rotation=30)\n",
        "plt.ylim(0,1.5)\n",
        "plt.legend('best', labels=[\"average R0\"])\n",
        "plt.title(\"average R0 in Canada\")\n",
        "plt.tight_layout()\n",
        "plt.show()"
      ],
      "execution_count": null,
      "outputs": [
        {
          "output_type": "stream",
          "text": [
            "/usr/local/lib/python3.6/dist-packages/ipykernel_launcher.py:5: UserWarning: You have mixed positional and keyword arguments, some input may be discarded.\n",
            "  \"\"\"\n",
            "/usr/local/lib/python3.6/dist-packages/ipykernel_launcher.py:12: UserWarning: You have mixed positional and keyword arguments, some input may be discarded.\n",
            "  if sys.path[0] == '':\n"
          ],
          "name": "stderr"
        },
        {
          "output_type": "display_data",
          "data": {
            "image/png": "[encoded data removed]",
            "text/plain": [
              "<Figure size 432x288 with 2 Axes>"
            ]
          },
          "metadata": {
            "tags": [],
            "needs_background": "light"
          }
        }
      ]
    },
    {
      "cell_type": "markdown",
      "metadata": {
        "id": "FS7AGqeRTHHy",
        "colab_type": "text"
      },
      "source": [
        "### LSTM R0"
      ]
    },
    {
      "cell_type": "code",
      "metadata": {
        "id": "IUqefPTKTHHy",
        "colab_type": "code",
        "colab": {}
      },
      "source": [
        "# model_LSTM_w3 = tf.keras.models.load_model('HubeiR0_LSTM_w3.h5')"
      ],
      "execution_count": null,
      "outputs": []
    },
    {
      "cell_type": "code",
      "metadata": {
        "id": "JqkgQkAjTHH1",
        "colab_type": "code",
        "colab": {}
      },
      "source": [
        "# w=3\n",
        "# x_test, y_test = get_traintestdata(df_canada_aveR0, w=w, r=1, lockdown_date=lockdown_date)"
      ],
      "execution_count": null,
      "outputs": []
    },
    {
      "cell_type": "code",
      "metadata": {
        "id": "8XRYW6AGTHH4",
        "colab_type": "code",
        "colab": {}
      },
      "source": [
        "# x_test = np.array(x_test)\n",
        "# x_test = x_test.reshape((x_test.shape[0], x_test.shape[1], r))\n",
        "# y_pred = model_LSTM_w3.predict(x_test, verbose=0)"
      ],
      "execution_count": null,
      "outputs": []
    },
    {
      "cell_type": "code",
      "metadata": {
        "id": "AELGrw-8THH7",
        "colab_type": "code",
        "colab": {
          "base_uri": "https://localhost:8080/",
          "height": 34
        },
        "outputId": "54bd26ce-c989-43c2-87fc-9bedd61f581c"
      },
      "source": [
        "# lstm_residuals = y_pred - y_test\n",
        "# lstm_rmse = np.sqrt(np.sum(np.power(lstm_residuals,2)) / len(lstm_residuals))\n",
        "# print('RMSE = %.2f' % lstm_rmse)"
      ],
      "execution_count": null,
      "outputs": [
        {
          "output_type": "stream",
          "text": [
            "RMSE = 4.16\n"
          ],
          "name": "stdout"
        }
      ]
    },
    {
      "cell_type": "code",
      "metadata": {
        "id": "ckNi5V5rTHH-",
        "colab_type": "code",
        "colab": {
          "base_uri": "https://localhost:8080/",
          "height": 70
        },
        "outputId": "c13f6e00-eb9a-4b50-8399-3a12ef52e451"
      },
      "source": [
        "# df_LSTM_w3 = df_canada_aveR0.iloc[:,lockdown_date:]\n",
        "# df_LSTM_w3 = df_LSTM_w3.append(pd.Series(), ignore_index=True)\n",
        "# df_LSTM_w3.iloc[1,w:] = y_pred.T"
      ],
      "execution_count": null,
      "outputs": [
        {
          "output_type": "stream",
          "text": [
            "/usr/local/lib/python3.6/dist-packages/ipykernel_launcher.py:2: DeprecationWarning: The default dtype for empty Series will be 'object' instead of 'float64' in a future version. Specify a dtype explicitly to silence this warning.\n",
            "  \n"
          ],
          "name": "stderr"
        }
      ]
    },
    {
      "cell_type": "code",
      "metadata": {
        "id": "wIJgNu9ATHIA",
        "colab_type": "code",
        "colab": {
          "base_uri": "https://localhost:8080/",
          "height": 350
        },
        "outputId": "ede516f3-9d51-4ca4-ab21-481fc1e09c8c"
      },
      "source": [
        "# # w = 3\n",
        "# plt.subplot(2,1,1)\n",
        "# plt.plot(df_LSTM_w3.iloc[0],label=\"Original Data\")\n",
        "# plt.plot(df_LSTM_w3.iloc[1],label=\"Predicted Data\")\n",
        "# plt.legend(loc='best')\n",
        "# plt.ylabel='R0'\n",
        "# plt.xlabel='Date'\n",
        "# plt.xticks(rotation=30)\n",
        "# plt.title('Canada LSTM Average R0')\n",
        "\n",
        "# plt.subplot(2,1,2)\n",
        "# plt.plot(df_LSTM_w3.iloc[0],label=\"Original Data\")\n",
        "# plt.plot(df_LSTM_w3.iloc[1],label=\"Predicted Data\")\n",
        "# plt.xticks(rotation=30)\n",
        "# plt.ylim(0,2.5)\n",
        "# plt.legend('best', labels=[\"average R0\"])\n",
        "# plt.title(\"Canada LSTM Average R0\")\n",
        "# plt.tight_layout()\n",
        "# plt.show()"
      ],
      "execution_count": null,
      "outputs": [
        {
          "output_type": "stream",
          "text": [
            "/usr/local/lib/python3.6/dist-packages/ipykernel_launcher.py:16: UserWarning: You have mixed positional and keyword arguments, some input may be discarded.\n",
            "  app.launch_new_instance()\n"
          ],
          "name": "stderr"
        },
        {
          "output_type": "display_data",
          "data": {
            "image/png": "[encoded data removed]",
            "text/plain": [
              "<Figure size 432x288 with 2 Axes>"
            ]
          },
          "metadata": {
            "tags": [],
            "needs_background": "light"
          }
        }
      ]
    },
    {
      "cell_type": "code",
      "metadata": {
        "id": "6LhwIU6_THIC",
        "colab_type": "code",
        "colab": {}
      },
      "source": [
        "model_LSTM_w1 = tf.keras.models.load_model('HubeiR0_LSTM_w1.h5')"
      ],
      "execution_count": null,
      "outputs": []
    },
    {
      "cell_type": "code",
      "metadata": {
        "id": "6GyskflGTHID",
        "colab_type": "code",
        "colab": {}
      },
      "source": [
        "w=1\n",
        "x_test, y_test = get_traintestdata(df_canada_aveR0, w=w, r=1, lockdown_date=lockdown_date)"
      ],
      "execution_count": null,
      "outputs": []
    },
    {
      "cell_type": "code",
      "metadata": {
        "id": "GyS2ZMztTHIG",
        "colab_type": "code",
        "colab": {
          "base_uri": "https://localhost:8080/",
          "height": 34
        },
        "outputId": "4c476ead-04bd-416f-f5a9-2cfbdebf8ed7"
      },
      "source": [
        "x_test = np.array(x_test)\n",
        "x_test = x_test.reshape((x_test.shape[0], x_test.shape[1], r))\n",
        "y_pred = model_LSTM_w1.predict(x_test, verbose=0)\n",
        "\n",
        "lstm_residuals = y_pred - y_test\n",
        "lstm_rmse = np.sqrt(np.sum(np.power(lstm_residuals,2)) / len(lstm_residuals))\n",
        "print('RMSE = %.2f' % lstm_rmse)"
      ],
      "execution_count": null,
      "outputs": [
        {
          "output_type": "stream",
          "text": [
            "RMSE = 2.40\n"
          ],
          "name": "stdout"
        }
      ]
    },
    {
      "cell_type": "code",
      "metadata": {
        "id": "mpulDCB2THIL",
        "colab_type": "code",
        "colab": {
          "base_uri": "https://localhost:8080/",
          "height": 70
        },
        "outputId": "520565df-e712-4803-b417-a07962c71e33"
      },
      "source": [
        "df_LSTM_w1 = df_canada_aveR0.iloc[:,lockdown_date+w-1:]\n",
        "df_LSTM_w1 = df_LSTM_w1.append(pd.Series(), ignore_index=True)\n",
        "df_LSTM_w1.iloc[1,w:] = y_pred.T"
      ],
      "execution_count": null,
      "outputs": [
        {
          "output_type": "stream",
          "text": [
            "/usr/local/lib/python3.6/dist-packages/ipykernel_launcher.py:2: DeprecationWarning: The default dtype for empty Series will be 'object' instead of 'float64' in a future version. Specify a dtype explicitly to silence this warning.\n",
            "  \n"
          ],
          "name": "stderr"
        }
      ]
    },
    {
      "cell_type": "code",
      "metadata": {
        "id": "r9N3aSmrTHIM",
        "colab_type": "code",
        "colab": {
          "base_uri": "https://localhost:8080/",
          "height": 330
        },
        "outputId": "65a639c4-7575-4bbc-b052-b938e0a9c62a"
      },
      "source": [
        "# w = 1\n",
        "plt.subplot(2,1,1)\n",
        "plt.plot(df_LSTM_w1.iloc[0],label=\"Original Data\")\n",
        "plt.plot(df_LSTM_w1.iloc[1],label=\"Predicted Data\")\n",
        "plt.legend(loc='best')\n",
        "plt.ylabel='R0'\n",
        "plt.xlabel='Date'\n",
        "plt.xticks(rotation=30)\n",
        "plt.title('Canada Average R0')\n",
        "\n",
        "plt.subplot(2,1,2)\n",
        "plt.plot(df_LSTM_w1.iloc[0],label=\"Original Data\")\n",
        "plt.plot(df_LSTM_w1.iloc[1],label=\"Predicted Data\")\n",
        "plt.xticks(rotation=30)\n",
        "plt.ylim(0,2.5)\n",
        "plt.legend('best', labels=[\"average R0\"])\n",
        "plt.title(\"Canada Average R0\")\n",
        "plt.tight_layout()\n",
        "plt.show()"
      ],
      "execution_count": null,
      "outputs": [
        {
          "output_type": "stream",
          "text": [
            "/usr/local/lib/python3.6/dist-packages/ipykernel_launcher.py:16: UserWarning: You have mixed positional and keyword arguments, some input may be discarded.\n",
            "  app.launch_new_instance()\n"
          ],
          "name": "stderr"
        },
        {
          "output_type": "display_data",
          "data": {
            "image/png": "[encoded data removed]",
            "text/plain": [
              "<Figure size 432x288 with 2 Axes>"
            ]
          },
          "metadata": {
            "tags": [],
            "needs_background": "light"
          }
        }
      ]
    },
    {
      "cell_type": "code",
      "metadata": {
        "colab_type": "code",
        "id": "VZbr5XsPoUEU",
        "colab": {}
      },
      "source": [
        "model_NN_w1 = tf.keras.models.load_model('HubeiR0_NN_w1.h5')"
      ],
      "execution_count": null,
      "outputs": []
    },
    {
      "cell_type": "code",
      "metadata": {
        "colab_type": "code",
        "id": "hAsDrF3noUEX",
        "colab": {}
      },
      "source": [
        "w=1\n",
        "x_test, y_test = get_traintestdata(df_canada_aveR0, w=w, r=1, lockdown_date=lockdown_date)"
      ],
      "execution_count": null,
      "outputs": []
    },
    {
      "cell_type": "code",
      "metadata": {
        "colab_type": "code",
        "id": "TGSp2dwFoUEY",
        "colab": {
          "base_uri": "https://localhost:8080/",
          "height": 34
        },
        "outputId": "243ed7d4-41ae-461a-d0c2-430ea2e4f970"
      },
      "source": [
        "x_test = np.array(x_test)\n",
        "y_pred = model_NN_w1.predict(x_test, verbose=0)\n",
        "\n",
        "nn_residuals = y_pred - y_test\n",
        "nn_rmse = np.sqrt(np.sum(np.power(nn_residuals,2)) / len(nn_residuals))\n",
        "print('RMSE = %.2f' % nn_rmse)"
      ],
      "execution_count": null,
      "outputs": [
        {
          "output_type": "stream",
          "text": [
            "RMSE = 2.26\n"
          ],
          "name": "stdout"
        }
      ]
    },
    {
      "cell_type": "code",
      "metadata": {
        "colab_type": "code",
        "id": "mtY73FFvoUEa",
        "colab": {
          "base_uri": "https://localhost:8080/",
          "height": 70
        },
        "outputId": "2c915c1d-8c26-4bbe-f75f-5d7034eeb992"
      },
      "source": [
        "df_NN_w1 = df_canada_aveR0.iloc[:,lockdown_date+w-1:]\n",
        "df_NN_w1 = df_NN_w1.append(pd.Series(), ignore_index=True)\n",
        "df_NN_w1.iloc[1,w:] = y_pred.T"
      ],
      "execution_count": null,
      "outputs": [
        {
          "output_type": "stream",
          "text": [
            "/usr/local/lib/python3.6/dist-packages/ipykernel_launcher.py:2: DeprecationWarning: The default dtype for empty Series will be 'object' instead of 'float64' in a future version. Specify a dtype explicitly to silence this warning.\n",
            "  \n"
          ],
          "name": "stderr"
        }
      ]
    },
    {
      "cell_type": "code",
      "metadata": {
        "colab_type": "code",
        "id": "1-ckqjC1oUEc",
        "colab": {
          "base_uri": "https://localhost:8080/",
          "height": 350
        },
        "outputId": "b445b0c7-a133-4f2b-f8cf-6880308f9b3b"
      },
      "source": [
        "# w = 1\n",
        "plt.subplot(2,1,1)\n",
        "plt.plot(df_NN_w1.iloc[0],label=\"Original Data\")\n",
        "plt.plot(df_NN_w1.iloc[1],label=\"Predicted Data\")\n",
        "plt.legend(loc='best')\n",
        "plt.ylabel='R0'\n",
        "plt.xlabel='Date'\n",
        "plt.xticks(rotation=30)\n",
        "plt.title('Canada NN Average R0')\n",
        "\n",
        "plt.subplot(2,1,2)\n",
        "plt.plot(df_NN_w1.iloc[0],label=\"Original Data\")\n",
        "plt.plot(df_NN_w1.iloc[1],label=\"Predicted Data\")\n",
        "plt.xticks(rotation=30)\n",
        "plt.ylim(0,2.5)\n",
        "plt.legend('best', labels=[\"average R0\"])\n",
        "plt.title(\"Canada NN Average R0\")\n",
        "plt.tight_layout()\n",
        "plt.show()"
      ],
      "execution_count": null,
      "outputs": [
        {
          "output_type": "stream",
          "text": [
            "/usr/local/lib/python3.6/dist-packages/ipykernel_launcher.py:16: UserWarning: You have mixed positional and keyword arguments, some input may be discarded.\n",
            "  app.launch_new_instance()\n"
          ],
          "name": "stderr"
        },
        {
          "output_type": "display_data",
          "data": {
            "image/png": "[encoded data removed]",
            "text/plain": [
              "<Figure size 432x288 with 2 Axes>"
            ]
          },
          "metadata": {
            "tags": [],
            "needs_background": "light"
          }
        }
      ]
    },
    {
      "cell_type": "code",
      "metadata": {
        "colab_type": "code",
        "id": "pReYfhHEpPUa",
        "colab": {}
      },
      "source": [
        "model_NN_w5 = tf.keras.models.load_model('HubeiR0_NN_w5.h5')"
      ],
      "execution_count": null,
      "outputs": []
    },
    {
      "cell_type": "code",
      "metadata": {
        "colab_type": "code",
        "id": "fDQOYXtRpPUc",
        "colab": {}
      },
      "source": [
        "w=5\n",
        "x_test, y_test = get_traintestdata(df_canada_aveR0, w=w, r=1, lockdown_date=lockdown_date)"
      ],
      "execution_count": null,
      "outputs": []
    },
    {
      "cell_type": "code",
      "metadata": {
        "colab_type": "code",
        "id": "H5D_-9StpPUg",
        "colab": {
          "base_uri": "https://localhost:8080/",
          "height": 34
        },
        "outputId": "907715cc-2095-4fd4-e32f-70bbcb7f2cea"
      },
      "source": [
        "x_test = np.array(x_test)\n",
        "y_pred = model_NN_w5.predict(x_test, verbose=0)\n",
        "\n",
        "nn_residuals = y_pred - y_test\n",
        "nn_rmse = np.sqrt(np.sum(np.power(nn_residuals,2)) / len(nn_residuals))\n",
        "print('RMSE = %.2f' % nn_rmse)"
      ],
      "execution_count": null,
      "outputs": [
        {
          "output_type": "stream",
          "text": [
            "RMSE = 2.65\n"
          ],
          "name": "stdout"
        }
      ]
    },
    {
      "cell_type": "code",
      "metadata": {
        "colab_type": "code",
        "id": "1Od3_ogSpPUi",
        "colab": {
          "base_uri": "https://localhost:8080/",
          "height": 70
        },
        "outputId": "d86403e2-caa8-4eb4-a922-8026a925c394"
      },
      "source": [
        "df_NN_w5 = df_canada_aveR0.iloc[:,lockdown_date+w-1:]\n",
        "df_NN_w5 = df_NN_w5.append(pd.Series(), ignore_index=True)\n",
        "df_NN_w5.iloc[1, 1:] = y_pred.T"
      ],
      "execution_count": null,
      "outputs": [
        {
          "output_type": "stream",
          "text": [
            "/usr/local/lib/python3.6/dist-packages/ipykernel_launcher.py:2: DeprecationWarning: The default dtype for empty Series will be 'object' instead of 'float64' in a future version. Specify a dtype explicitly to silence this warning.\n",
            "  \n"
          ],
          "name": "stderr"
        }
      ]
    },
    {
      "cell_type": "code",
      "metadata": {
        "colab_type": "code",
        "id": "taRKL1PppPUk",
        "colab": {
          "base_uri": "https://localhost:8080/",
          "height": 330
        },
        "outputId": "826d3bfb-1187-429d-d1b8-df5a47fcd3cb"
      },
      "source": [
        "# w = 5\n",
        "plt.subplot(2,1,1)\n",
        "plt.plot(df_NN_w5.iloc[0],label=\"Original Data\")\n",
        "plt.plot(df_NN_w5.iloc[1],label=\"Predicted Data\")\n",
        "plt.legend(loc='best')\n",
        "plt.ylabel='R0'\n",
        "plt.xlabel='Date'\n",
        "plt.xticks(rotation=30)\n",
        "plt.title('Canada NN Average R0')\n",
        "\n",
        "plt.subplot(2,1,2)\n",
        "plt.plot(df_NN_w5.iloc[0],label=\"Original Data\")\n",
        "plt.plot(df_NN_w5.iloc[1],label=\"Predicted Data\")\n",
        "plt.xticks(rotation=30)\n",
        "plt.ylim(0,2)\n",
        "plt.legend('best', labels=[\"average R0\"])\n",
        "plt.title(\"Canada NN Average R0\")\n",
        "plt.tight_layout()\n",
        "plt.show()"
      ],
      "execution_count": null,
      "outputs": [
        {
          "output_type": "stream",
          "text": [
            "/usr/local/lib/python3.6/dist-packages/ipykernel_launcher.py:16: UserWarning: You have mixed positional and keyword arguments, some input may be discarded.\n",
            "  app.launch_new_instance()\n"
          ],
          "name": "stderr"
        },
        {
          "output_type": "display_data",
          "data": {
            "image/png": "[encoded data removed]",
            "text/plain": [
              "<Figure size 432x288 with 2 Axes>"
            ]
          },
          "metadata": {
            "tags": [],
            "needs_background": "light"
          }
        }
      ]
    },
    {
      "cell_type": "code",
      "metadata": {
        "id": "WhHk56lvTHIS",
        "colab_type": "code",
        "colab": {}
      },
      "source": [
        ""
      ],
      "execution_count": null,
      "outputs": []
    },
    {
      "cell_type": "code",
      "metadata": {
        "id": "USsDLKz0THIT",
        "colab_type": "code",
        "colab": {}
      },
      "source": [
        ""
      ],
      "execution_count": null,
      "outputs": []
    },
    {
      "cell_type": "markdown",
      "metadata": {
        "id": "pZOuCyMMTHIV",
        "colab_type": "text"
      },
      "source": [
        "### Forecasting\n"
      ]
    },
    {
      "cell_type": "code",
      "metadata": {
        "id": "W3YqP7t9THIV",
        "colab_type": "code",
        "colab": {}
      },
      "source": [
        "forecast_days=30\n",
        "w=5\n",
        "df_canadaR0_forecast_w5 = R0_forecast(df_NN_w5, model_NN_w5, forecast_days=30, w=w, r=1, LSTM=False)"
      ],
      "execution_count": null,
      "outputs": []
    },
    {
      "cell_type": "code",
      "metadata": {
        "scrolled": true,
        "id": "rtNTp-_HTHIY",
        "colab_type": "code",
        "colab": {
          "base_uri": "https://localhost:8080/",
          "height": 364
        },
        "outputId": "7143f12d-ac01-435c-f1e0-d1e941edf856"
      },
      "source": [
        "plt.subplot(2,1,1)\n",
        "plt.plot(df_canadaR0_forecast_w5.iloc[0, :-forecast_days].tolist())\n",
        "plt.plot(df_canadaR0_forecast_w5.loc[1].tolist())\n",
        "plt.xticks(rotation=30)\n",
        "plt.legend('best', labels=[\"average R0\", \"Predict average R0\"])\n",
        "plt.title(\"average R0 in Canada\")\n",
        "\n",
        "plt.subplot(2,1,2)\n",
        "plt.plot(df_canadaR0_forecast_w5.iloc[0,:-forecast_days].tolist())\n",
        "plt.plot(df_canadaR0_forecast_w5.loc[1].tolist())\n",
        "plt.xticks(rotation=30)\n",
        "plt.ylim(0,1.5)\n",
        "plt.legend('best', labels=[\"average R0\", \"Predict average R0\"])\n",
        "plt.title(\"average R0 in Canada\")\n",
        "plt.tight_layout()\n",
        "plt.show()"
      ],
      "execution_count": null,
      "outputs": [
        {
          "output_type": "stream",
          "text": [
            "/usr/local/lib/python3.6/dist-packages/ipykernel_launcher.py:5: UserWarning: You have mixed positional and keyword arguments, some input may be discarded.\n",
            "  \"\"\"\n",
            "/usr/local/lib/python3.6/dist-packages/ipykernel_launcher.py:13: UserWarning: You have mixed positional and keyword arguments, some input may be discarded.\n",
            "  del sys.path[0]\n"
          ],
          "name": "stderr"
        },
        {
          "output_type": "display_data",
          "data": {
            "image/png": "[encoded data removed]",
            "text/plain": [
              "<Figure size 432x288 with 2 Axes>"
            ]
          },
          "metadata": {
            "tags": [],
            "needs_background": "light"
          }
        }
      ]
    },
    {
      "cell_type": "code",
      "metadata": {
        "id": "IeQnSDMyTHIa",
        "colab_type": "code",
        "colab": {}
      },
      "source": [
        "forecast_days=30\n",
        "w=1\n",
        "df_canadaR0_forecast_w1 = R0_forecast(df_LSTM_w1, model_LSTM_w1, forecast_days=30, w=w, r=1)"
      ],
      "execution_count": null,
      "outputs": []
    },
    {
      "cell_type": "code",
      "metadata": {
        "id": "3eqe9Py0THIb",
        "colab_type": "code",
        "colab": {
          "base_uri": "https://localhost:8080/",
          "height": 364
        },
        "outputId": "be9e42bc-dc3e-4139-b3c9-d5fc0e31f3d8"
      },
      "source": [
        "plt.subplot(2,1,1)\n",
        "plt.plot(df_canadaR0_forecast_w1.iloc[0, :-forecast_days].tolist())\n",
        "plt.plot(df_canadaR0_forecast_w1.loc[1].tolist())\n",
        "plt.xticks(rotation=30)\n",
        "plt.legend('best', labels=[\"average R0\", \"Predict average R0\"])\n",
        "plt.title(\"average R0 in Canada\")\n",
        "\n",
        "plt.subplot(2,1,2)\n",
        "plt.plot(df_canadaR0_forecast_w1.iloc[0,:-forecast_days].tolist())\n",
        "plt.plot(df_canadaR0_forecast_w1.loc[1].tolist())\n",
        "plt.xticks(rotation=30)\n",
        "plt.ylim(0,1.5)\n",
        "plt.legend('best', labels=[\"average R0\", \"Predict average R0\"])\n",
        "plt.title(\"average R0 in Canada\")\n",
        "plt.tight_layout()\n",
        "plt.show()"
      ],
      "execution_count": null,
      "outputs": [
        {
          "output_type": "stream",
          "text": [
            "/usr/local/lib/python3.6/dist-packages/ipykernel_launcher.py:5: UserWarning: You have mixed positional and keyword arguments, some input may be discarded.\n",
            "  \"\"\"\n",
            "/usr/local/lib/python3.6/dist-packages/ipykernel_launcher.py:13: UserWarning: You have mixed positional and keyword arguments, some input may be discarded.\n",
            "  del sys.path[0]\n"
          ],
          "name": "stderr"
        },
        {
          "output_type": "display_data",
          "data": {
            "image/png": "[encoded data removed]",
            "text/plain": [
              "<Figure size 432x288 with 2 Axes>"
            ]
          },
          "metadata": {
            "tags": [],
            "needs_background": "light"
          }
        }
      ]
    },
    {
      "cell_type": "markdown",
      "metadata": {
        "id": "RI6FYffyTHId",
        "colab_type": "text"
      },
      "source": [
        "## DTW"
      ]
    },
    {
      "cell_type": "code",
      "metadata": {
        "id": "4-WyI9DzTHId",
        "colab_type": "code",
        "colab": {}
      },
      "source": [
        "from fastdtw import fastdtw\n",
        "from scipy.spatial.distance import euclidean"
      ],
      "execution_count": null,
      "outputs": []
    },
    {
      "cell_type": "code",
      "metadata": {
        "scrolled": true,
        "id": "gIp-3kVmTHIf",
        "colab_type": "code",
        "colab": {},
        "outputId": "5f44073c-c4c5-4905-da13-7366ad8a238f"
      },
      "source": [
        "dataframe=df_conf.copy()\n",
        "df=dataframe\n",
        "sum_region = df.groupby(['Country/Region']).sum()\n",
        "sum_region=sum_region.sort_values(sum_region.columns[-1],ascending=False)\n",
        "sum_region.head(10)"
      ],
      "execution_count": null,
      "outputs": [
        {
          "output_type": "execute_result",
          "data": {
            "text/html": [
              "<div>\n",
              "<style scoped>\n",
              "    .dataframe tbody tr th:only-of-type {\n",
              "        vertical-align: middle;\n",
              "    }\n",
              "\n",
              "    .dataframe tbody tr th {\n",
              "        vertical-align: top;\n",
              "    }\n",
              "\n",
              "    .dataframe thead th {\n",
              "        text-align: right;\n",
              "    }\n",
              "</style>\n",
              "<table border=\"1\" class=\"dataframe\">\n",
              "  <thead>\n",
              "    <tr style=\"text-align: right;\">\n",
              "      <th></th>\n",
              "      <th>Lat</th>\n",
              "      <th>Long</th>\n",
              "      <th>2020-01-22 00:00:00</th>\n",
              "      <th>2020-01-23 00:00:00</th>\n",
              "      <th>2020-01-24 00:00:00</th>\n",
              "      <th>2020-01-25 00:00:00</th>\n",
              "      <th>2020-01-26 00:00:00</th>\n",
              "      <th>2020-01-27 00:00:00</th>\n",
              "      <th>2020-01-28 00:00:00</th>\n",
              "      <th>2020-01-29 00:00:00</th>\n",
              "      <th>...</th>\n",
              "      <th>2020-06-19 00:00:00</th>\n",
              "      <th>2020-06-20 00:00:00</th>\n",
              "      <th>2020-06-21 00:00:00</th>\n",
              "      <th>6/22/20</th>\n",
              "      <th>6/23/20</th>\n",
              "      <th>6/24/20</th>\n",
              "      <th>6/25/20</th>\n",
              "      <th>6/26/20</th>\n",
              "      <th>6/27/20</th>\n",
              "      <th>6/28/20</th>\n",
              "    </tr>\n",
              "    <tr>\n",
              "      <th>Country/Region</th>\n",
              "      <th></th>\n",
              "      <th></th>\n",
              "      <th></th>\n",
              "      <th></th>\n",
              "      <th></th>\n",
              "      <th></th>\n",
              "      <th></th>\n",
              "      <th></th>\n",
              "      <th></th>\n",
              "      <th></th>\n",
              "      <th></th>\n",
              "      <th></th>\n",
              "      <th></th>\n",
              "      <th></th>\n",
              "      <th></th>\n",
              "      <th></th>\n",
              "      <th></th>\n",
              "      <th></th>\n",
              "      <th></th>\n",
              "      <th></th>\n",
              "      <th></th>\n",
              "    </tr>\n",
              "  </thead>\n",
              "  <tbody>\n",
              "    <tr>\n",
              "      <th>US</th>\n",
              "      <td>37.0902</td>\n",
              "      <td>-95.7129</td>\n",
              "      <td>1</td>\n",
              "      <td>1</td>\n",
              "      <td>2</td>\n",
              "      <td>2</td>\n",
              "      <td>5</td>\n",
              "      <td>5</td>\n",
              "      <td>5</td>\n",
              "      <td>5</td>\n",
              "      <td>...</td>\n",
              "      <td>2222579</td>\n",
              "      <td>2255297</td>\n",
              "      <td>2281655</td>\n",
              "      <td>2312302</td>\n",
              "      <td>2347491</td>\n",
              "      <td>2382327</td>\n",
              "      <td>2422299</td>\n",
              "      <td>2467554</td>\n",
              "      <td>2510151</td>\n",
              "      <td>2548996</td>\n",
              "    </tr>\n",
              "    <tr>\n",
              "      <th>Brazil</th>\n",
              "      <td>-14.2350</td>\n",
              "      <td>-51.9253</td>\n",
              "      <td>0</td>\n",
              "      <td>0</td>\n",
              "      <td>0</td>\n",
              "      <td>0</td>\n",
              "      <td>0</td>\n",
              "      <td>0</td>\n",
              "      <td>0</td>\n",
              "      <td>0</td>\n",
              "      <td>...</td>\n",
              "      <td>1032913</td>\n",
              "      <td>1067579</td>\n",
              "      <td>1083341</td>\n",
              "      <td>1106470</td>\n",
              "      <td>1145906</td>\n",
              "      <td>1188631</td>\n",
              "      <td>1228114</td>\n",
              "      <td>1274974</td>\n",
              "      <td>1313667</td>\n",
              "      <td>1344143</td>\n",
              "    </tr>\n",
              "    <tr>\n",
              "      <th>Russia</th>\n",
              "      <td>60.0000</td>\n",
              "      <td>90.0000</td>\n",
              "      <td>0</td>\n",
              "      <td>0</td>\n",
              "      <td>0</td>\n",
              "      <td>0</td>\n",
              "      <td>0</td>\n",
              "      <td>0</td>\n",
              "      <td>0</td>\n",
              "      <td>0</td>\n",
              "      <td>...</td>\n",
              "      <td>568292</td>\n",
              "      <td>576162</td>\n",
              "      <td>583879</td>\n",
              "      <td>591465</td>\n",
              "      <td>598878</td>\n",
              "      <td>606043</td>\n",
              "      <td>613148</td>\n",
              "      <td>619936</td>\n",
              "      <td>626779</td>\n",
              "      <td>633563</td>\n",
              "    </tr>\n",
              "    <tr>\n",
              "      <th>India</th>\n",
              "      <td>21.0000</td>\n",
              "      <td>78.0000</td>\n",
              "      <td>0</td>\n",
              "      <td>0</td>\n",
              "      <td>0</td>\n",
              "      <td>0</td>\n",
              "      <td>0</td>\n",
              "      <td>0</td>\n",
              "      <td>0</td>\n",
              "      <td>0</td>\n",
              "      <td>...</td>\n",
              "      <td>395048</td>\n",
              "      <td>410451</td>\n",
              "      <td>425282</td>\n",
              "      <td>440215</td>\n",
              "      <td>456183</td>\n",
              "      <td>473105</td>\n",
              "      <td>490401</td>\n",
              "      <td>508953</td>\n",
              "      <td>528859</td>\n",
              "      <td>548318</td>\n",
              "    </tr>\n",
              "    <tr>\n",
              "      <th>United Kingdom</th>\n",
              "      <td>270.0299</td>\n",
              "      <td>-482.9247</td>\n",
              "      <td>0</td>\n",
              "      <td>0</td>\n",
              "      <td>0</td>\n",
              "      <td>0</td>\n",
              "      <td>0</td>\n",
              "      <td>0</td>\n",
              "      <td>0</td>\n",
              "      <td>0</td>\n",
              "      <td>...</td>\n",
              "      <td>303285</td>\n",
              "      <td>304580</td>\n",
              "      <td>305803</td>\n",
              "      <td>306761</td>\n",
              "      <td>307682</td>\n",
              "      <td>308337</td>\n",
              "      <td>309455</td>\n",
              "      <td>310836</td>\n",
              "      <td>311727</td>\n",
              "      <td>312640</td>\n",
              "    </tr>\n",
              "    <tr>\n",
              "      <th>Peru</th>\n",
              "      <td>-9.1900</td>\n",
              "      <td>-75.0152</td>\n",
              "      <td>0</td>\n",
              "      <td>0</td>\n",
              "      <td>0</td>\n",
              "      <td>0</td>\n",
              "      <td>0</td>\n",
              "      <td>0</td>\n",
              "      <td>0</td>\n",
              "      <td>0</td>\n",
              "      <td>...</td>\n",
              "      <td>247925</td>\n",
              "      <td>251338</td>\n",
              "      <td>254936</td>\n",
              "      <td>257447</td>\n",
              "      <td>260810</td>\n",
              "      <td>264689</td>\n",
              "      <td>268602</td>\n",
              "      <td>272364</td>\n",
              "      <td>275989</td>\n",
              "      <td>279419</td>\n",
              "    </tr>\n",
              "    <tr>\n",
              "      <th>Chile</th>\n",
              "      <td>-35.6751</td>\n",
              "      <td>-71.5430</td>\n",
              "      <td>0</td>\n",
              "      <td>0</td>\n",
              "      <td>0</td>\n",
              "      <td>0</td>\n",
              "      <td>0</td>\n",
              "      <td>0</td>\n",
              "      <td>0</td>\n",
              "      <td>0</td>\n",
              "      <td>...</td>\n",
              "      <td>231393</td>\n",
              "      <td>236748</td>\n",
              "      <td>242355</td>\n",
              "      <td>246963</td>\n",
              "      <td>250767</td>\n",
              "      <td>254416</td>\n",
              "      <td>259064</td>\n",
              "      <td>263360</td>\n",
              "      <td>267766</td>\n",
              "      <td>271982</td>\n",
              "    </tr>\n",
              "    <tr>\n",
              "      <th>Spain</th>\n",
              "      <td>40.0000</td>\n",
              "      <td>-4.0000</td>\n",
              "      <td>0</td>\n",
              "      <td>0</td>\n",
              "      <td>0</td>\n",
              "      <td>0</td>\n",
              "      <td>0</td>\n",
              "      <td>0</td>\n",
              "      <td>0</td>\n",
              "      <td>0</td>\n",
              "      <td>...</td>\n",
              "      <td>245575</td>\n",
              "      <td>245938</td>\n",
              "      <td>246272</td>\n",
              "      <td>246504</td>\n",
              "      <td>246752</td>\n",
              "      <td>247086</td>\n",
              "      <td>247486</td>\n",
              "      <td>247905</td>\n",
              "      <td>248469</td>\n",
              "      <td>248770</td>\n",
              "    </tr>\n",
              "    <tr>\n",
              "      <th>Italy</th>\n",
              "      <td>43.0000</td>\n",
              "      <td>12.0000</td>\n",
              "      <td>0</td>\n",
              "      <td>0</td>\n",
              "      <td>0</td>\n",
              "      <td>0</td>\n",
              "      <td>0</td>\n",
              "      <td>0</td>\n",
              "      <td>0</td>\n",
              "      <td>0</td>\n",
              "      <td>...</td>\n",
              "      <td>238011</td>\n",
              "      <td>238275</td>\n",
              "      <td>238499</td>\n",
              "      <td>238720</td>\n",
              "      <td>238833</td>\n",
              "      <td>239410</td>\n",
              "      <td>239706</td>\n",
              "      <td>239961</td>\n",
              "      <td>240136</td>\n",
              "      <td>240310</td>\n",
              "    </tr>\n",
              "    <tr>\n",
              "      <th>Iran</th>\n",
              "      <td>32.0000</td>\n",
              "      <td>53.0000</td>\n",
              "      <td>0</td>\n",
              "      <td>0</td>\n",
              "      <td>0</td>\n",
              "      <td>0</td>\n",
              "      <td>0</td>\n",
              "      <td>0</td>\n",
              "      <td>0</td>\n",
              "      <td>0</td>\n",
              "      <td>...</td>\n",
              "      <td>200262</td>\n",
              "      <td>202584</td>\n",
              "      <td>204952</td>\n",
              "      <td>207525</td>\n",
              "      <td>209970</td>\n",
              "      <td>212501</td>\n",
              "      <td>215096</td>\n",
              "      <td>217724</td>\n",
              "      <td>220180</td>\n",
              "      <td>222669</td>\n",
              "    </tr>\n",
              "  </tbody>\n",
              "</table>\n",
              "<p>10 rows × 161 columns</p>\n",
              "</div>"
            ],
            "text/plain": [
              "                     Lat      Long  2020-01-22 00:00:00  2020-01-23 00:00:00  \\\n",
              "Country/Region                                                                 \n",
              "US               37.0902  -95.7129                    1                    1   \n",
              "Brazil          -14.2350  -51.9253                    0                    0   \n",
              "Russia           60.0000   90.0000                    0                    0   \n",
              "India            21.0000   78.0000                    0                    0   \n",
              "United Kingdom  270.0299 -482.9247                    0                    0   \n",
              "Peru             -9.1900  -75.0152                    0                    0   \n",
              "Chile           -35.6751  -71.5430                    0                    0   \n",
              "Spain            40.0000   -4.0000                    0                    0   \n",
              "Italy            43.0000   12.0000                    0                    0   \n",
              "Iran             32.0000   53.0000                    0                    0   \n",
              "\n",
              "                2020-01-24 00:00:00  2020-01-25 00:00:00  2020-01-26 00:00:00  \\\n",
              "Country/Region                                                                  \n",
              "US                                2                    2                    5   \n",
              "Brazil                            0                    0                    0   \n",
              "Russia                            0                    0                    0   \n",
              "India                             0                    0                    0   \n",
              "United Kingdom                    0                    0                    0   \n",
              "Peru                              0                    0                    0   \n",
              "Chile                             0                    0                    0   \n",
              "Spain                             0                    0                    0   \n",
              "Italy                             0                    0                    0   \n",
              "Iran                              0                    0                    0   \n",
              "\n",
              "                2020-01-27 00:00:00  2020-01-28 00:00:00  2020-01-29 00:00:00  \\\n",
              "Country/Region                                                                  \n",
              "US                                5                    5                    5   \n",
              "Brazil                            0                    0                    0   \n",
              "Russia                            0                    0                    0   \n",
              "India                             0                    0                    0   \n",
              "United Kingdom                    0                    0                    0   \n",
              "Peru                              0                    0                    0   \n",
              "Chile                             0                    0                    0   \n",
              "Spain                             0                    0                    0   \n",
              "Italy                             0                    0                    0   \n",
              "Iran                              0                    0                    0   \n",
              "\n",
              "                 ...     2020-06-19 00:00:00  2020-06-20 00:00:00  \\\n",
              "Country/Region   ...                                                \n",
              "US               ...                 2222579              2255297   \n",
              "Brazil           ...                 1032913              1067579   \n",
              "Russia           ...                  568292               576162   \n",
              "India            ...                  395048               410451   \n",
              "United Kingdom   ...                  303285               304580   \n",
              "Peru             ...                  247925               251338   \n",
              "Chile            ...                  231393               236748   \n",
              "Spain            ...                  245575               245938   \n",
              "Italy            ...                  238011               238275   \n",
              "Iran             ...                  200262               202584   \n",
              "\n",
              "                2020-06-21 00:00:00  6/22/20  6/23/20  6/24/20  6/25/20  \\\n",
              "Country/Region                                                            \n",
              "US                          2281655  2312302  2347491  2382327  2422299   \n",
              "Brazil                      1083341  1106470  1145906  1188631  1228114   \n",
              "Russia                       583879   591465   598878   606043   613148   \n",
              "India                        425282   440215   456183   473105   490401   \n",
              "United Kingdom               305803   306761   307682   308337   309455   \n",
              "Peru                         254936   257447   260810   264689   268602   \n",
              "Chile                        242355   246963   250767   254416   259064   \n",
              "Spain                        246272   246504   246752   247086   247486   \n",
              "Italy                        238499   238720   238833   239410   239706   \n",
              "Iran                         204952   207525   209970   212501   215096   \n",
              "\n",
              "                6/26/20  6/27/20  6/28/20  \n",
              "Country/Region                             \n",
              "US              2467554  2510151  2548996  \n",
              "Brazil          1274974  1313667  1344143  \n",
              "Russia           619936   626779   633563  \n",
              "India            508953   528859   548318  \n",
              "United Kingdom   310836   311727   312640  \n",
              "Peru             272364   275989   279419  \n",
              "Chile            263360   267766   271982  \n",
              "Spain            247905   248469   248770  \n",
              "Italy            239961   240136   240310  \n",
              "Iran             217724   220180   222669  \n",
              "\n",
              "[10 rows x 161 columns]"
            ]
          },
          "metadata": {
            "tags": []
          },
          "execution_count": 228
        }
      ]
    },
    {
      "cell_type": "code",
      "metadata": {
        "id": "Ik80zUndTHIi",
        "colab_type": "code",
        "colab": {},
        "outputId": "5fa3dd3b-0729-4663-ee80-2b09fb269e0c"
      },
      "source": [
        "top10_country=sum_region.head(10).index\n",
        "top10_country"
      ],
      "execution_count": null,
      "outputs": [
        {
          "output_type": "execute_result",
          "data": {
            "text/plain": [
              "Index(['US', 'Brazil', 'Russia', 'India', 'United Kingdom', 'Peru', 'Chile',\n",
              "       'Spain', 'Italy', 'Iran'],\n",
              "      dtype='object', name='Country/Region')"
            ]
          },
          "metadata": {
            "tags": []
          },
          "execution_count": 229
        }
      ]
    },
    {
      "cell_type": "code",
      "metadata": {
        "id": "__Nke4gNTHIk",
        "colab_type": "code",
        "colab": {},
        "outputId": "e8e0b834-80b6-476f-edb2-1514479226a9"
      },
      "source": [
        "lockdown_date=1\n",
        "df = sum_region.copy()\n",
        "df_china = df[df.index==\"China\"]\n",
        "df_china = df_china.iloc[:,2+lockdown_date:]\n",
        "df_china"
      ],
      "execution_count": null,
      "outputs": [
        {
          "output_type": "execute_result",
          "data": {
            "text/html": [
              "<div>\n",
              "<style scoped>\n",
              "    .dataframe tbody tr th:only-of-type {\n",
              "        vertical-align: middle;\n",
              "    }\n",
              "\n",
              "    .dataframe tbody tr th {\n",
              "        vertical-align: top;\n",
              "    }\n",
              "\n",
              "    .dataframe thead th {\n",
              "        text-align: right;\n",
              "    }\n",
              "</style>\n",
              "<table border=\"1\" class=\"dataframe\">\n",
              "  <thead>\n",
              "    <tr style=\"text-align: right;\">\n",
              "      <th></th>\n",
              "      <th>2020-01-23 00:00:00</th>\n",
              "      <th>2020-01-24 00:00:00</th>\n",
              "      <th>2020-01-25 00:00:00</th>\n",
              "      <th>2020-01-26 00:00:00</th>\n",
              "      <th>2020-01-27 00:00:00</th>\n",
              "      <th>2020-01-28 00:00:00</th>\n",
              "      <th>2020-01-29 00:00:00</th>\n",
              "      <th>2020-01-30 00:00:00</th>\n",
              "      <th>2020-01-31 00:00:00</th>\n",
              "      <th>2020-02-01 00:00:00</th>\n",
              "      <th>...</th>\n",
              "      <th>2020-06-19 00:00:00</th>\n",
              "      <th>2020-06-20 00:00:00</th>\n",
              "      <th>2020-06-21 00:00:00</th>\n",
              "      <th>6/22/20</th>\n",
              "      <th>6/23/20</th>\n",
              "      <th>6/24/20</th>\n",
              "      <th>6/25/20</th>\n",
              "      <th>6/26/20</th>\n",
              "      <th>6/27/20</th>\n",
              "      <th>6/28/20</th>\n",
              "    </tr>\n",
              "    <tr>\n",
              "      <th>Country/Region</th>\n",
              "      <th></th>\n",
              "      <th></th>\n",
              "      <th></th>\n",
              "      <th></th>\n",
              "      <th></th>\n",
              "      <th></th>\n",
              "      <th></th>\n",
              "      <th></th>\n",
              "      <th></th>\n",
              "      <th></th>\n",
              "      <th></th>\n",
              "      <th></th>\n",
              "      <th></th>\n",
              "      <th></th>\n",
              "      <th></th>\n",
              "      <th></th>\n",
              "      <th></th>\n",
              "      <th></th>\n",
              "      <th></th>\n",
              "      <th></th>\n",
              "      <th></th>\n",
              "    </tr>\n",
              "  </thead>\n",
              "  <tbody>\n",
              "    <tr>\n",
              "      <th>China</th>\n",
              "      <td>643</td>\n",
              "      <td>920</td>\n",
              "      <td>1406</td>\n",
              "      <td>2075</td>\n",
              "      <td>2877</td>\n",
              "      <td>5509</td>\n",
              "      <td>6087</td>\n",
              "      <td>8141</td>\n",
              "      <td>9802</td>\n",
              "      <td>11891</td>\n",
              "      <td>...</td>\n",
              "      <td>84494</td>\n",
              "      <td>84553</td>\n",
              "      <td>84572</td>\n",
              "      <td>84624</td>\n",
              "      <td>84653</td>\n",
              "      <td>84673</td>\n",
              "      <td>84701</td>\n",
              "      <td>84725</td>\n",
              "      <td>84743</td>\n",
              "      <td>84757</td>\n",
              "    </tr>\n",
              "  </tbody>\n",
              "</table>\n",
              "<p>1 rows × 158 columns</p>\n",
              "</div>"
            ],
            "text/plain": [
              "                2020-01-23 00:00:00  2020-01-24 00:00:00  2020-01-25 00:00:00  \\\n",
              "Country/Region                                                                  \n",
              "China                           643                  920                 1406   \n",
              "\n",
              "                2020-01-26 00:00:00  2020-01-27 00:00:00  2020-01-28 00:00:00  \\\n",
              "Country/Region                                                                  \n",
              "China                          2075                 2877                 5509   \n",
              "\n",
              "                2020-01-29 00:00:00  2020-01-30 00:00:00  2020-01-31 00:00:00  \\\n",
              "Country/Region                                                                  \n",
              "China                          6087                 8141                 9802   \n",
              "\n",
              "                2020-02-01 00:00:00   ...     2020-06-19 00:00:00  \\\n",
              "Country/Region                        ...                           \n",
              "China                         11891   ...                   84494   \n",
              "\n",
              "                2020-06-20 00:00:00  2020-06-21 00:00:00  6/22/20  6/23/20  \\\n",
              "Country/Region                                                               \n",
              "China                         84553                84572    84624    84653   \n",
              "\n",
              "                6/24/20  6/25/20  6/26/20  6/27/20  6/28/20  \n",
              "Country/Region                                               \n",
              "China             84673    84701    84725    84743    84757  \n",
              "\n",
              "[1 rows x 158 columns]"
            ]
          },
          "metadata": {
            "tags": []
          },
          "execution_count": 230
        }
      ]
    },
    {
      "cell_type": "code",
      "metadata": {
        "id": "1xZdqinjTHIm",
        "colab_type": "code",
        "colab": {}
      },
      "source": [
        "def values_since_lockdown(dataframe, country, lockdown_date=0):\n",
        "    df = dataframe.copy()\n",
        "    new_df = df[df.index==country]\n",
        "    new_df = new_df.iloc[:,2+lockdown_date:]\n",
        "    return new_df"
      ],
      "execution_count": null,
      "outputs": []
    },
    {
      "cell_type": "code",
      "metadata": {
        "id": "jdLvlNIjTHIo",
        "colab_type": "code",
        "colab": {}
      },
      "source": [
        "def dtw(country1, country2):\n",
        "    x=country1.iloc[0]\n",
        "    x=np.array(x)\n",
        "    y=country2.iloc[0]\n",
        "    y=np.array(y)\n",
        "    x_scale=(x-np.amin(x))/(np.amax(x)-np.amin(x))\n",
        "    y_scale=(y-np.amin(y))/(np.amax(y)-np.amin(y))\n",
        "    distance, path = fastdtw(x_scale, y_scale, dist=euclidean)\n",
        "    return distance, path"
      ],
      "execution_count": null,
      "outputs": []
    },
    {
      "cell_type": "code",
      "metadata": {
        "id": "5omkKGcsTHIr",
        "colab_type": "code",
        "colab": {}
      },
      "source": [
        "Distance=[]\n",
        "for country in top10_country:\n",
        "#     df_country = prefix+country\n",
        "    df_country = values_since_lockdown(sum_region, country, lockdown_date=0)\n",
        "    distance, _ = dtw(df_china, df_country)\n",
        "\n",
        "    Distance.append(distance)"
      ],
      "execution_count": null,
      "outputs": []
    },
    {
      "cell_type": "code",
      "metadata": {
        "id": "WVYRbFxwTHIs",
        "colab_type": "code",
        "colab": {},
        "outputId": "1b1defb2-d613-48e6-b3d0-707f56347553"
      },
      "source": [
        "print(\"Dynamic Time Warping distance between China and the following countries:\")\n",
        "for i in range(len(top10_country)):\n",
        "    print(\"{}: {}\".format(top10_country[i], Distance[i]))"
      ],
      "execution_count": null,
      "outputs": [
        {
          "output_type": "stream",
          "text": [
            "Dynamic Time Warping distance between China and the following countries:\n",
            "US: 2.2258626019353445\n",
            "Brazil: 2.4267951125153706\n",
            "Russia: 1.4454425221463838\n",
            "India: 2.801574124838921\n",
            "United Kingdom: 1.2119551069125865\n",
            "Peru: 1.5061884891300568\n",
            "Chile: 1.5977618470398718\n",
            "Spain: 0.9293719995976996\n",
            "Italy: 1.0307600514975106\n",
            "Iran: 1.94707393097327\n"
          ],
          "name": "stdout"
        }
      ]
    },
    {
      "cell_type": "markdown",
      "metadata": {
        "id": "tI1j1mOgTHIx",
        "colab_type": "text"
      },
      "source": [
        "Canada"
      ]
    },
    {
      "cell_type": "code",
      "metadata": {
        "id": "JB7V3sUVTHIy",
        "colab_type": "code",
        "colab": {},
        "outputId": "7159a3fd-c1c0-4cf8-f462-15690c7f23ef"
      },
      "source": [
        "lockdown_date=51\n",
        "dtw_canada = values_since_lockdown(sum_region, \"Canada\", lockdown_date=lockdown_date)\n",
        "dtw_canada"
      ],
      "execution_count": null,
      "outputs": [
        {
          "output_type": "execute_result",
          "data": {
            "text/html": [
              "<div>\n",
              "<style scoped>\n",
              "    .dataframe tbody tr th:only-of-type {\n",
              "        vertical-align: middle;\n",
              "    }\n",
              "\n",
              "    .dataframe tbody tr th {\n",
              "        vertical-align: top;\n",
              "    }\n",
              "\n",
              "    .dataframe thead th {\n",
              "        text-align: right;\n",
              "    }\n",
              "</style>\n",
              "<table border=\"1\" class=\"dataframe\">\n",
              "  <thead>\n",
              "    <tr style=\"text-align: right;\">\n",
              "      <th></th>\n",
              "      <th>2020-03-13 00:00:00</th>\n",
              "      <th>2020-03-14 00:00:00</th>\n",
              "      <th>2020-03-15 00:00:00</th>\n",
              "      <th>2020-03-16 00:00:00</th>\n",
              "      <th>2020-03-17 00:00:00</th>\n",
              "      <th>2020-03-18 00:00:00</th>\n",
              "      <th>2020-03-19 00:00:00</th>\n",
              "      <th>2020-03-20 00:00:00</th>\n",
              "      <th>2020-03-21 00:00:00</th>\n",
              "      <th>2020-03-22 00:00:00</th>\n",
              "      <th>...</th>\n",
              "      <th>2020-06-19 00:00:00</th>\n",
              "      <th>2020-06-20 00:00:00</th>\n",
              "      <th>2020-06-21 00:00:00</th>\n",
              "      <th>6/22/20</th>\n",
              "      <th>6/23/20</th>\n",
              "      <th>6/24/20</th>\n",
              "      <th>6/25/20</th>\n",
              "      <th>6/26/20</th>\n",
              "      <th>6/27/20</th>\n",
              "      <th>6/28/20</th>\n",
              "    </tr>\n",
              "    <tr>\n",
              "      <th>Country/Region</th>\n",
              "      <th></th>\n",
              "      <th></th>\n",
              "      <th></th>\n",
              "      <th></th>\n",
              "      <th></th>\n",
              "      <th></th>\n",
              "      <th></th>\n",
              "      <th></th>\n",
              "      <th></th>\n",
              "      <th></th>\n",
              "      <th></th>\n",
              "      <th></th>\n",
              "      <th></th>\n",
              "      <th></th>\n",
              "      <th></th>\n",
              "      <th></th>\n",
              "      <th></th>\n",
              "      <th></th>\n",
              "      <th></th>\n",
              "      <th></th>\n",
              "      <th></th>\n",
              "    </tr>\n",
              "  </thead>\n",
              "  <tbody>\n",
              "    <tr>\n",
              "      <th>Canada</th>\n",
              "      <td>193</td>\n",
              "      <td>198</td>\n",
              "      <td>252</td>\n",
              "      <td>415</td>\n",
              "      <td>478</td>\n",
              "      <td>657</td>\n",
              "      <td>800</td>\n",
              "      <td>943</td>\n",
              "      <td>1277</td>\n",
              "      <td>1469</td>\n",
              "      <td>...</td>\n",
              "      <td>102314</td>\n",
              "      <td>102762</td>\n",
              "      <td>103078</td>\n",
              "      <td>103418</td>\n",
              "      <td>103767</td>\n",
              "      <td>104087</td>\n",
              "      <td>104463</td>\n",
              "      <td>104629</td>\n",
              "      <td>104878</td>\n",
              "      <td>105193</td>\n",
              "    </tr>\n",
              "  </tbody>\n",
              "</table>\n",
              "<p>1 rows × 108 columns</p>\n",
              "</div>"
            ],
            "text/plain": [
              "                2020-03-13 00:00:00  2020-03-14 00:00:00  2020-03-15 00:00:00  \\\n",
              "Country/Region                                                                  \n",
              "Canada                          193                  198                  252   \n",
              "\n",
              "                2020-03-16 00:00:00  2020-03-17 00:00:00  2020-03-18 00:00:00  \\\n",
              "Country/Region                                                                  \n",
              "Canada                          415                  478                  657   \n",
              "\n",
              "                2020-03-19 00:00:00  2020-03-20 00:00:00  2020-03-21 00:00:00  \\\n",
              "Country/Region                                                                  \n",
              "Canada                          800                  943                 1277   \n",
              "\n",
              "                2020-03-22 00:00:00   ...     2020-06-19 00:00:00  \\\n",
              "Country/Region                        ...                           \n",
              "Canada                         1469   ...                  102314   \n",
              "\n",
              "                2020-06-20 00:00:00  2020-06-21 00:00:00  6/22/20  6/23/20  \\\n",
              "Country/Region                                                               \n",
              "Canada                       102762               103078   103418   103767   \n",
              "\n",
              "                6/24/20  6/25/20  6/26/20  6/27/20  6/28/20  \n",
              "Country/Region                                               \n",
              "Canada           104087   104463   104629   104878   105193  \n",
              "\n",
              "[1 rows x 108 columns]"
            ]
          },
          "metadata": {
            "tags": []
          },
          "execution_count": 235
        }
      ]
    },
    {
      "cell_type": "code",
      "metadata": {
        "id": "vLJOLfEHTHIz",
        "colab_type": "code",
        "colab": {},
        "outputId": "26a8b9dd-0f76-40b3-f620-533e6975ed74"
      },
      "source": [
        "dist,_ = dtw(df_china, dtw_canada)\n",
        "print(\"Dynamic Time Warping distance between China and Canada is:{}\".format(dist))"
      ],
      "execution_count": null,
      "outputs": [
        {
          "output_type": "stream",
          "text": [
            "Dynamic Time Warping distance between China and Canada is:1.2792666089219051\n"
          ],
          "name": "stdout"
        }
      ]
    },
    {
      "cell_type": "code",
      "metadata": {
        "id": "cJu_mU0zTHI1",
        "colab_type": "code",
        "colab": {
          "base_uri": "https://localhost:8080/",
          "height": 142
        },
        "outputId": "f741e96e-4a3d-4b12-a00d-ba8028218952"
      },
      "source": [
        "df_hubei_aveR0"
      ],
      "execution_count": null,
      "outputs": [
        {
          "output_type": "execute_result",
          "data": {
            "text/html": [
              "<div>\n",
              "<style scoped>\n",
              "    .dataframe tbody tr th:only-of-type {\n",
              "        vertical-align: middle;\n",
              "    }\n",
              "\n",
              "    .dataframe tbody tr th {\n",
              "        vertical-align: top;\n",
              "    }\n",
              "\n",
              "    .dataframe thead th {\n",
              "        text-align: right;\n",
              "    }\n",
              "</style>\n",
              "<table border=\"1\" class=\"dataframe\">\n",
              "  <thead>\n",
              "    <tr style=\"text-align: right;\">\n",
              "      <th></th>\n",
              "      <th>2020-01-22</th>\n",
              "      <th>2020-01-23</th>\n",
              "      <th>2020-01-24</th>\n",
              "      <th>2020-01-25</th>\n",
              "      <th>2020-01-26</th>\n",
              "      <th>2020-01-27</th>\n",
              "      <th>2020-01-28</th>\n",
              "      <th>2020-01-29</th>\n",
              "      <th>2020-01-30</th>\n",
              "      <th>2020-01-31</th>\n",
              "      <th>2020-02-01</th>\n",
              "      <th>2020-02-02</th>\n",
              "      <th>2020-02-03</th>\n",
              "      <th>2020-02-04</th>\n",
              "      <th>2020-02-05</th>\n",
              "      <th>2020-02-06</th>\n",
              "      <th>2020-02-07</th>\n",
              "      <th>2020-02-08</th>\n",
              "      <th>2020-02-09</th>\n",
              "      <th>2020-02-10</th>\n",
              "      <th>2020-02-11</th>\n",
              "      <th>2020-02-12</th>\n",
              "      <th>2020-02-13</th>\n",
              "      <th>2020-02-14</th>\n",
              "      <th>2020-02-15</th>\n",
              "      <th>2020-02-16</th>\n",
              "      <th>2020-02-17</th>\n",
              "      <th>2020-02-18</th>\n",
              "      <th>2020-02-19</th>\n",
              "      <th>2020-02-20</th>\n",
              "      <th>2020-02-21</th>\n",
              "      <th>2020-02-22</th>\n",
              "      <th>2020-02-23</th>\n",
              "      <th>2020-02-24</th>\n",
              "      <th>2020-02-25</th>\n",
              "      <th>2020-02-26</th>\n",
              "      <th>2020-02-27</th>\n",
              "      <th>2020-02-28</th>\n",
              "      <th>2020-02-29</th>\n",
              "      <th>2020-03-01</th>\n",
              "      <th>...</th>\n",
              "      <th>2020-05-23</th>\n",
              "      <th>2020-05-24</th>\n",
              "      <th>2020-05-25</th>\n",
              "      <th>2020-05-26</th>\n",
              "      <th>2020-05-27</th>\n",
              "      <th>2020-05-28</th>\n",
              "      <th>2020-05-29</th>\n",
              "      <th>2020-05-30</th>\n",
              "      <th>2020-05-31</th>\n",
              "      <th>2020-06-01</th>\n",
              "      <th>2020-06-02</th>\n",
              "      <th>2020-06-03</th>\n",
              "      <th>2020-06-04</th>\n",
              "      <th>2020-06-05</th>\n",
              "      <th>2020-06-06</th>\n",
              "      <th>2020-06-07</th>\n",
              "      <th>2020-06-08</th>\n",
              "      <th>2020-06-09</th>\n",
              "      <th>2020-06-10</th>\n",
              "      <th>2020-06-11</th>\n",
              "      <th>2020-06-12</th>\n",
              "      <th>2020-06-13</th>\n",
              "      <th>2020-06-14</th>\n",
              "      <th>2020-06-15</th>\n",
              "      <th>2020-06-16</th>\n",
              "      <th>2020-06-17</th>\n",
              "      <th>2020-06-18</th>\n",
              "      <th>2020-06-19</th>\n",
              "      <th>2020-06-20</th>\n",
              "      <th>2020-06-21</th>\n",
              "      <th>2020-06-22</th>\n",
              "      <th>2020-06-23</th>\n",
              "      <th>2020-06-24</th>\n",
              "      <th>2020-06-25</th>\n",
              "      <th>2020-06-26</th>\n",
              "      <th>2020-06-27</th>\n",
              "      <th>2020-06-28</th>\n",
              "      <th>2020-06-29</th>\n",
              "      <th>2020-06-30</th>\n",
              "      <th>2020-07-01</th>\n",
              "    </tr>\n",
              "  </thead>\n",
              "  <tbody>\n",
              "    <tr>\n",
              "      <th>0</th>\n",
              "      <td>9.212515</td>\n",
              "      <td>13.544321</td>\n",
              "      <td>13.471056</td>\n",
              "      <td>14.368105</td>\n",
              "      <td>14.740208</td>\n",
              "      <td>15.043069</td>\n",
              "      <td>14.843987</td>\n",
              "      <td>17.012653</td>\n",
              "      <td>14.125969</td>\n",
              "      <td>13.860258</td>\n",
              "      <td>12.183254</td>\n",
              "      <td>10.956206</td>\n",
              "      <td>9.54033</td>\n",
              "      <td>7.970804</td>\n",
              "      <td>5.802139</td>\n",
              "      <td>6.227796</td>\n",
              "      <td>5.790262</td>\n",
              "      <td>5.325837</td>\n",
              "      <td>4.795809</td>\n",
              "      <td>4.442858</td>\n",
              "      <td>4.166967</td>\n",
              "      <td>4.204717</td>\n",
              "      <td>2.514164</td>\n",
              "      <td>2.281598</td>\n",
              "      <td>2.075019</td>\n",
              "      <td>1.831735</td>\n",
              "      <td>1.657195</td>\n",
              "      <td>1.517584</td>\n",
              "      <td>1.507692</td>\n",
              "      <td>1.494194</td>\n",
              "      <td>1.171652</td>\n",
              "      <td>1.139022</td>\n",
              "      <td>1.170485</td>\n",
              "      <td>1.163312</td>\n",
              "      <td>1.139373</td>\n",
              "      <td>1.118397</td>\n",
              "      <td>1.103782</td>\n",
              "      <td>1.10121</td>\n",
              "      <td>1.085418</td>\n",
              "      <td>1.057278</td>\n",
              "      <td>...</td>\n",
              "      <td>0.428571</td>\n",
              "      <td>0.428571</td>\n",
              "      <td>0.428571</td>\n",
              "      <td>0.285714</td>\n",
              "      <td>0.285714</td>\n",
              "      <td>0.428571</td>\n",
              "      <td>0.285714</td>\n",
              "      <td>0.285714</td>\n",
              "      <td>0.142857</td>\n",
              "      <td>0.142857</td>\n",
              "      <td>0.142857</td>\n",
              "      <td>0.142857</td>\n",
              "      <td>0.0</td>\n",
              "      <td>0.0</td>\n",
              "      <td>0.0</td>\n",
              "      <td>0.0</td>\n",
              "      <td>0.0</td>\n",
              "      <td>0.0</td>\n",
              "      <td>0.0</td>\n",
              "      <td>0.0</td>\n",
              "      <td>0.0</td>\n",
              "      <td>0.0</td>\n",
              "      <td>0.0</td>\n",
              "      <td>0.0</td>\n",
              "      <td>0.0</td>\n",
              "      <td>0.0</td>\n",
              "      <td>0.0</td>\n",
              "      <td>0.0</td>\n",
              "      <td>0.0</td>\n",
              "      <td>0.0</td>\n",
              "      <td>0.0</td>\n",
              "      <td>0.0</td>\n",
              "      <td>0.0</td>\n",
              "      <td>0.0</td>\n",
              "      <td>0.0</td>\n",
              "      <td>0.0</td>\n",
              "      <td>0.0</td>\n",
              "      <td>0.0</td>\n",
              "      <td>0.0</td>\n",
              "      <td>0.0</td>\n",
              "    </tr>\n",
              "  </tbody>\n",
              "</table>\n",
              "<p>1 rows × 162 columns</p>\n",
              "</div>"
            ],
            "text/plain": [
              "   2020-01-22  2020-01-23  2020-01-24  ...  2020-06-29  2020-06-30  2020-07-01\n",
              "0    9.212515   13.544321   13.471056  ...         0.0         0.0         0.0\n",
              "\n",
              "[1 rows x 162 columns]"
            ]
          },
          "metadata": {
            "tags": []
          },
          "execution_count": 100
        }
      ]
    },
    {
      "cell_type": "code",
      "metadata": {
        "id": "j4Yob84lVQCV",
        "colab_type": "code",
        "colab": {}
      },
      "source": [
        "italy = df_italy_aveR0.fillna(0).iloc[:, 47:]"
      ],
      "execution_count": null,
      "outputs": []
    },
    {
      "cell_type": "code",
      "metadata": {
        "id": "00hPgwKjVRsT",
        "colab_type": "code",
        "colab": {}
      },
      "source": [
        "canada = df_canada_aveR0.fillna(0).iloc[:, 51:]"
      ],
      "execution_count": null,
      "outputs": []
    },
    {
      "cell_type": "code",
      "metadata": {
        "id": "e96fqoqMVdv8",
        "colab_type": "code",
        "colab": {
          "base_uri": "https://localhost:8080/",
          "height": 34
        },
        "outputId": "701ab542-52dd-42da-bf24-024ef6eca4bf"
      },
      "source": [
        "dist,_ = dtw(df_hubei_aveR0, canada)\n",
        "print(\"Dynamic Time Warping distance between China and Canada is:{}\".format(dist))"
      ],
      "execution_count": null,
      "outputs": [
        {
          "output_type": "stream",
          "text": [
            "Dynamic Time Warping distance between China and Canada is:7.523579323202372\n"
          ],
          "name": "stdout"
        }
      ]
    },
    {
      "cell_type": "code",
      "metadata": {
        "id": "xEGdtPv7Vmo9",
        "colab_type": "code",
        "colab": {
          "base_uri": "https://localhost:8080/",
          "height": 34
        },
        "outputId": "4f0f38c4-2c12-495b-af90-56d1af522aea"
      },
      "source": [
        "dist,_ = dtw(df_hubei_aveR0, italy)\n",
        "print(\"Dynamic Time Warping distance between China and Italy is:{}\".format(dist))"
      ],
      "execution_count": null,
      "outputs": [
        {
          "output_type": "stream",
          "text": [
            "Dynamic Time Warping distance between China and Italy is:2.9749685201024265\n"
          ],
          "name": "stdout"
        }
      ]
    },
    {
      "cell_type": "code",
      "metadata": {
        "id": "__6dhODVVq0j",
        "colab_type": "code",
        "colab": {}
      },
      "source": [
        ""
      ],
      "execution_count": null,
      "outputs": []
    }
  ]
}