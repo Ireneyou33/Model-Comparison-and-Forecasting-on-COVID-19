{
  "nbformat": 4,
  "nbformat_minor": 0,
  "metadata": {
    "kernelspec": {
      "display_name": "Python 3",
      "language": "python",
      "name": "python3"
    },
    "language_info": {
      "codemirror_mode": {
        "name": "ipython",
        "version": 3
      },
      "file_extension": ".py",
      "mimetype": "text/x-python",
      "name": "python",
      "nbconvert_exporter": "python",
      "pygments_lexer": "ipython3",
      "version": "3.7.1"
    },
    "colab": {
      "name": "NN_functions.ipynb",
      "provenance": [],
      "include_colab_link": true
    }
  },
  "cells": [
    {
      "cell_type": "markdown",
      "metadata": {
        "id": "view-in-github",
        "colab_type": "text"
      },
      "source": [
        "<a href=\"https://colab.research.google.com/github/Ireneyou33/Model-Comparison-and-Forecasting-on-COVID-19/blob/master/NN_functions.ipynb\" target=\"_parent\"><img src=\"https://colab.research.google.com/assets/colab-badge.svg\" alt=\"Open In Colab\"/></a>"
      ]
    },
    {
      "cell_type": "code",
      "metadata": {
        "id": "L58mHkXYsIRJ",
        "colab_type": "code",
        "colab": {}
      },
      "source": [
        "import numpy as np\n",
        "import pandas as pd\n",
        "import tensorflow as tf\n",
        "from tensorflow import keras\n",
        "from scipy.integrate import odeint\n",
        "import matplotlib.pyplot as plt\n",
        "from ipywidgets.widgets import interact, IntSlider, FloatSlider, Layout\n",
        "import datetime as dt\n",
        "from tensorflow.python.keras.layers import Dense, LSTM\n",
        "from tensorflow.python.keras import Sequential\n",
        "from keras.models import load_model\n",
        "from keras.models import model_from_json\n",
        "from datetime import datetime, timedelta\n",
        "import json\n",
        "import math"
      ],
      "execution_count": null,
      "outputs": []
    },
    {
      "cell_type": "code",
      "metadata": {
        "id": "c9x3Rq7LsIRN",
        "colab_type": "code",
        "colab": {}
      },
      "source": [
        "%run functions.ipynb"
      ],
      "execution_count": null,
      "outputs": []
    },
    {
      "cell_type": "code",
      "metadata": {
        "id": "hqc3AR8CsIRQ",
        "colab_type": "code",
        "colab": {}
      },
      "source": [
        ""
      ],
      "execution_count": null,
      "outputs": []
    },
    {
      "cell_type": "code",
      "metadata": {
        "id": "d6Ue8tAKsIRU",
        "colab_type": "code",
        "colab": {}
      },
      "source": [
        "def NeuralNets(train=True, world=True, country=None, w=1):\n",
        "    if world:\n",
        "        dataframe = worldclass_dataframe(df_conf)\n",
        "    else:\n",
        "        dataframe, _, _ = sum_regioncase(df_conf, country, region_level=\"county\")\n",
        "    X_train, Y_train, X_test, Y_test = get_traintest(dataframe, idx, w=w, r=1)\n",
        "        \n",
        "    if train:\n",
        "        model = Sequential()\n",
        "        model.add(Dense(8, input_dim=w, activation='relu'))\n",
        "        model.add(Dense(1))\n",
        "        model.compile(loss='mean_squared_error', optimizer='adam')\n",
        "        model.fit(X_train, Y_train, epochs=200, batch_size=2, verbose=0)\n",
        "        print(\"With window size {}\".format(w))\n",
        "        trainScore = model.evaluate(X_train, Y_train, verbose=0)\n",
        "        print('Train Score: %.2f MSE (%.2f RMSE)' % (trainScore, math.sqrt(trainScore)))\n",
        "        testScore = model.evaluate(X_test, Y_test, verbose=0)\n",
        "        print('Test Score: %.2f MSE (%.2f RMSE)' % (testScore, math.sqrt(testScore)))\n",
        "        model.save('worldNN_w{}.h5'.format(w))\n",
        "    else:\n",
        "        model = tf.keras.models.load_model('worldNN_w{}.h5'.format(w))\n",
        "#         model.fit(X_train, Y_train, epochs=200, batch_size=2, verbose=0)\n",
        "        print(\"Load Model\")\n",
        "        print(\"With window size {}\".format(w))\n",
        "        trainScore = model.evaluate(X_train, Y_train, verbose=0)\n",
        "        print('Train Score: %.2f MSE (%.2f RMSE)' % (trainScore, math.sqrt(trainScore)))\n",
        "        testScore = model.evaluate(X_test, Y_test, verbose=0)\n",
        "        print('Test Score: %.2f MSE (%.2f RMSE)' % (testScore, math.sqrt(testScore)))\n",
        "    return model"
      ],
      "execution_count": null,
      "outputs": []
    },
    {
      "cell_type": "code",
      "metadata": {
        "id": "qnoSWPpMsIRX",
        "colab_type": "code",
        "colab": {}
      },
      "source": [
        "def NN_pred(model, world=True, country=None, w=1):\n",
        "    if world:\n",
        "        dataframe = worldclass_dataframe(df_conf)\n",
        "    else:\n",
        "        dataframe, _, _ = sum_regioncase(df_conf, country, region_level=\"county\")\n",
        "    X_train, Y_train, X_test, Y_test = get_traintest(dataframe, idx, w=w, r=1)\n",
        "    \n",
        "    pred_train = model.predict(X_train)\n",
        "    pred_test = model.predict(X_test)\n",
        "    pred = np.concatenate((pred_train,pred_test),axis=0)\n",
        "    nan = np.array([[np.nan]])\n",
        "    a = np.concatenate((pred_train, nan))\n",
        "    for i in range(w-1):\n",
        "        a = np.concatenate((a, nan))\n",
        "    b = np.concatenate((a,pred_test))\n",
        "    c = np.concatenate((nan,b))\n",
        "    for i in range(w-1):\n",
        "        c = np.concatenate((nan,c))\n",
        "    pred = c.reshape(-1)\n",
        "    df_pred =pd.DataFrame([pred],columns=date)\n",
        "    df = pd.concat([dataframe, df_pred])\n",
        "    df.index=[\"Original Data\", \"Predicted Data\"]\n",
        "    return df"
      ],
      "execution_count": null,
      "outputs": []
    },
    {
      "cell_type": "code",
      "metadata": {
        "id": "D_22ovIvsIRa",
        "colab_type": "code",
        "colab": {}
      },
      "source": [
        "def wfv(windowsize, dataframe, region=\"world\", train=False, init_trainsize=30):\n",
        "    train_RMSE=[]\n",
        "    test_RMSE=[]\n",
        "    for w in windowsize:\n",
        "        if train:\n",
        "            print(\"training with w = {}\".format(w))\n",
        "            tr_rmse, te_rmse, train_size = walk_forward_vali(dataframe, w=w, idx=init_trainsize)\n",
        "            data=[tr_rmse, te_rmse, train_size]\n",
        "            train_RMSE.append(tr_rmse)\n",
        "            test_RMSE.append(te_rmse)\n",
        "            with open(\"{}NN_W{}_mfv.json\".format(region, w), 'w') as file:\n",
        "                json.dump(data, file, indent=2) \n",
        "        else:\n",
        "            with open(\"{}NN_W{}_mfv.json\".format(region, w), 'r') as file:\n",
        "                data = json.load(file)\n",
        "            train_RMSE.append(data[0])\n",
        "            test_RMSE.append(data[1])\n",
        "            train_size=data[2]\n",
        "    return train_RMSE, test_RMSE, train_size"
      ],
      "execution_count": null,
      "outputs": []
    },
    {
      "cell_type": "code",
      "metadata": {
        "id": "0GAH6KrbsIRe",
        "colab_type": "code",
        "colab": {}
      },
      "source": [
        ""
      ],
      "execution_count": null,
      "outputs": []
    },
    {
      "cell_type": "markdown",
      "metadata": {
        "id": "yHep9XJKsIRh",
        "colab_type": "text"
      },
      "source": [
        "LSTM"
      ]
    },
    {
      "cell_type": "code",
      "metadata": {
        "id": "3qHhC6IlsIRi",
        "colab_type": "code",
        "colab": {}
      },
      "source": [
        "def reshape_func(x, shape = 1, r=1):\n",
        "    x = np.array(x)\n",
        "    x = x.astype(int)\n",
        "    X = x.reshape((x.shape[0], shape, r))\n",
        "    return X"
      ],
      "execution_count": null,
      "outputs": []
    },
    {
      "cell_type": "code",
      "metadata": {
        "id": "DhXSNMbZsIRm",
        "colab_type": "code",
        "colab": {}
      },
      "source": [
        "def LSTM_model(train=True, world=True, country=None, w=1):\n",
        "    if world:\n",
        "        dataframe = worldclass_dataframe(df_conf)\n",
        "    else:\n",
        "        dataframe, _, _ = sum_regioncase(df_conf, country, region_level=\"county\")\n",
        "    X_train, Y_train, X_test, Y_test = get_traintest(dataframe, idx, w=w, r=1)\n",
        "    if w ==1:\n",
        "        X_train = reshape_func(X_train, r=1)\n",
        "        X_test = reshape_func(X_test, r=1)\n",
        "    else:\n",
        "        X_train = reshape_func(X_train,shape=w, r=1)\n",
        "        X_test = reshape_func(X_test, shape=w, r=1)\n",
        "        \n",
        "    if train:\n",
        "        model = Sequential()\n",
        "        model.add(LSTM(50, activation='relu', input_shape=(w, r)))\n",
        "        model.add(Dense(1))\n",
        "        model.compile(optimizer='adam', loss='mse')\n",
        "        model.fit(X_train, Y_train, epochs=200, verbose=0)\n",
        "        print(\"With window size {}\".format(w))\n",
        "        trainScore = model.evaluate(X_train, Y_train, verbose=0)\n",
        "        print('Train Score: %.2f MSE (%.2f RMSE)' % (trainScore, math.sqrt(trainScore)))\n",
        "        testScore = model.evaluate(X_test, Y_test, verbose=0)\n",
        "        print('Test Score: %.2f MSE (%.2f RMSE)' % (testScore, math.sqrt(testScore)))\n",
        "        model.save('worldLSTM_w{}.h5'.format(w))\n",
        "    else:\n",
        "        model = tf.keras.models.load_model('worldLSTM_w{}.h5'.format(w))\n",
        "        print(\"Load Model\")\n",
        "        print(\"With window size {}\".format(w))\n",
        "        trainScore = model.evaluate(X_train, Y_train, verbose=0)\n",
        "        print('Train Score: %.2f MSE (%.2f RMSE)' % (trainScore, math.sqrt(trainScore)))\n",
        "        testScore = model.evaluate(X_test, Y_test, verbose=0)\n",
        "        print('Test Score: %.2f MSE (%.2f RMSE)' % (testScore, math.sqrt(testScore)))\n",
        "    return model"
      ],
      "execution_count": null,
      "outputs": []
    },
    {
      "cell_type": "code",
      "metadata": {
        "id": "Kego56QosIRt",
        "colab_type": "code",
        "colab": {}
      },
      "source": [
        "def LSTM_pred(model, world=True, country=None, w=1):\n",
        "    if world:\n",
        "        dataframe = worldclass_dataframe(df_conf)\n",
        "    else:\n",
        "        dataframe, _, _ = sum_regioncase(df_conf, country, region_level=\"county\")\n",
        "    X_train, Y_train, X_test, Y_test = get_traintest(dataframe, idx, w=w, r=1)\n",
        "    if w ==1:\n",
        "        X_train = reshape_func(X_train, r=1)\n",
        "        X_test = reshape_func(X_test, r=1)\n",
        "    else:\n",
        "        X_train = reshape_func(X_train,shape=w, r=1)\n",
        "        X_test = reshape_func(X_test,shape=w, r=1)\n",
        "    \n",
        "    pred_train = model.predict(X_train)\n",
        "    pred_test = model.predict(X_test)\n",
        "    pred = np.concatenate((pred_train,pred_test),axis=0)\n",
        "    nan = np.array([[np.nan]])\n",
        "    a = np.concatenate((pred_train, nan))\n",
        "    for i in range(w-1):\n",
        "        a = np.concatenate((a, nan))\n",
        "    b = np.concatenate((a,pred_test))\n",
        "    c = np.concatenate((nan,b))\n",
        "    for i in range(w-1):\n",
        "        c = np.concatenate((nan,c))\n",
        "    pred = c.reshape(-1)\n",
        "    df_pred =pd.DataFrame([pred],columns=date)\n",
        "    df = pd.concat([dataframe, df_pred])\n",
        "    df.index=[\"Original Data\", \"Predicted Data\"]\n",
        "    return df"
      ],
      "execution_count": null,
      "outputs": []
    },
    {
      "cell_type": "code",
      "metadata": {
        "id": "Ch1aG5rEsIRw",
        "colab_type": "code",
        "colab": {}
      },
      "source": [
        "def wfv_lstm(windowsize, dataframe, region=\"world\", train=False, init_trainsize=30):\n",
        "    train_RMSE=[]\n",
        "    test_RMSE=[]\n",
        "    for w in windowsize:\n",
        "        if train:\n",
        "            print(\"training with w = {}\".format(w))\n",
        "            tr_rmse, te_rmse, train_size = walk_forward_vali_lstm(dataframe, w=w, idx=init_trainsize)\n",
        "            data=[tr_rmse, te_rmse, train_size]\n",
        "            train_RMSE.append(tr_rmse)\n",
        "            test_RMSE.append(te_rmse)\n",
        "            with open(\"{}LSTM_W{}_mfv.json\".format(region, w), 'w') as file:\n",
        "                json.dump(data, file, indent=2) \n",
        "        else:\n",
        "            with open(\"{}LSTM_W{}_mfv.json\".format(region, w), 'r') as file:\n",
        "                data = json.load(file)\n",
        "            train_RMSE.append(data[0])\n",
        "            test_RMSE.append(data[1])\n",
        "            train_size=data[2]\n",
        "    return train_RMSE, test_RMSE, train_size"
      ],
      "execution_count": null,
      "outputs": []
    },
    {
      "cell_type": "code",
      "metadata": {
        "id": "1c4YSppcsIRz",
        "colab_type": "code",
        "colab": {}
      },
      "source": [
        ""
      ],
      "execution_count": null,
      "outputs": []
    },
    {
      "cell_type": "markdown",
      "metadata": {
        "id": "4ux7joh8sIR3",
        "colab_type": "text"
      },
      "source": [
        "NeuralNets Forecast"
      ]
    },
    {
      "cell_type": "code",
      "metadata": {
        "id": "uoF0TxbdsIR3",
        "colab_type": "code",
        "colab": {}
      },
      "source": [
        "def NN_forecast(df, model, forecast_days=10, w=3, r=1):\n",
        "    df_test = df.copy()\n",
        "    df_test\n",
        "    for i in range(forecast_days):\n",
        "        a = df_test.columns[-1] + timedelta(days=1)\n",
        "        df_test[a] = np.nan\n",
        "        df_test[a].iloc[0] = df_test.iloc[1,-2]\n",
        "        X_train, Y_train, X_test, Y_test = get_traintest(df_test, idx, w=w, r=r)\n",
        "        y_pred = model.predict(X_test, verbose=0)\n",
        "        if y_pred[-1] < df_test.iloc[-1,-2]: # Cumulative cases cannot decease\n",
        "            y_pred[-1] = df_test.iloc[-1,-2]\n",
        "        df_test.iloc[-1,-1]=y_pred[-1]\n",
        "    return df_test"
      ],
      "execution_count": null,
      "outputs": []
    },
    {
      "cell_type": "markdown",
      "metadata": {
        "id": "8piehjfEXOrE",
        "colab_type": "text"
      },
      "source": [
        "LSTM Forecast"
      ]
    },
    {
      "cell_type": "code",
      "metadata": {
        "id": "oFjzkRCGXQo7",
        "colab_type": "code",
        "colab": {}
      },
      "source": [
        "def LSTM_forecast(df, model, forecast_days=10, w=3, r=1):\n",
        "  df_test = df.copy()\n",
        "  df_test\n",
        "  for i in range(forecast_days):\n",
        "    a = df_test.columns[-1] + timedelta(days=1)\n",
        "    df_test[a] = np.nan\n",
        "    df_test[a].iloc[0] = df_test.iloc[1,-2]\n",
        "    X_tr, Y_tr, X_te, Y_te = get_traintest(df_test, idx, w=w, r=1)\n",
        "    if w ==1:\n",
        "      X_tr = reshape_func(X_tr, r=1)\n",
        "      X_te = reshape_func(X_te, r=1)\n",
        "    else:\n",
        "      X_tr = reshape_func(X_tr,shape=w, r=1)\n",
        "      X_te = reshape_func(X_te, shape=w, r=1)\n",
        "    \n",
        "    y_pred = model.predict(X_te, verbose=0)\n",
        "    if y_pred[-1] < df_test.iloc[-1,-2]: # Cumulative cases cannot decease\n",
        "      y_pred[-1] = df_test.iloc[-1,-2]\n",
        "    df_test.iloc[-1,-1]=y_pred[-1]\n",
        "  return df_test"
      ],
      "execution_count": 1,
      "outputs": []
    },
    {
      "cell_type": "code",
      "metadata": {
        "id": "89TQZ8_CXSQs",
        "colab_type": "code",
        "colab": {}
      },
      "source": [
        ""
      ],
      "execution_count": null,
      "outputs": []
    }
  ]
}